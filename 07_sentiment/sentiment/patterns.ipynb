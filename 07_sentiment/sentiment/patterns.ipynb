{
 "cells": [
  {
   "cell_type": "code",
   "execution_count": 1,
   "metadata": {},
   "outputs": [],
   "source": [
    "import re\n",
    "import spacy\n",
    "import pandas as pd\n",
    "\n",
    "from utils import patterns\n",
    "\n",
    "spacy.prefer_gpu()  # type: ignore\n",
    "nlp = spacy.load(\"en_core_web_sm\")"
   ]
  },
  {
   "cell_type": "code",
   "execution_count": 2,
   "metadata": {},
   "outputs": [],
   "source": [
    "df = pd.read_feather(\"tmp.arrow\")\n",
    "df[\"doc\"] = list(nlp.pipe(df[\"text\"]))"
   ]
  },
  {
   "cell_type": "code",
   "execution_count": 3,
   "metadata": {},
   "outputs": [
    {
     "data": {
      "text/html": [
       "<div>\n",
       "<style scoped>\n",
       "    .dataframe tbody tr th:only-of-type {\n",
       "        vertical-align: middle;\n",
       "    }\n",
       "\n",
       "    .dataframe tbody tr th {\n",
       "        vertical-align: top;\n",
       "    }\n",
       "\n",
       "    .dataframe thead th {\n",
       "        text-align: right;\n",
       "    }\n",
       "</style>\n",
       "<table border=\"1\" class=\"dataframe\">\n",
       "  <thead>\n",
       "    <tr style=\"text-align: right;\">\n",
       "      <th></th>\n",
       "      <th>sentence_index</th>\n",
       "      <th>id</th>\n",
       "      <th>text</th>\n",
       "      <th>language</th>\n",
       "      <th>country</th>\n",
       "      <th>user_type</th>\n",
       "      <th>organization</th>\n",
       "      <th>surname</th>\n",
       "      <th>feedback</th>\n",
       "      <th>status</th>\n",
       "      <th>...</th>\n",
       "      <th>tr_number</th>\n",
       "      <th>scope</th>\n",
       "      <th>governance_level</th>\n",
       "      <th>full_name</th>\n",
       "      <th>source</th>\n",
       "      <th>language_detected</th>\n",
       "      <th>tokenized</th>\n",
       "      <th>doc</th>\n",
       "      <th>ent</th>\n",
       "      <th>ent_text</th>\n",
       "    </tr>\n",
       "  </thead>\n",
       "  <tbody>\n",
       "    <tr>\n",
       "      <th>33</th>\n",
       "      <td>33</td>\n",
       "      <td>2665651</td>\n",
       "      <td>Article 7 of the current Proposal defines adve...</td>\n",
       "      <td>en</td>\n",
       "      <td>BEL</td>\n",
       "      <td>ngo</td>\n",
       "      <td>Equinet</td>\n",
       "      <td>None</td>\n",
       "      <td>Equinet welcomes the opportunity to provide co...</td>\n",
       "      <td>PUBLISHED</td>\n",
       "      <td>...</td>\n",
       "      <td>None</td>\n",
       "      <td>None</td>\n",
       "      <td>None</td>\n",
       "      <td>None</td>\n",
       "      <td>attachment</td>\n",
       "      <td>en</td>\n",
       "      <td>[article, 7, of, the, current, proposal, defin...</td>\n",
       "      <td>(Article, 7, of, the, current, Proposal, defin...</td>\n",
       "      <td>(Article, 7, of, the)</td>\n",
       "      <td>Article 7 of the</td>\n",
       "    </tr>\n",
       "  </tbody>\n",
       "</table>\n",
       "<p>1 rows × 27 columns</p>\n",
       "</div>"
      ],
      "text/plain": [
       "    sentence_index       id  \\\n",
       "33              33  2665651   \n",
       "\n",
       "                                                 text language country  \\\n",
       "33  Article 7 of the current Proposal defines adve...       en     BEL   \n",
       "\n",
       "   user_type organization surname  \\\n",
       "33       ngo      Equinet    None   \n",
       "\n",
       "                                             feedback     status  ...  \\\n",
       "33  Equinet welcomes the opportunity to provide co...  PUBLISHED  ...   \n",
       "\n",
       "   tr_number scope governance_level full_name      source  language_detected  \\\n",
       "33      None  None             None      None  attachment                 en   \n",
       "\n",
       "                                            tokenized  \\\n",
       "33  [article, 7, of, the, current, proposal, defin...   \n",
       "\n",
       "                                                  doc                    ent  \\\n",
       "33  (Article, 7, of, the, current, Proposal, defin...  (Article, 7, of, the)   \n",
       "\n",
       "            ent_text  \n",
       "33  Article 7 of the  \n",
       "\n",
       "[1 rows x 27 columns]"
      ]
     },
     "execution_count": 3,
     "metadata": {},
     "output_type": "execute_result"
    }
   ],
   "source": [
    "law_ents = (\n",
    "    df.assign(\n",
    "        ent=lambda df: df[\"doc\"].map(\n",
    "            lambda x: [ent for ent in x.ents if ent.label_ == \"LAW\"]\n",
    "        )\n",
    "    )\n",
    "    .explode(\"ent\")\n",
    "    .dropna(subset=[\"ent\"])\n",
    "    .assign(ent_text=lambda df: df[\"ent\"].map(lambda x: x.text))\n",
    ")\n",
    "law_ents.head(1)"
   ]
  },
  {
   "cell_type": "code",
   "execution_count": 4,
   "metadata": {},
   "outputs": [],
   "source": [
    "# Add some manually created rejections\n",
    "rejected = \"|\".join(\n",
    "    [\n",
    "        \"^Article$\",  # (21) - generally unspecific (the Article, etc.), would require resolution\n",
    "        \"^the Data Governance Act\", # (9) - not AI Act\n",
    "        \"^Recommendation \\\\d+\", # (8+6+6+x) - not AI Act\n",
    "        \"^Recital \\\\d+\", # (7+4+4+x) - too few mentions for each\n",
    "        \"^section\",  # (6+x) - not AI Act\n",
    "        \"^the (?:European|EU) Charter of Fundamental Rights$|^Charter$\",  # (5+3) - not AI Act\n",
    "        \"^(?:the )?Coordinated Plan$\",  # (9+5) - too few mentions\n",
    "        \"^Act$\", # (5) - Spacy false positive (part of sth. larger)\n",
    "        \"^a European Act$\", # (4) - all four also mention \"AI Act\" as abbreviation\n",
    "        \"^Chapter 8$\", # (3) - not AI Act\n",
    "        \"^Paragraph 1$\", # (3) can refer to part of many different articles\n",
    "        \"^the Data Protection Law Enforcement Directive\", # (3) not AI Act\n",
    "        \"^the Data Act\", # (3) not AI Act\n",
    "        \"^the Cybersecurity Act\", # (3) not AI Act\n",
    "        \"^Article III\", # (3) weird, not used often enough\n",
    "        \"^the “Act\", # Introducing abbreviation (in the same sentence as \"AI Act\" is already used)\n",
    "        \"^Chapter\", # (100+) not a unique reference within AI Act\n",
    "        \"^Article (?:114|88)\" # (6+4) - not AI Act\n",
    "    ]\n",
    ")\n",
    "\n",
    "# Find any entities that are neither currently extracted nor rejected\n",
    "filtered = law_ents.query(\n",
    "    \"ent_text.str.count(@patterns.PATTERN, flags=@re.IGNORECASE) == 0 \"\n",
    "    \"and ent_text.str.count(@rejected, flags=@re.IGNORECASE) == 0\"\n",
    ")"
   ]
  },
  {
   "cell_type": "code",
   "execution_count": 5,
   "metadata": {},
   "outputs": [
    {
     "name": "stdout",
     "output_type": "stream",
     "text": [
      "150\n"
     ]
    },
    {
     "data": {
      "text/plain": [
       "Article 35 GDPR                             8\n",
       "Article 29 WP                               6\n",
       "Article 29 Working Party                    5\n",
       "Article 29 Data Protection Working Party    4\n",
       "the Article 29 Working Party                3\n",
       "the Geneva Convention                       2\n",
       "Article 22 GDPR                             2\n",
       "IT Security Act                             2\n",
       "Article 9 GDPR                              2\n",
       "Article 35(7)(a) GDPR                       2\n",
       "Name: ent_text, dtype: int64"
      ]
     },
     "execution_count": 5,
     "metadata": {},
     "output_type": "execute_result"
    }
   ],
   "source": [
    "print(len(filtered))\n",
    "filtered[\"ent_text\"].value_counts(sort=True).head(10)"
   ]
  }
 ],
 "metadata": {
  "kernelspec": {
   "display_name": "env",
   "language": "python",
   "name": "python3"
  },
  "language_info": {
   "codemirror_mode": {
    "name": "ipython",
    "version": 3
   },
   "file_extension": ".py",
   "mimetype": "text/x-python",
   "name": "python",
   "nbconvert_exporter": "python",
   "pygments_lexer": "ipython3",
   "version": "3.10.6"
  },
  "orig_nbformat": 4,
  "vscode": {
   "interpreter": {
    "hash": "4bf6035422afc9dd7f10610966acea882db16c7bee124aef1416905398185a51"
   }
  }
 },
 "nbformat": 4,
 "nbformat_minor": 2
}
