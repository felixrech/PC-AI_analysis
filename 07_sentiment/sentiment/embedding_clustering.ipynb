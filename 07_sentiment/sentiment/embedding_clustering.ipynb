{
 "cells": [
  {
   "cell_type": "markdown",
   "metadata": {},
   "source": [
    "## Setup"
   ]
  },
  {
   "cell_type": "code",
   "execution_count": 1,
   "metadata": {},
   "outputs": [],
   "source": [
    "import os\n",
    "import numpy as np\n",
    "import pandas as pd\n",
    "import plotly.express as px\n",
    "from sentence_transformers import SentenceTransformer\n",
    "\n",
    "%load_ext autoreload\n",
    "%autoreload 2\n",
    "from utils import utils\n",
    "from utils import graphs"
   ]
  },
  {
   "cell_type": "code",
   "execution_count": 2,
   "metadata": {},
   "outputs": [],
   "source": [
    "texts = pd.read_feather(\"../../06_explorer/explorer/data/sentiments.arrow\")\n",
    "texts = texts.dropna(subset=[\"sentiment\"]).reset_index(drop=True)\n",
    "\n",
    "spoof = True\n",
    "if spoof:\n",
    "    texts[\"sentiment\"] = np.where(\n",
    "        texts[[\"positive\", \"negative\"]].max(axis=\"columns\") > 1 / 3,\n",
    "        np.where(texts[\"positive\"] > texts[\"negative\"], \"positive\", \"negative\"),\n",
    "        texts[\"sentiment\"],\n",
    "    )"
   ]
  },
  {
   "attachments": {},
   "cell_type": "markdown",
   "metadata": {},
   "source": [
    "### SBERT embeddings"
   ]
  },
  {
   "cell_type": "code",
   "execution_count": 3,
   "metadata": {},
   "outputs": [],
   "source": [
    "if not os.path.isfile(\"tmp.npy\"):\n",
    "    os.environ[\"TOKENIZERS_PARALLELISM\"] = \"false\"  # Avoid strange warnings\n",
    "    model = SentenceTransformer(\"all-mpnet-base-v2\")\n",
    "    embeddings = model.encode(texts[\"text\"].to_list())\n",
    "    np.save(\"tmp.npy\", embeddings)\n",
    "else:\n",
    "    embeddings = np.load(\"tmp.npy\")"
   ]
  },
  {
   "cell_type": "markdown",
   "metadata": {},
   "source": [
    "## Plotting"
   ]
  },
  {
   "cell_type": "markdown",
   "metadata": {},
   "source": [
    "### Embedding/clustering"
   ]
  },
  {
   "attachments": {},
   "cell_type": "markdown",
   "metadata": {},
   "source": [
    "#### Clustering based on TSNE embedding (of the SBERT embeddings)"
   ]
  },
  {
   "cell_type": "code",
   "execution_count": 4,
   "metadata": {},
   "outputs": [],
   "source": [
    "df = utils.get_tsne_embedding(texts, embeddings, \"eaib\", \"\")\n",
    "df = utils.add_clustering(df)"
   ]
  },
  {
   "cell_type": "code",
   "execution_count": 5,
   "metadata": {},
   "outputs": [
    {
     "data": {
      "application/vnd.plotly.v1+json": {
       "config": {
        "plotlyServerURL": "https://plot.ly"
       },
       "data": [
        {
         "hoverinfo": "text",
         "marker": {
          "color": [
           "rgba(99, 184, 249, 0.75)",
           "rgba(99, 184, 249, 0.75)",
           "rgba(99, 184, 249, 0.75)",
           "rgba(239, 85, 59, 1)",
           "rgba(0, 204, 150, 1)",
           "rgba(99, 184, 249, 0.75)",
           "rgba(99, 184, 249, 0.75)",
           "rgba(99, 184, 249, 0.75)",
           "rgba(0, 204, 150, 1)",
           "rgba(99, 184, 249, 0.75)",
           "rgba(99, 184, 249, 0.75)",
           "rgba(0, 204, 150, 1)",
           "rgba(0, 204, 150, 1)",
           "rgba(99, 184, 249, 0.75)",
           "rgba(99, 184, 249, 0.75)",
           "rgba(99, 184, 249, 0.75)",
           "rgba(99, 184, 249, 0.75)",
           "rgba(0, 204, 150, 1)",
           "rgba(99, 184, 249, 0.75)",
           "rgba(239, 85, 59, 1)",
           "rgba(99, 184, 249, 0.75)",
           "rgba(0, 204, 150, 1)",
           "rgba(99, 184, 249, 0.75)",
           "rgba(99, 184, 249, 0.75)",
           "rgba(0, 204, 150, 1)",
           "rgba(0, 204, 150, 1)",
           "rgba(99, 184, 249, 0.75)",
           "rgba(99, 184, 249, 0.75)",
           "rgba(99, 184, 249, 0.75)",
           "rgba(0, 204, 150, 1)",
           "rgba(99, 184, 249, 0.75)",
           "rgba(0, 204, 150, 1)",
           "rgba(0, 204, 150, 1)",
           "rgba(99, 184, 249, 0.75)",
           "rgba(239, 85, 59, 1)",
           "rgba(99, 184, 249, 0.75)",
           "rgba(99, 184, 249, 0.75)",
           "rgba(0, 204, 150, 1)",
           "rgba(99, 184, 249, 0.75)",
           "rgba(99, 184, 249, 0.75)",
           "rgba(99, 184, 249, 0.75)",
           "rgba(99, 184, 249, 0.75)",
           "rgba(99, 184, 249, 0.75)",
           "rgba(99, 184, 249, 0.75)",
           "rgba(99, 184, 249, 0.75)",
           "rgba(0, 204, 150, 1)",
           "rgba(99, 184, 249, 0.75)",
           "rgba(99, 184, 249, 0.75)",
           "rgba(99, 184, 249, 0.75)",
           "rgba(99, 184, 249, 0.75)",
           "rgba(99, 184, 249, 0.75)",
           "rgba(99, 184, 249, 0.75)",
           "rgba(99, 184, 249, 0.75)",
           "rgba(0, 204, 150, 1)",
           "rgba(99, 184, 249, 0.75)",
           "rgba(99, 184, 249, 0.75)",
           "rgba(99, 184, 249, 0.75)",
           "rgba(0, 204, 150, 1)",
           "rgba(0, 204, 150, 1)",
           "rgba(0, 204, 150, 1)",
           "rgba(99, 184, 249, 0.75)",
           "rgba(99, 184, 249, 0.75)",
           "rgba(99, 184, 249, 0.75)",
           "rgba(0, 204, 150, 1)",
           "rgba(99, 184, 249, 0.75)",
           "rgba(99, 184, 249, 0.75)",
           "rgba(99, 184, 249, 0.75)",
           "rgba(99, 184, 249, 0.75)",
           "rgba(99, 184, 249, 0.75)",
           "rgba(99, 184, 249, 0.75)",
           "rgba(0, 204, 150, 1)",
           "rgba(0, 204, 150, 1)",
           "rgba(0, 204, 150, 1)",
           "rgba(99, 184, 249, 0.75)",
           "rgba(239, 85, 59, 1)",
           "rgba(0, 204, 150, 1)",
           "rgba(99, 184, 249, 0.75)",
           "rgba(99, 184, 249, 0.75)",
           "rgba(99, 184, 249, 0.75)",
           "rgba(0, 204, 150, 1)",
           "rgba(99, 184, 249, 0.75)",
           "rgba(0, 204, 150, 1)",
           "rgba(0, 204, 150, 1)",
           "rgba(99, 184, 249, 0.75)",
           "rgba(99, 184, 249, 0.75)",
           "rgba(99, 184, 249, 0.75)",
           "rgba(99, 184, 249, 0.75)",
           "rgba(99, 184, 249, 0.75)",
           "rgba(99, 184, 249, 0.75)",
           "rgba(99, 184, 249, 0.75)",
           "rgba(99, 184, 249, 0.75)",
           "rgba(99, 184, 249, 0.75)",
           "rgba(0, 204, 150, 1)",
           "rgba(99, 184, 249, 0.75)",
           "rgba(99, 184, 249, 0.75)",
           "rgba(99, 184, 249, 0.75)",
           "rgba(99, 184, 249, 0.75)",
           "rgba(0, 204, 150, 1)",
           "rgba(99, 184, 249, 0.75)",
           "rgba(99, 184, 249, 0.75)",
           "rgba(239, 85, 59, 1)",
           "rgba(99, 184, 249, 0.75)",
           "rgba(99, 184, 249, 0.75)",
           "rgba(99, 184, 249, 0.75)",
           "rgba(99, 184, 249, 0.75)",
           "rgba(0, 204, 150, 1)",
           "rgba(0, 204, 150, 1)",
           "rgba(99, 184, 249, 0.75)",
           "rgba(99, 184, 249, 0.75)",
           "rgba(99, 184, 249, 0.75)",
           "rgba(0, 204, 150, 1)",
           "rgba(99, 184, 249, 0.75)",
           "rgba(239, 85, 59, 1)",
           "rgba(0, 204, 150, 1)",
           "rgba(99, 184, 249, 0.75)",
           "rgba(0, 204, 150, 1)",
           "rgba(0, 204, 150, 1)",
           "rgba(99, 184, 249, 0.75)",
           "rgba(99, 184, 249, 0.75)",
           "rgba(0, 204, 150, 1)",
           "rgba(99, 184, 249, 0.75)",
           "rgba(99, 184, 249, 0.75)",
           "rgba(99, 184, 249, 0.75)",
           "rgba(0, 204, 150, 1)",
           "rgba(99, 184, 249, 0.75)",
           "rgba(99, 184, 249, 0.75)",
           "rgba(99, 184, 249, 0.75)",
           "rgba(99, 184, 249, 0.75)",
           "rgba(99, 184, 249, 0.75)",
           "rgba(99, 184, 249, 0.75)",
           "rgba(99, 184, 249, 0.75)",
           "rgba(99, 184, 249, 0.75)",
           "rgba(99, 184, 249, 0.75)",
           "rgba(99, 184, 249, 0.75)",
           "rgba(99, 184, 249, 0.75)",
           "rgba(0, 204, 150, 1)",
           "rgba(0, 204, 150, 1)",
           "rgba(99, 184, 249, 0.75)",
           "rgba(99, 184, 249, 0.75)",
           "rgba(239, 85, 59, 1)",
           "rgba(99, 184, 249, 0.75)",
           "rgba(99, 184, 249, 0.75)",
           "rgba(99, 184, 249, 0.75)",
           "rgba(99, 184, 249, 0.75)",
           "rgba(99, 184, 249, 0.75)",
           "rgba(99, 184, 249, 0.75)",
           "rgba(99, 184, 249, 0.75)",
           "rgba(99, 184, 249, 0.75)",
           "rgba(0, 204, 150, 1)",
           "rgba(0, 204, 150, 1)",
           "rgba(0, 204, 150, 1)",
           "rgba(239, 85, 59, 1)",
           "rgba(0, 204, 150, 1)",
           "rgba(239, 85, 59, 1)",
           "rgba(99, 184, 249, 0.75)",
           "rgba(239, 85, 59, 1)",
           "rgba(0, 204, 150, 1)",
           "rgba(99, 184, 249, 0.75)",
           "rgba(99, 184, 249, 0.75)",
           "rgba(239, 85, 59, 1)",
           "rgba(99, 184, 249, 0.75)",
           "rgba(99, 184, 249, 0.75)",
           "rgba(99, 184, 249, 0.75)",
           "rgba(0, 204, 150, 1)",
           "rgba(239, 85, 59, 1)",
           "rgba(0, 204, 150, 1)",
           "rgba(0, 204, 150, 1)",
           "rgba(99, 184, 249, 0.75)",
           "rgba(0, 204, 150, 1)",
           "rgba(99, 184, 249, 0.75)",
           "rgba(99, 184, 249, 0.75)",
           "rgba(99, 184, 249, 0.75)",
           "rgba(99, 184, 249, 0.75)",
           "rgba(99, 184, 249, 0.75)",
           "rgba(99, 184, 249, 0.75)",
           "rgba(99, 184, 249, 0.75)",
           "rgba(99, 184, 249, 0.75)",
           "rgba(239, 85, 59, 1)",
           "rgba(0, 204, 150, 1)",
           "rgba(99, 184, 249, 0.75)",
           "rgba(0, 204, 150, 1)",
           "rgba(99, 184, 249, 0.75)",
           "rgba(0, 204, 150, 1)",
           "rgba(99, 184, 249, 0.75)",
           "rgba(99, 184, 249, 0.75)",
           "rgba(99, 184, 249, 0.75)",
           "rgba(99, 184, 249, 0.75)",
           "rgba(99, 184, 249, 0.75)",
           "rgba(99, 184, 249, 0.75)",
           "rgba(0, 204, 150, 1)",
           "rgba(99, 184, 249, 0.75)",
           "rgba(99, 184, 249, 0.75)",
           "rgba(99, 184, 249, 0.75)",
           "rgba(0, 204, 150, 1)",
           "rgba(99, 184, 249, 0.75)",
           "rgba(99, 184, 249, 0.75)",
           "rgba(99, 184, 249, 0.75)",
           "rgba(99, 184, 249, 0.75)",
           "rgba(99, 184, 249, 0.75)",
           "rgba(0, 204, 150, 1)",
           "rgba(99, 184, 249, 0.75)",
           "rgba(99, 184, 249, 0.75)",
           "rgba(0, 204, 150, 1)",
           "rgba(99, 184, 249, 0.75)",
           "rgba(0, 204, 150, 1)",
           "rgba(99, 184, 249, 0.75)",
           "rgba(0, 204, 150, 1)",
           "rgba(0, 204, 150, 1)",
           "rgba(99, 184, 249, 0.75)",
           "rgba(99, 184, 249, 0.75)",
           "rgba(99, 184, 249, 0.75)",
           "rgba(99, 184, 249, 0.75)",
           "rgba(0, 204, 150, 1)",
           "rgba(99, 184, 249, 0.75)",
           "rgba(99, 184, 249, 0.75)",
           "rgba(99, 184, 249, 0.75)",
           "rgba(99, 184, 249, 0.75)",
           "rgba(99, 184, 249, 0.75)",
           "rgba(99, 184, 249, 0.75)",
           "rgba(99, 184, 249, 0.75)",
           "rgba(99, 184, 249, 0.75)",
           "rgba(99, 184, 249, 0.75)",
           "rgba(99, 184, 249, 0.75)",
           "rgba(99, 184, 249, 0.75)",
           "rgba(99, 184, 249, 0.75)",
           "rgba(99, 184, 249, 0.75)",
           "rgba(0, 204, 150, 1)",
           "rgba(99, 184, 249, 0.75)",
           "rgba(99, 184, 249, 0.75)",
           "rgba(99, 184, 249, 0.75)",
           "rgba(99, 184, 249, 0.75)",
           "rgba(0, 204, 150, 1)",
           "rgba(99, 184, 249, 0.75)"
          ],
          "line": {
           "width": 0
          },
          "size": [
           5,
           5,
           5,
           9,
           9,
           5,
           5,
           5,
           9,
           5,
           5,
           9,
           9,
           5,
           5,
           5,
           5,
           9,
           5,
           9,
           5,
           9,
           5,
           5,
           9,
           9,
           5,
           5,
           5,
           9,
           5,
           9,
           9,
           5,
           9,
           5,
           5,
           9,
           5,
           5,
           5,
           5,
           5,
           5,
           5,
           9,
           5,
           5,
           5,
           5,
           5,
           5,
           5,
           9,
           5,
           5,
           5,
           9,
           9,
           9,
           5,
           5,
           5,
           9,
           5,
           5,
           5,
           5,
           5,
           5,
           9,
           9,
           9,
           5,
           9,
           9,
           5,
           5,
           5,
           9,
           5,
           9,
           9,
           5,
           5,
           5,
           5,
           5,
           5,
           5,
           5,
           5,
           9,
           5,
           5,
           5,
           5,
           9,
           5,
           5,
           9,
           5,
           5,
           5,
           5,
           9,
           9,
           5,
           5,
           5,
           9,
           5,
           9,
           9,
           5,
           9,
           9,
           5,
           5,
           9,
           5,
           5,
           5,
           9,
           5,
           5,
           5,
           5,
           5,
           5,
           5,
           5,
           5,
           5,
           5,
           9,
           9,
           5,
           5,
           9,
           5,
           5,
           5,
           5,
           5,
           5,
           5,
           5,
           9,
           9,
           9,
           9,
           9,
           9,
           5,
           9,
           9,
           5,
           5,
           9,
           5,
           5,
           5,
           9,
           9,
           9,
           9,
           5,
           9,
           5,
           5,
           5,
           5,
           5,
           5,
           5,
           5,
           9,
           9,
           5,
           9,
           5,
           9,
           5,
           5,
           5,
           5,
           5,
           5,
           9,
           5,
           5,
           5,
           9,
           5,
           5,
           5,
           5,
           5,
           9,
           5,
           5,
           9,
           5,
           9,
           5,
           9,
           9,
           5,
           5,
           5,
           5,
           9,
           5,
           5,
           5,
           5,
           5,
           5,
           5,
           5,
           5,
           5,
           5,
           5,
           5,
           9,
           5,
           5,
           5,
           5,
           9,
           5
          ],
          "symbol": [
           "diamond",
           "diamond",
           "diamond",
           "circle",
           "square",
           "diamond",
           "diamond",
           "diamond",
           "square",
           "diamond",
           "diamond",
           "square",
           "square",
           "diamond",
           "diamond",
           "diamond",
           "diamond",
           "square",
           "diamond",
           "circle",
           "diamond",
           "square",
           "diamond",
           "diamond",
           "square",
           "square",
           "diamond",
           "diamond",
           "diamond",
           "square",
           "diamond",
           "square",
           "square",
           "diamond",
           "cross",
           "diamond",
           "diamond",
           "square",
           "diamond",
           "diamond",
           "diamond",
           "diamond",
           "diamond",
           "diamond",
           "diamond",
           "square",
           "diamond",
           "diamond",
           "diamond",
           "diamond",
           "diamond",
           "diamond",
           "diamond",
           "square",
           "diamond",
           "diamond",
           "diamond",
           "square",
           "square",
           "square",
           "diamond",
           "diamond",
           "diamond",
           "square",
           "diamond",
           "diamond",
           "diamond",
           "diamond",
           "diamond",
           "diamond",
           "square",
           "square",
           "square",
           "diamond",
           "circle",
           "square",
           "diamond",
           "diamond",
           "diamond",
           "square",
           "diamond",
           "square",
           "square",
           "diamond",
           "diamond",
           "diamond",
           "diamond",
           "diamond",
           "diamond",
           "diamond",
           "diamond",
           "diamond",
           "square",
           "diamond",
           "diamond",
           "diamond",
           "diamond",
           "square",
           "diamond",
           "diamond",
           "cross",
           "diamond",
           "diamond",
           "diamond",
           "diamond",
           "square",
           "square",
           "diamond",
           "diamond",
           "diamond",
           "square",
           "diamond",
           "cross",
           "square",
           "diamond",
           "square",
           "square",
           "diamond",
           "diamond",
           "square",
           "diamond",
           "diamond",
           "diamond",
           "square",
           "diamond",
           "diamond",
           "diamond",
           "diamond",
           "diamond",
           "diamond",
           "diamond",
           "diamond",
           "diamond",
           "diamond",
           "diamond",
           "square",
           "square",
           "diamond",
           "diamond",
           "circle",
           "diamond",
           "diamond",
           "diamond",
           "diamond",
           "diamond",
           "diamond",
           "diamond",
           "diamond",
           "square",
           "square",
           "square",
           "circle",
           "square",
           "cross",
           "diamond",
           "cross",
           "square",
           "diamond",
           "diamond",
           "circle",
           "diamond",
           "diamond",
           "diamond",
           "square",
           "circle",
           "square",
           "square",
           "diamond",
           "square",
           "diamond",
           "diamond",
           "diamond",
           "diamond",
           "diamond",
           "diamond",
           "diamond",
           "diamond",
           "circle",
           "square",
           "diamond",
           "square",
           "diamond",
           "square",
           "diamond",
           "diamond",
           "diamond",
           "diamond",
           "diamond",
           "diamond",
           "square",
           "diamond",
           "diamond",
           "diamond",
           "square",
           "diamond",
           "diamond",
           "diamond",
           "diamond",
           "diamond",
           "square",
           "diamond",
           "diamond",
           "square",
           "diamond",
           "square",
           "diamond",
           "square",
           "square",
           "diamond",
           "diamond",
           "diamond",
           "diamond",
           "square",
           "diamond",
           "diamond",
           "diamond",
           "diamond",
           "diamond",
           "diamond",
           "diamond",
           "diamond",
           "diamond",
           "diamond",
           "diamond",
           "diamond",
           "diamond",
           "square",
           "diamond",
           "diamond",
           "diamond",
           "diamond",
           "square",
           "diamond"
          ]
         },
         "mode": "markers",
         "text": [
          "Facilitate accountability: Include oversight and enforcement in-<br>frastructures that work for people: a. Ensure a cohesive national<br>enforcement structure; b. Include flagging and redress mechanisms<br>allowing individuals and collectives to contest and seek redress for<br>all AI systems that cause harm and threaten fundamental rights; c.<br>Implement a more democratic governance infrastructure, with greater<br>independence for the European <b>AI board</b>.<br><br>1.6% positive, 2.6% negative<br>by Digitalcourage e.V. (ngo)<br>Cluster: 0",
          "Article 56 establishes the European <b>AI Board</b>, however removes<br>the competence of this Board (which appeared in previous verisons) to<br>present additions to the list of high risk AI systems.<br><br>2.3% positive, 27.9% negative<br>by Digitalcourage e.V. (ngo)<br>Cluster: 0",
          "Further, due to the power of the European Commission in the European<br>AI Board, it raises significant questions relating to the independence<br>of national supervisory authorities, which report to the <b>AI<br>board</b>.<br><br>0.4% positive, 3.1% negative<br>by Digitalcourage e.V. (ngo)<br>Cluster: 0",
          "Further, there must be more independence for the European <b>AI<br>board</b> and more distributed scope of governance funtions.<br><br>4.7% positive, 79.6% negative<br>by Digitalcourage e.V. (ngo)<br>Cluster: -1",
          "c) Implement a more democratic governance infrastructure, with greater<br>independence for the European AI board: i. Ensure that the mandate to<br>make substantive updates to the legal framework (updates to high risk<br>use cases, prohibitions) is held by a representative and<br>democractically accountable European <b>AI Board</b>, not solely with<br>the European Commission; ii.<br><br>49.8% positive, 3.8% negative<br>by Digitalcourage e.V. (ngo)<br>Cluster: 0",
          "Include within the structure of the <b>AI Board</b> representatives of<br>social partners and civil society, in particular those representing<br>marginalised groups.<br><br>0.9% positive, 0.2% negative<br>by Digitalcourage e.V. (ngo)<br>Cluster: 0",
          "Finally, CLAIRE, which represents academia, research institutes and<br>industry networks, would be happy to contribute as a member of the<br>European AI Board (<b>EAIB</b>).<br><br>11.0% positive, 0.3% negative<br>by Confederation of Laboratories for AI Research in Europe (CLAIRE)<br>(ngo)<br>Cluster: 0",
          "The Act should direct member states, national competent authorities,<br>and the European <b>AI Board</b> to engage in dialogues with<br>democratic partners, such as the United States, to advance<br>interoperable approaches to AI governance and create a common<br>understanding of a trade/economic impact analysis for this work.<br><br>1.5% positive, 0.7% negative<br>by U.S. Chamber of Commerce (company)<br>Cluster: 0",
          "Furthermore, to achieve harmonized application of this regulation<br>across the EU, opinions and recommendations issued by the European<br><b>Artificial Intelligence Board</b> on the application of this<br>regulation should be binding for member state authorities, which<br>should adopt them in their own acts.<br><br>47.7% positive, 1.1% negative<br>by U.S. Chamber of Commerce (company)<br>Cluster: 0",
          "As such, we advise the inclusion of appropriate business consultation<br>is mandatory for the policymaking of the various institutions involved<br>in the governance, coordination, and enforcement of oversight of AI in<br>the EU, including the ‘European <b>AI Board</b>’ and revising the list<br>of high-risk applications.<br><br>0.3% positive, 0.4% negative<br>by World Employment Confederation - Europe (company)<br>Cluster: 0",
          "The proposed European <b>AI Board</b> should therefore engage with<br>international and European standardisation organisations to leverage<br>existing activities and ensure alignment.<br><br>1.0% positive, 1.3% negative<br>by DIGITALEUROPE (business_association)<br>Cluster: 0",
          "The European <b>AI Board</b> and the Commission, in close cooperation<br>with the industry, should play a key role in coordinating and advising<br>Member States, and possess the necessary powers to ensure consistent<br>application.<br><br>33.6% positive, 0.7% negative<br>by DIGITALEUROPE (business_association)<br>Cluster: 0",
          "Additionally, the <b>AI Board</b> should have extended powers to<br>oversee how sandboxes are managed and avoid national fragmentation.<br><br>95.4% positive, 0.7% negative<br>by DIGITALEUROPE (business_association)<br>Cluster: 0",
          "In terms of supervision the Commission proposal defines a new entity<br>named <b>Artificial Intelligence Board</b> in order to enhance<br>coordination among national authorities.<br><br>3.2% positive, 0.6% negative<br>by BETTER FINANCE  (ngo)<br>Cluster: 0",
          "Inclusivity and multi-disciplinarity We recommend the <b>AI Board</b><br>to not only include representatives from the national authorities, but<br>from wider society as well, including the social partners and NGO’s.<br><br>27.9% positive, 1.3% negative<br>by ALLAI (ngo)<br>Cluster: 0",
          "Virginia Dignum is co-founder and board member of ALLAI; professor of<br>Artificial Intelligence at Umeå University; scientific director of the<br>Wallenberg AI, Autonomous Systems and Software Program – Humanities<br>and Society (WASP-HS); former member of the European High Level Expert<br>group on AI; member of the World Economic Forum <b>AI Board</b>;<br>expert advisor on AI for UNICEF; member of GPAI’s working group on<br>Responsible AI.<br><br>26.6% positive, 0.6% negative<br>by ALLAI (ngo)<br>Cluster: 0",
          "In summary, our recommendations are to: •       Empower the Commission<br>to add high-risk AI systems to the list in Annex III that: are under<br>areas outside of those listed in points 1-8 pose a substantial risk of<br>societal harm •      Consider how to identify and regulate high-risk<br>uses of general purpose systems •       Consider how to regulate<br>companies that may intentionally underemphasise the role that AI plays<br>in their decision-making •      Authorise the European <b>Artificial<br>Intelligence Board</b> to propose changes to the regulation’s Annexes<br>•    Schedule specific timeframes on which to consider revisions to<br>which AI systems are covered by the regulation • Broaden the current<br>requirements to include evaluation of broader societal harms, beyond<br>risks to health and safety or fundamental rights •     Be aware of the<br>risk of common specifications being ‘captured’ by industry, and<br>maximise participation in the setting of these specifications to<br>reduce this risk •     Provide even further clarification and<br>indicative examples in the Chapter 2 •   Connect the proposed<br>regulation to a broader governance ecosystem Submission of Feedback to<br>the European Commission’s Proposal for a Regulation laying down<br>harmonised rules on artificial intelligence Sam Clarke, Jess<br>Whittlestone, Matthijs Maas, Haydn Belfield, José Hernández-Orallo,<br>Seán Ó hÉigeartaigh 1 Leverhulme Centre for the Future of<br>Intelligence, University of Cambridge 2 Centre for the Study of<br>Existential Risk, University of Cambridge 3 Universitat Politecnica de<br>Valencia Introduction We are a group of academic researchers on AI<br>with positions at the University of Cambridge’s Leverhulme Centre for<br>the Future of Intelligence (LCFI) and Centre for the Study of<br>Existential Risk (CSER), and the Universitat Politecnica de Valencia.<br><br>1.6% positive, 1.3% negative<br>by University of Cambridge (Leverhulme Centre for the Future of<br>Intelligence and Centre for the Study of Existential Risk)<br>(academic_research_institution)<br>Cluster: 0",
          "Specifically, we suggest that: The European <b>Artificial Intelligence<br>Board</b> be authorised to propose changes to the regulation’s<br>Annexes, including the list of restricted and high-risk systems.<br><br>34.6% positive, 10.2% negative<br>by University of Cambridge (Leverhulme Centre for the Future of<br>Intelligence and Centre for the Study of Existential Risk)<br>(academic_research_institution)<br>Cluster: 0",
          "Full participation in common specification design processes Second,<br>regarding common specifications, we recommend full participation in<br>processes by the <b>AI Board</b> and by civil society to mitigate any<br>risk of specifications being overly influenced or ‘captured’ by<br>industry.<br><br>24.1% positive, 2.2% negative<br>by University of Cambridge (Leverhulme Centre for the Future of<br>Intelligence and Centre for the Study of Existential Risk)<br>(academic_research_institution)<br>Cluster: 0",
          "We suggest that the Commission reduce this risk by maximising<br>participation in the setting of common specifications - though<br>involving <b>the Board</b> in this process, and allowing civil society<br>to attend meetings and submit proposals.<br><br>3.3% positive, 58.0% negative<br>by University of Cambridge (Leverhulme Centre for the Future of<br>Intelligence and Centre for the Study of Existential Risk)<br>(academic_research_institution)<br>Cluster: -1",
          "If <b>the Board</b> is empowered to propose changes to the<br>Regulation’s Annexes, this would allow insights from monitoring and<br>progress in assessment to be incorporated into the classification and<br>assessment of high-risk systems.<br><br>10.9% positive, 9.7% negative<br>by University of Cambridge (Leverhulme Centre for the Future of<br>Intelligence and Centre for the Study of Existential Risk)<br>(academic_research_institution)<br>Cluster: 0",
          "We welcome that “the Commission and <b>the Board</b> shall encourage<br>and facilitate the drawing up of codes of conduct intended to foster<br>the voluntary application to AI systems of requirements related for<br>example to environmental sustainability, [...] on the basis of clear<br>objectives and key performance indicators to measure the achievement<br>of those objectives.”<br><br>68.0% positive, 1.6% negative<br>by Climate Change AI (ngo)<br>Cluster: 0",
          "In Articles 56, 57 and 58 of the Artificial Intelligence Act, the<br>Commission sets out its plans to establish European <b>Artificial<br>Intelligence Board</b>.<br><br>1.4% positive, 0.2% negative<br>by 5G Automotive Association (business_association)<br>Cluster: 0",
          "Specifically, Article 57 states: Article 57 Structure of <b>the<br>Board</b> 1.<br><br>0.1% positive, 0.4% negative<br>by 5G Automotive Association (business_association)<br>Cluster: 0",
          "<b>The Board</b> shall be composed of the national supervisory<br>authorities, who shall be represented by the head or equivalent high-<br>level official of that authority, and the European Data Protection<br>Supervisor.<br><br>40.9% positive, 3.5% negative<br>by 5G Automotive Association (business_association)<br>Cluster: 0",
          "<b>The Board</b> may establish sub-groups as appropriate for the<br>purpose of examining specific questions.<br><br>36.4% positive, 2.6% negative<br>by 5G Automotive Association (business_association)<br>Cluster: 0",
          "<b>The Board</b> may invite external experts and observers to attend<br>its meetings and may hold exchanges with interested third parties to<br>inform its activities to an appropriate extent […].<br><br>15.7% positive, 1.8% negative<br>by 5G Automotive Association (business_association)<br>Cluster: 0",
          "As such, we consider that the representation of industry at the<br>European <b>AI Board</b> would be essential.<br><br>3.7% positive, 0.9% negative<br>by 5G Automotive Association (business_association)<br>Cluster: 0",
          "We would recommend that the Commission formally allows the active<br>participation of industry representatives in the Board’s various sub-<br>groups and as observers at <b>the Board</b> itself.<br><br>5.1% positive, 1.4% negative<br>by 5G Automotive Association (business_association)<br>Cluster: 0",
          "We feel the European Commission is setting itself up for success by<br>considering adaptive, forward-looking instruments like the European<br><b>AI Board</b> and flexible tools like the sandboxes.<br><br>41.9% positive, 0.7% negative<br>by The Future Society (ngo)<br>Cluster: 0",
          "> A more effective governance response to technological trends and<br>their implications Ensure information flows between national and<br>European levels of governance and that this information is ready for<br>EU-wide analysis; Invest in the capacity to systematically compile at<br>the EU-level and analyse incident reports from all Member States;<br>Ensure the expert group supporting the European AI Board include a<br>significant share of members from consumer organisations and civil<br>society; To limit regulatory uncertainty, reduce the time between a<br>concerning finding from the European <b>AI Board</b> and the<br>Commission’s decision to adapt the regulatory framework or the<br>justification for not adapting it.<br><br>2.8% positive, 3.6% negative<br>by The Future Society (ngo)<br>Cluster: 0",
          "We feel the European Commission is setting itself up for success by<br>considering adaptive, forward-looking instruments like the European<br><b>AI Board</b> and flexible tools like the sandboxes.<br><br>41.9% positive, 0.7% negative<br>by The Future Society (ngo)<br>Cluster: 0",
          "A. Investing in smart governance capabilities for AI and the Digital<br>Single Market In the AI Act, the European Commission has proposed the<br>development of interesting governance capabilities, such as the<br>European <b>AI Board</b> and the regulatory sandboxes.<br><br>70.7% positive, 0.5% negative<br>by The Future Society (ngo)<br>Cluster: 0",
          "This analysis role could naturally fall within the European <b>AI<br>Board</b> (as already hinted at in Articles 56(2)(b) and 58),<br>especially if informed by an associated expert group that include<br>consumer associations and civil society.<br><br>0.5% positive, 0.3% negative<br>by The Future Society (ngo)<br>Cluster: 0",
          "We consider however that the envisaged European <b>AI Board</b> will<br>not have sufficient powers to speedily address issues raised.<br><br>0.5% positive, 98.0% negative<br>by The Future Society (ngo)<br>Cluster: 0",
          "To limit the regulatory uncertainty triggered by a debate or a red<br>flag raised by the Board, we recommend that the European AI Board’s<br>recommendations be strong enough to automatically launch a discussion<br>within the European Commission about whether and how to amend the<br>relevant Act’s Annex(es) accordingly, and that rejection of the<br>European <b>AI Board</b>’s recommendation be quickly justified by a<br>response from the European Commission.<br><br>26.5% positive, 11.4% negative<br>by The Future Society (ngo)<br>Cluster: 0",
          "> A more effective governance response to technological trends and<br>their implications Ensure information flows between national and<br>European levels of governance and that this information is ready for<br>EU-wide analysis; Invest in the capacity to systematically compile at<br>the EU-level and analyse incident reports from all Member States;<br>Ensure the expert group supporting the European AI Board include a<br>significant share of members from consumer organisations and civil<br>society; To limit regulatory uncertainty, reduce the time between a<br>concerning finding from the European <b>AI Board</b> and the<br>Commission’s decision to adapt the regulatory framework or the<br>justification for not adapting it.<br><br>2.8% positive, 3.6% negative<br>by The Future Society (ngo)<br>Cluster: 0",
          "Article 56 and Article 58 A European <b>Artificial Intelligence<br>Board</b> shall be established.<br><br>44.7% positive, 1.4% negative<br>by ABB (company)<br>Cluster: 0",
          "Creating a European <b>Artificial Intelligence Board</b> is a step in<br>the right direction, but the relevant articles (56 & 57) should also<br>include a more rigorous stakeholder representation and also specific<br>procedure of stakeholder consultation, according to the principles of<br>transparency and representativeness.<br><br>29.2% positive, 1.1% negative<br>by European Healthcare Fraud and Corruption Network-AI Working Group<br>(ngo)<br>Cluster: 0",
          "The European <b>Artificial Intelligence Board</b> envisaged under Art.<br><br>1.6% positive, 1.3% negative<br>by None (eu_citizen)<br>Cluster: 0",
          "Those side effects might be resolved by envisaging additional<br>mechanisms in the final text of the Artificial Intelligence Act for<br>regulatory guidance (such as more structured soft guidance, comfort<br>letters to be issued by national supervisory authorities following<br>consultations among themselves and with the European <b>Artificial<br>Intelligence Board</b>, etc.).<br><br>0.7% positive, 1.0% negative<br>by None (eu_citizen)<br>Cluster: 0",
          "Governance ...........................................................<br>......................................................................<br>.... 4 a. Conformity assessment ......................................<br>......................................................................<br>... 4 b. European Data Protection Supervisor (EDPS) ..................<br>........................................................... 4 c.<br>European AI Board (<b>EAIB</b>) ......................................<br>......................................................................<br>4 d. The role of industry experts and national institutions<br>................................................................ 4 2.<br><br>14.0% positive, 2.1% negative<br>by Impact AI (ngo)<br>Cluster: 0",
          "c. European AI Board (EAIB) The composition of the <b>AI Board</b> and<br>the role of company experts (if possible) should be specified more<br>precisely.<br><br>3.4% positive, 1.6% negative<br>by Impact AI (ngo)<br>Cluster: 0",
          "The Proposal foresees to give a predominant role to the EC in the<br><b>EAIB</b>.<br><br>0.8% positive, 0.3% negative<br>by Impact AI (ngo)<br>Cluster: 0",
          "Not only would the latter be part of the EAIB, but it would also chair<br>it and have a right of veto for the adoption of the <b>EAIB</b> rules<br>of procedure.<br><br>3.6% positive, 0.3% negative<br>by Impact AI (ngo)<br>Cluster: 0",
          "Therefore, we believe that the future AI Regulation should give more<br>autonomy to the <b>EAIB</b> and ensure it can act on its own<br>initiative, in order to allow it to truly ensure the consistent<br>application of the regulation across the single market.<br><br>62.9% positive, 1.8% negative<br>by Impact AI (ngo)<br>Cluster: 0",
          "o How exactly the <b>AI Board</b> will be organized and how it will<br>operate?<br><br>2.8% positive, 0.7% negative<br>by Impact AI (ngo)<br>Cluster: 0",
          "EU Agency for AI: Similar to the proposed European <b>Artificial<br>Intelligence Board</b>, SHERPA called for the creation of a new<br>centralised independent EU Agency for AI to help ensure cooperation,<br>coordination and consistent application of EU law.<br><br>0.5% positive, 0.5% negative<br>by SHERPA Project (ngo)<br>Cluster: 0",
          "EU Agency for AI The proposed Regulation calls for establishing a<br>European Artificial Intelligence Board (<b>the Board</b>) to<br>facilitate implementation of the regulatory framework.<br><br>2.5% positive, 1.8% negative<br>by SHERPA Project (ngo)<br>Cluster: 0",
          "The Commission and <b>the Board</b> shall encourage and facilitate the<br>drawing up of codes of conduct intended to foster the voluntary<br>application to AI systems of requirements related for example to<br>environmental sustainability, accessibility for persons with a<br>disability, stakeholders participation in the design and development<br>of the AI systems and diversity of development teams on the basis of<br>clear objectives and key performance indicators to measure the<br>achievement of those objectives.<br><br>14.1% positive, 1.6% negative<br>by OpenForum Europe (ngo)<br>Cluster: 0",
          "The Commission and <b>the Board</b> shall encourage and facilitate the<br>drawing up and use of standards and technical specifications codes of<br>conduct intended to foster the voluntary application to AI systems of<br>requirements related for example to environmental sustainability,<br>accessibility for persons with a disability, stakeholders<br>participation in the design and development of the AI systems and<br>diversity of development teams on the basis of clear objectives and<br>key performance indicators to measure the both, including with the<br>involvement of users and any interested stakeholders and their<br>representative organisations.<br><br>2.8% positive, 0.8% negative<br>by OpenForum Europe (ngo)<br>Cluster: 0",
          "The Commission and <b>the Board</b> shall take into account the<br>specific interests and needs of the small-scale providers and start-<br>ups when encouraging and facilitating the drawing up of codes of<br>conduct.<br><br>8.5% positive, 2.5% negative<br>by OpenForum Europe (ngo)<br>Cluster: 0",
          "The Commission and <b>the Board</b> shall take into account the<br>specific interests and needs of the small-scale providers and start-<br>ups when encouraging and facilitating the drawing up of codes of<br>conduct.<br><br>8.5% positive, 2.5% negative<br>by OpenForum Europe (ngo)<br>Cluster: 0",
          "The proposed European <b>Artificial Intelligence Board</b> is a<br>welcome suggestion but is too closely aligned with the Commission to<br>be fully effective, as it would only provide advice and assistance to<br>the Commission.<br><br>97.7% positive, 1.0% negative<br>by Trilateral Research (company)<br>Cluster: 0",
          "Best regards, on behalf of the European EdTech Alliance, Svenia<br>Busson, VP, EdTech France, contact: +33 6 73 70 49 18,<br>svenia@learnspace.fr Jannie Jeppesen, CEO, Swedish Edtech Industry<br>Esben Trier, CEO, EdTech Denmark Roel Bellinga, Member of the Board,<br>Dutch Edtech Philippe Mero, VP, AFINEF Pierre Laborde, VP, AFINEF Märt<br>Aro, Chairman of <b>the Board</b>, Nordic EdTech Forum - N8 Heini<br>Karppinen, Chairman, Edtech Finland Anne-Charlotte Monneret, Director,<br>EdTech France Tobias Himmerich, CEO, of EDUvation, Germany The<br>European EdTech Alliance is a not-for-profit international trade<br>association that, through its members, represents more than 1500<br>EdTech start-ups and companies across 23 countries in Europe and that<br>we exist to encourage cross-border cooperation and education<br>innovation in Europe.<br><br>22.3% positive, 0.8% negative<br>by European Edtech Alliance (ngo)<br>Cluster: 0",
          "The Commission should therefore consider introducing a one-stop-shop<br>mechanism for cross-border activities, while also enhancing the<br>existing cooperation and consistency measures, such as by<br>strengthening the role of the European <b>Artificial Intelligence<br>Board</b>.<br><br>23.4% positive, 1.0% negative<br>by Hogan Lovells International LLP (company)<br>Cluster: 0",
          "Account for the full (and future) risks of AI Update the proposal to<br>allow for increasingly generalised AI systems that have multiple<br>purposes, such as GPT-3, DALL·E and MuZero; Ensure AI providers<br>explicitly consider the impact of their systems on society at large;<br>Protect consumers against conflicts of interest, especially when AI-<br>systems are used in medical, legal, or financial contexts; Enhance<br>protections of fundamental rights Allow EU citizens to file a<br>complaint with authorities when an AI has manipulates their behaviour,<br>or when their fundamental rights are breached; Lower the threshold for<br>what constitutes subliminal manipulation; Expand whistleblower<br>protections to AI developers, because they are the first, or only,<br>people who know whether an application violates fundamental rights;<br>Require reporting of AI safety incidents at the European level; Boost<br>AI innovation in Europe Empower the European <b>Artificial<br>Intelligence Board</b> to pre-empt new risks; Create one AI portal<br>across the European Single Market, allowing SMEs easy registration<br>with regulatory ‘sandboxes’ – environments in which firms can try out<br>new services without fear of penalties; Build more public sector<br>capacity for AI development and oversight; 1.<br><br>1.8% positive, 1.9% negative<br>by Future of Life Institute (FLI) (ngo)<br>Cluster: 0",
          "Improve the European environment for innovation a. Empower the<br>European Artificial Intelligence Board to pre-empt new risks Under the<br>current proposal, the European <b>Artificial Intelligence Board</b><br>acts mainly as a coordinator of regulatory efforts.<br><br>45.8% positive, 18.2% negative<br>by Future of Life Institute (FLI) (ngo)<br>Cluster: 0",
          "<b>The Board</b> is tasked with the promotion of cooperation between<br>national supervisory authorities and to assist the European Commission<br>with ensuring uniform application of the law.<br><br>55.5% positive, 2.6% negative<br>by Future of Life Institute (FLI) (ngo)<br>Cluster: 0",
          "FLI supports the recommendation of the European Data Protection<br>Supervisor (EDPS) and the European Data Protection Board (EDPB) that<br>the new <b>AI Board</b> be given “sufficient and appropriate powers”<br>[8].<br><br>69.0% positive, 1.0% negative<br>by Future of Life Institute (FLI) (ngo)<br>Cluster: 0",
          "As suggested by the Commission, a full-fledged European <b>Artificial<br>Intelligence Board</b> should also work closely with a group of<br>experts to ensure that beneficial technologies are accelerated and<br>risks mitigated.<br><br>19.0% positive, 1.4% negative<br>by Future of Life Institute (FLI) (ngo)<br>Cluster: 0",
          "On governance Europe should ensure a balanced stakeholders’<br>representation in the envisaged European <b>AI Board</b>, with<br>industry (manufacturers and operators) and industry associations<br>having an appreciable role, as an appropriate mirroring of the market<br>and deployment of AI systems in Europe.<br><br>8.0% positive, 0.9% negative<br>by Siemens Energy (company)<br>Cluster: 0",
          "We believe that the <b>AI Board</b> should also include experts from<br>industry amongst its members.<br><br>33.0% positive, 3.4% negative<br>by Japan Business Council in Europe (JBCE) (business_association)<br>Cluster: 0",
          "This would be particularly important in terms of ensuring that <b>the<br>Board</b> can effectively help the Commission and national supervisory<br>authorities to provide guidance on emerging technology issues, as<br>provided in art.57.<br><br>58.6% positive, 8.6% negative<br>by Japan Business Council in Europe (JBCE) (business_association)<br>Cluster: 0",
          "This should ideally be provided jointly by the EDPB and the European<br><b>AI Board</b>. •<br><br>1.2% positive, 2.5% negative<br>by Japan Business Council in Europe (JBCE) (business_association)<br>Cluster: 0",
          "Hence, we suggest the Commission and the <b>EAIB</b> continuously<br>monitor for developments in state-of-the-art technologies which enable<br>companies to efficiently transfer datasets between regions, and take<br>these into consideration for the common specification. •<br><br>1.2% positive, 0.3% negative<br>by Japan Business Council in Europe (JBCE) (business_association)<br>Cluster: 0",
          "In this light, we would like the European Commission and <b>EAIB</b><br>to define practical standards and common specifications for record<br>keeping, considering the actual practices in each sector, under<br>art.12(2).<br><br>11.4% positive, 1.3% negative<br>by Japan Business Council in Europe (JBCE) (business_association)<br>Cluster: 0",
          "Human oversight • We would like the European Commission and<br><b>EAIB</b> to mandate the development standards and common<br>specification by the European Standardisation Organizations in a<br>practical manner by ensuring the appropriate level of human oversight,<br>considering the pros and cons of human oversight and machine control<br>respectively.<br><br>4.0% positive, 3.2% negative<br>by Japan Business Council in Europe (JBCE) (business_association)<br>Cluster: 0",
          "More specifically, regarding Art.16(a) & 17(f), as a prerequisite for<br>the requirements on data management, a clear concept of ownership of<br>data and accountability between each operator and other third parties<br>in the AI value chain should be clarified, taking the opinion of in<br>the <b>EAIB</b> and the upcoming Data Act into account. •<br><br>0.7% positive, 0.6% negative<br>by Japan Business Council in Europe (JBCE) (business_association)<br>Cluster: 0",
          "When considering obligations set out across Chapter 3 (art.16-29), it<br>is crucial that the specific scope of each economic operator’s<br>responsibilities (notably in between provider and users) is clearly<br>identified in the forthcoming discussions in the <b>EAIB</b>.<br><br>0.4% positive, 0.2% negative<br>by Japan Business Council in Europe (JBCE) (business_association)<br>Cluster: 0",
          "Governance • The role of the European <b>AI Board</b> will be crucial<br>for governance.<br><br>59.2% positive, 1.2% negative<br>by Japan Business Council in Europe (JBCE) (business_association)<br>Cluster: 0",
          "Given <b>the Board</b>’s competence includes issuing opinions on<br>harmonised standards and definitions of technical specifications, it<br>is fundamental that it engages with both European and global<br>standardisation organisations to ensure that global approaches to<br>standardisation avoid regulatory divergence.<br><br>39.8% positive, 4.6% negative<br>by Japan Business Council in Europe (JBCE) (business_association)<br>Cluster: 0",
          "It is also important for AI stakeholders (trade associations,<br>companies, public authorities) to have access to the work of the <b>AI<br>Board</b> in order to provide inputs on improving implementation of<br>the Regulation. •<br><br>94.6% positive, 0.2% negative<br>by Japan Business Council in Europe (JBCE) (business_association)<br>Cluster: 0",
          "According to art.57, the European <b>AI Board</b> will be composed of<br>national supervisory authorities and the EDPS.<br><br>5.5% positive, 1.7% negative<br>by Japan Business Council in Europe (JBCE) (business_association)<br>Cluster: 0",
          "However, we believe that <b>the Board</b> should also include AI<br>ethics experts and industry representatives amongst its members.<br><br>8.1% positive, 36.2% negative<br>by Japan Business Council in Europe (JBCE) (business_association)<br>Cluster: -1",
          "This would be particularly important in terms of ensuring that <b>the<br>Board</b> can effectively help the Commission and national supervisory<br>authorities to provide guidance on emerging technology issues, as<br>provided in art.57.<br><br>58.6% positive, 8.6% negative<br>by Japan Business Council in Europe (JBCE) (business_association)<br>Cluster: 0",
          "In the particular case of members of <b>the Board</b> who represent<br>industry, membership should be reviewed periodically to ensure it<br>reflects AI technological developments in the various industry sectors<br>(including verticals).<br><br>0.9% positive, 4.3% negative<br>by Japan Business Council in Europe (JBCE) (business_association)<br>Cluster: 0",
          "at the <b>EAIB</b>. •<br><br>0.8% positive, 0.1% negative<br>by Japan Business Council in Europe (JBCE) (business_association)<br>Cluster: 0",
          "Authorities should be equipped with broad expertise to enforce the<br>Regulation holistically The provisions on the work of the <b>AI<br>Board</b> should ensure structured and regular stakeholder<br>involvement.<br><br>0.5% positive, 0.3% negative<br>by ITI, Information Technology Industry Council (business_association)<br>Cluster: 0",
          "Given <b>the Board</b>’s competence to issue opinions on the use of<br>harmonised standards and the definition of technical specifications,<br>it is fundamental that it engages with global standardisation<br>organisations to ensure that global approaches to standardisation<br>remain aligned with the goal of avoiding regulatory divergence.<br><br>41.8% positive, 3.4% negative<br>by ITI, Information Technology Industry Council (business_association)<br>Cluster: 0",
          "However, the structure of the Proposed Act seems relatively cumbersome<br>and complex, with the main text accompanied by numerous annexes,<br>several of which are subject to the management of a new agency<br>(\"European <b>Artificial Intelligence Board</b>”).<br><br>0.6% positive, 2.1% negative<br>by Association of Financial Markets in Europe (business_association)<br>Cluster: 0",
          "Furthermore, to achieve harmonised application of this regulation<br>across the EU, the opinions and recommendations issued by the European<br><b>Artificial Intelligence Board</b> on the application of this<br>regulation should be binding for authorities of Member States, which<br>should adopt them in their own acts.<br><br>56.5% positive, 1.1% negative<br>by Association of Financial Markets in Europe (business_association)<br>Cluster: 0",
          "Moreover, BSA strongly recommends including the abovementioned Expert<br>Group in the EU AI Board, to ensure full representation of all AI<br>stakeholders in the deliberations of <b>the Board</b>.<br><br>35.4% positive, 2.6% negative<br>by BSA | The Software Alliance (business_association)<br>Cluster: 0",
          "The EU <b>AI Board</b> could be considered to serve as audit<br>standardization and harmonization Page | 2 body.<br><br>0.9% positive, 0.6% negative<br>by Standing Committee of European Doctors (CPME) (ngo)<br>Cluster: 0",
          "Governance (Title VI) European Artificial Intelligence Board (Chapter<br>1, Articles 56 – 58) The creation of the EU <b>AI Board</b> requires<br>broad representation and participation of all relevant stakeholders,<br>including the relevant experts in the industry, trade associations as<br>well as national and European standardisation organisations.<br><br>5.6% positive, 0.7% negative<br>by ZVEI e.V. (company)<br>Cluster: 0",
          "The roles and responsibilities of the <b>AI Board</b> vis-à-vis the<br>national competent authorities should be clearly defined to ensure<br>harmonised processes.<br><br>4.7% positive, 3.2% negative<br>by ZVEI e.V. (company)<br>Cluster: 0",
          "Moreover, we suggest that the report on the work in the sandboxes,<br>which is provided to the European <b>AI Board</b> and the EU<br>Commission, is accessible for all companies in the EU, so that<br>experiences about the development and use of AI can be shared and thus<br>innovation is promoted.<br><br>2.0% positive, 0.3% negative<br>by German Banking Industry Committee (business_association)<br>Cluster: 0",
          "To avoid the difficulties in interpretation that seem to be prevalent<br>with the GDPR, it is important that guidance be provided at the<br>European level (including through the European <b>Artificial<br>Intelligence Board</b>).<br><br>16.8% positive, 1.6% negative<br>by AI4Belgium (ngo)<br>Cluster: 0",
          "In determining the concrete specifics of the applicability and content<br>of the regulations, an adequate process should be established for<br>dialogue that includes representatives of industries from outside the<br>EU that will be affected by the regulations at forums including the<br>EAIB (European <b>Artificial Intelligence Board</b>) and international<br>standardization bodies (ISO/IEC JTC1 SC42).<br><br>0.4% positive, 0.2% negative<br>by Keidanren (business_association)<br>Cluster: 0",
          " Article 57 Structure of <b>the Board</b> (Excerpt from p.72) 4.<br><br>0.1% positive, 0.3% negative<br>by Keidanren (business_association)<br>Cluster: 0",
          "<b>The Board</b> may invite external experts and observers to attend<br>its meetings and may hold exchanges with interested third parties to<br>inform its activities to an appropriate extent.<br><br>18.0% positive, 2.2% negative<br>by Keidanren (business_association)<br>Cluster: 0",
          "To that end the Commission may facilitate exchanges between <b>the<br>Board</b> and other Union bodies, offices, agencies and advisory<br>groups.<br><br>0.2% positive, 0.2% negative<br>by Keidanren (business_association)<br>Cluster: 0",
          " Multi-stakeholders including industry representatives and AI<br>specialists should be involved on an ongoing basis in the European<br><b>Artificial Intelligence Board</b> as committee members and should<br>participate in its discussions and deliberations.<br><br>41.4% positive, 0.7% negative<br>by Keidanren (business_association)<br>Cluster: 0",
          "Moreover, the establishment of the <b>Artificial Intelligence<br>Board</b> again invites Member States to re-establish specific<br>supervisory bodies to oversee the compliance with the rules regarding<br>Artificial Intelligence.<br><br>0.5% positive, 0.4% negative<br>by KU Leuven Centre for IT and IP Law (academic_research_institution)<br>Cluster: 0",
          "In order to avoid an infinite multiplication of institutes, the<br>competences of the <b>Artificial Intelligence Board</b> should be<br>bestowed on already existing institutions as much as possible.<br><br>13.9% positive, 2.6% negative<br>by KU Leuven Centre for IT and IP Law (academic_research_institution)<br>Cluster: 0",
          "For instance, we believe the deployment and outcomes of the regulatory<br>sandboxes should also be aligned and leveraged at the EU level through<br>the appropriate mechanisms (<b>AI Board</b>, MDCG) to avoid<br>fragmentation across countries.<br><br>0.4% positive, 0.4% negative<br>by Johnson & Johnson (company)<br>Cluster: 0",
          "Clarifying the role of the European <b>Artificial Intelligence<br>Board</b> and empowering it compared to National Boards within the<br>aligned regulations will help ensure consistent interpretation and<br>implementation of the AIA.<br><br>13.7% positive, 3.1% negative<br>by Johnson & Johnson (company)<br>Cluster: 0",
          "Given <b>the Board</b>’s competence to issue opinions on the use of<br>harmonized standards and the definition of technical specifications,<br>it is fundamental that it engages with global standardisation<br>organisations to ensure that global approaches to standardisation<br>remain aligned with the goal of avoiding regulatory divergence.<br><br>38.7% positive, 3.4% negative<br>by Fujitsu (company)<br>Cluster: 0",
          "Articles 56 – 58 – The European Artificial Intelligence Board (the AI<br>Board) We would welcome greater industry involvement in the the <b>AI<br>Board</b> so that all relevant stakeholders can collaborate and co-<br>create the right framework.<br><br>0.6% positive, 0.7% negative<br>by RELX (company)<br>Cluster: 0",
          "In particular we suggest space should be made on the board for AI<br>developers to ensure <b>the Board</b> has a suitable understanding of<br>the practical implications of their decisions.<br><br>32.4% positive, 33.0% negative<br>by RELX (company)<br>Cluster: 0",
          "There is a concern that the <b>AI Board</b>’s proposed structure and<br>remit will lend itself towards a system in which an overly cautious<br>approach will be taken which seeks to prevent AI activities in order<br>to avoid purported risks.<br><br>0.9% positive, 41.1% negative<br>by RELX (company)<br>Cluster: 0",
          "Instead, we would encourage that innovation should be built into the<br>remit of the <b>AI Board</b> so that they also have a requirement to<br>consider how the EU can realise the benefits of AI, while<br>appropriately mitigating risks through some of the measures of this<br>regulation.<br><br>7.3% positive, 3.9% negative<br>by RELX (company)<br>Cluster: 0",
          "However, relevant sectoral authorities (e.g., the <b>AI Board</b><br>and/or MDCG) must leverage the outcomes from national regulatory<br>sandboxes at the EU level, so that AI systems created and tested in<br>such regulatory sandboxes could be easily moved to and placed on the<br>market in other member states.<br><br>1.4% positive, 0.8% negative<br>by SPECTARIS e.V. (business_association)<br>Cluster: 0",
          "The provisions around accuracy, robustness and cybersecurity are<br>essential and we hope some of the governance processes established<br>with the AIA, such as sandboxes or the European <b>AI Board</b>, would<br>also prioritise AI safety in their mandate and operational priorities.<br><br>0.5% positive, 3.5% negative<br>by DeepMind (company)<br>Cluster: 0",
          "We encourage the Commission to consider how to foster industry, civil<br>society and governmental discussions on improving AI safety,<br>potentially through supporting the creation of separate fora for these<br>actors to share their approach in a way that could feed into future<br>guidance and into AI safety discussions that also need to take place<br>within the European <b>AI Board</b>.<br><br>1.3% positive, 0.3% negative<br>by DeepMind (company)<br>Cluster: 0",
          "We welcome the establishment of a European <b>AI Board</b>, and its<br>potential to foster more substantive discussions, to increase<br>governments’ expertise and capacity in AI, and to further reduce<br>fragmentation between EU countries.<br><br>70.5% positive, 0.4% negative<br>by DeepMind (company)<br>Cluster: 0",
          "We believe such an institution will help drive forward the EU’s<br>leadership in AI and hope that there will be opportunities for non-<br>governmental actors to participate or be regularly informed of the<br>work and decisions made by the European <b>AI Board</b>.<br><br>60.8% positive, 0.4% negative<br>by DeepMind (company)<br>Cluster: 0",
          "We also welcomed the announcement by the European Commission that it<br>is considering creating an expert group under <b>the Board</b>,<br>modelled after the High Level Expert Group on AI, which could be an<br>avenue for the private sector and civil society to engage with<br>governments.<br><br>0.8% positive, 0.2% negative<br>by DeepMind (company)<br>Cluster: 0",
          "We would also encourage linking the European <b>AI Board</b> and the<br>expert group with the existing actors in the EU AI ecosystem, such as<br>the European AI Alliance.<br><br>3.0% positive, 0.5% negative<br>by DeepMind (company)<br>Cluster: 0",
          "However, the question has been raised as to whether the proposed<br>European Artificial Intelligence Board (<b>EAIB</b>) should rather be<br>given such the power to make binding decisions in this regard<br>(providing its independence is ensured).<br><br>3.0% positive, 2.4% negative<br>by Access Now Europe (ngo)<br>Cluster: 0",
          "We foresee a scenario where a properly independent EAIB could be<br>empowered to adopt binding decisions to update the list of prohibited<br>practices in Article 5, although this is conditional on a number of<br>modifications to the way the Proposal envisages the structure of the<br><b>EAIB</b>.<br><br>39.4% positive, 4.4% negative<br>by Access Now Europe (ngo)<br>Cluster: 0",
          "As we have previously noted, the proposed enforcement mechanism which<br>includes the EU <b>Artificial Intelligence Board</b> and the<br>appointment of national supervisory authorities lacks clarity.<br><br>0.2% positive, 0.3% negative<br>by Access Now Europe (ngo)<br>Cluster: 0",
          "Access Now also has serious concerns about the role, structure and<br>independence of the proposed European <b>Artificial Intelligence<br>Board</b>.<br><br>0.4% positive, 87.9% negative<br>by Access Now Europe (ngo)<br>Cluster: 0",
          "The <b>EAIB</b> should also be consulted by the Commission prior any<br>amendment of those annexes.”<br><br>37.9% positive, 1.1% negative<br>by Access Now Europe (ngo)<br>Cluster: 0",
          "In this context, the ATP notes that enforcement guidance will be<br>provided by a newly formed European <b>Artificial Intelligence<br>Board</b>, which presumably will be similar in construction and form<br>to the EDPB.<br><br>7.5% positive, 1.8% negative<br>by Association of Test Publishers (business_association)<br>Cluster: 0",
          "Sincerely, ASSOCIATION OF TEST PUBLISHERS William G. Harris, Ph.D. CEO<br>John Kleeman 2021 Chair of <b>the Board</b> of Directors (representing<br>Europe-ATP) Past Co-Chair, ATP International Privacy Subcommittee,<br>Test Security Committee Alan J. Thiemann General Counsel<br><br>43.2% positive, 1.2% negative<br>by Association of Test Publishers (business_association)<br>Cluster: 0",
          "To this end, the role of the European Artificial Intelligence Board<br>(<b>EAIB</b>) could prove central.<br><br>84.6% positive, 0.7% negative<br>by Renaissance Numérique (ngo)<br>Cluster: 0",
          "This essential role in the elaboration of the amendments would also<br>allow the <b>EAIB</b> to provide recommendations to the concerned<br>actors in order to clarify the situation of the developers or users of<br>artificial intelligence systems vis-à-vis the regulation.<br><br>24.4% positive, 1.0% negative<br>by Renaissance Numérique (ngo)<br>Cluster: 0",
          "It therefore appears necessary for the text to better articulate how<br>national surveillance and competent authorities will cooperate, as<br>this seems to be unclear at the moment, relying mainly on <b>EAIB</b><br>The latter is more commonly known as “the \"Board\".<br><br>0.6% positive, 1.4% negative<br>by Renaissance Numérique (ngo)<br>Cluster: 0",
          "Finally, a last point of analysis concerns the need to grant more<br>autonomy to the <b>EAIB</b>, especially with regard to its<br>independence from the European Commission.<br><br>33.8% positive, 1.7% negative<br>by Renaissance Numérique (ngo)<br>Cluster: 0",
          "11/15 the European Commission alters the autonomy of <b>the Board</b>.<br><br>0.5% positive, 9.9% negative<br>by Renaissance Numérique (ngo)<br>Cluster: 0",
          "Among other things, the Commission would be responsible for convening<br>meetings and preparing the agenda of these meetings, but also for<br>approving <b>the Board</b>'s rules of procedure.<br><br>0.5% positive, 0.8% negative<br>by Renaissance Numérique (ngo)<br>Cluster: 0",
          "In view of these interpretation challenges and in line with the<br>necessity to strengthen its role in terms of governance, the<br><b>EAIB</b> should be tasked with drawing up operational<br>recommendations in consultation with the multi-stakeholder expert<br>group and with the relevant actors of the ecosystem.<br><br>12.4% positive, 3.1% negative<br>by Renaissance Numérique (ngo)<br>Cluster: 0",
          "In this respect, the role of <b>the Board</b> will be essential.<br><br>97.1% positive, 0.5% negative<br>by Renaissance Numérique (ngo)<br>Cluster: 0",
          "For this reason, the functioning of these regulatory sandboxes should<br>be discussed in a collegial manner between the European Commission,<br>the <b>EAIB</b>, national competent authorities, the AI Expert Group<br>and relevant industry and civil society representatives.<br><br>0.4% positive, 0.2% negative<br>by Renaissance Numérique (ngo)<br>Cluster: 0",
          "The same logic could be followed at the European level, with the<br>support of the <b>EAIB</b>.<br><br>0.6% positive, 0.2% negative<br>by Renaissance Numérique (ngo)<br>Cluster: 0",
          "3.2 Organisations TITLE VI Governance, Chapter I Europe artificial<br>intelligence board Article 56 Establishment of the European<br><b>Artificial Intelligence Board</b> 1.<br><br>3.5% positive, 0.4% negative<br>by Huawei Technologies  (company)<br>Cluster: 0",
          "A ‘European <b>Artificial Intelligence Board</b>’ (the ‘Board’) is<br>established.<br><br>11.2% positive, 0.9% negative<br>by Huawei Technologies  (company)<br>Cluster: 0",
          "In Articles 56, 57 and 58 of the AI Act, the Commission sets out its<br>plans for the establishment of a European <b>Artificial Intelligence<br>Board</b>.<br><br>6.6% positive, 0.3% negative<br>by Huawei Technologies  (company)<br>Cluster: 0",
          "We would recommend that the Commission formally allow the active<br>participation of the industry in <b>the Board</b>’s Expert Group when<br>the group is created.<br><br>2.7% positive, 7.9% negative<br>by Huawei Technologies  (company)<br>Cluster: 0",
          "Establishing standards for AI systems addressing potential risks and<br>enabling innovation V. Introduce Industry Advisory Expert Groups as<br>part of the European <b>Artificial Intelligence Board</b> Page | 2<br>Introduction AI technologies have become a transformative force,<br>enabling technology breakthroughs across industries.<br><br>4.2% positive, 0.3% negative<br>by SEMI EUROPE (trade_union)<br>Cluster: 0",
          "V. Introduce Industry Advisory Expert Groups as part of the European<br>Artificial Intelligence Board SEMI Europe fully supports the<br>Commission’s plans to set up a European <b>Artificial Intelligence<br>Board</b> to ensure effective and consistent implementation and<br>enforcement of the proposed AI regulation.<br><br>29.7% positive, 0.6% negative<br>by SEMI EUROPE (trade_union)<br>Cluster: 0",
          "Considering Europe’s key strength as regulatory power in the global AI<br>landscape, SEMI Europe urges the Commission to introduce sector-<br>specific industry expert advisory groups as part of <b>the Board</b><br>to play a key role in the application and enforcement of the<br>regulation.<br><br>7.4% positive, 2.7% negative<br>by SEMI EUROPE (trade_union)<br>Cluster: 0",
          "Also, in order to ensure a level playing field between companies<br>providing and using AI systems for the same purpose, the opinions and<br>recommendations issued by the European <b>AI Board</b> should be<br>binding for national authorities and be based on the criteria<br>established by the authority(ies) with the highest expertise on each<br>particular activity.<br><br>12.5% positive, 1.2% negative<br>by Banco Bilbao Vizcaya Argentaria S.A. (company)<br>Cluster: 0",
          "Also, in order to ensure a level playing field between companies<br>providing and using AI systems for the same purpose, the opinions and<br>recommendations issued by the European <b>AI Board</b> should be<br>binding for national authorities and be based on the criteria<br>established by the authority(ies) with the highest expertise on each<br>particular activity.<br><br>12.5% positive, 1.2% negative<br>by Banco Bilbao Vizcaya Argentaria S.A. (company)<br>Cluster: 0",
          "In order to reduce the legal uncertainty that a lack of a common<br>understanding can cause, those vague terms should ideally be removed<br>from the final text or, at least, their use should be minimized and<br>complemented with guidance, recommendations or binding opinions to be<br>developed by the Commission or the newly created European<br><b>Artificial Intelligence Board</b> to ensure that supervisory<br>expectations and the understanding of market operators are aligned.,<br><br>46.4% positive, 4.7% negative<br>by Banco Bilbao Vizcaya Argentaria S.A. (company)<br>Cluster: 0",
          "Furthermore, for the sake of a harmonized application of this<br>Regulation by different authorities and across Member States, the<br>opinions and recommendations on the implementation of this Regulation<br>issued by the European <b>Artificial Intelligence Board</b> shall be<br>binding for authorities of Member States.<br><br>67.8% positive, 0.9% negative<br>by Banco Bilbao Vizcaya Argentaria S.A. (company)<br>Cluster: 0",
          "As this could lead to significant fragmentation, the issuance of<br>binding recommendations by the European <b>Artificial Intelligence<br>Board</b> would promote a harmonized enactment of the Regulation and<br>avoid regulatory arbitrage by market operators.<br><br>3.6% positive, 0.5% negative<br>by Banco Bilbao Vizcaya Argentaria S.A. (company)<br>Cluster: 0",
          "The governance and enforcement structure must be clear and ensure an<br>effective and consistent application of the rules at European and<br>national level The proposed governance and enforcement structure<br>mainly rests at national level and raises issues in relation to the<br>obligations, competences and powers of the different actors involved<br>Namely: the European Artificial Intelligence Board (<b>EAIB</b>), the<br>national competent authorities, the national supervisory authority,<br>the Commission, the European Data Protection Supervisor (EDPS) and the<br>AI system providers); and the different processes envisaged.<br><br>5.5% positive, 8.4% negative<br>by BEUC - The European Consumer Organisation (ngo)<br>Cluster: 0",
          "The autonomy and powers of the European <b>AI Board</b> See Articles<br>56 – 58 of the proposal; , comprised of high-level representatives of<br>the national supervisory authorities and chaired by the Commission,<br>also seem quite limited.<br><br>2.1% positive, 68.9% negative<br>by BEUC - The European Consumer Organisation (ngo)<br>Cluster: -1",
          "The creation of the European Artificial Intelligence Board We advise<br>including a balanced industry representation in the envisaged European<br><b>Artificial Intelligence Board</b> which has not only an advisory<br>role but can have a real impact on decisions made, as well.<br><br>7.4% positive, 0.6% negative<br>by The Polish Confederation Lewiatan (company)<br>Cluster: 0",
          "AI governance through multi-stakeholder and international<br>collaboration Detailed consideration in relation to enforcement of<br>this Regulation by the <b>EAIB</b>, etc.,<br><br>0.2% positive, 0.2% negative<br>by Japan Electronics and Information Technology Industries<br>Association(JEITA) (business_association)<br>Cluster: 0",
          "TITLE VI: GOVERNANCE (Articles 56-59) ▪ Articles 56-58: Establishment<br>of AI governance through multi-stakeholder and international<br>collaboration - When the European Artificial Intelligence Board<br>(<b>EAIB</b>) and other bodies engage in detailed consideration of<br>requirements in relation to the entry into force of this Regulation,<br>multiple stakeholders including industry and AI experts should also<br>participate so as to boost legal stability and predictability and<br>ensure that the content is effective and realistic.<br><br>7.5% positive, 1.3% negative<br>by Japan Electronics and Information Technology Industries<br>Association(JEITA) (business_association)<br>Cluster: 0",
          "If there are technologies found to meet the requirements of this<br>Regulation as a result of considerations at the <b>EAIB</b>, etc.,<br><br>0.2% positive, 0.2% negative<br>by Japan Electronics and Information Technology Industries<br>Association(JEITA) (business_association)<br>Cluster: 0",
          "or application of such technologies make considerations at the<br><b>EAIB</b>, etc.<br><br>0.1% positive, 0.1% negative<br>by Japan Electronics and Information Technology Industries<br>Association(JEITA) (business_association)<br>Cluster: 0",
          "A transparent multi-stakeholder approach, and particularly<br>participation by business entities and private companies, should be<br>encouraged in discussion at the <b>EAIB</b> and the High-Level Expert<br>Group on Artificial Intelligence as well as related discussion.<br><br>0.4% positive, 0.2% negative<br>by Japan Electronics and Information Technology Industries<br>Association(JEITA) (business_association)<br>Cluster: 0",
          "The work of the European <b>AI Board</b> should be supported by<br>continuous industry input, especially on matters related to technical<br>specifications and harmonized standards (art.<br><br>10.6% positive, 1.2% negative<br>by Developers Alliance (business_association)<br>Cluster: 0",
          "The European Artificial Intelligence Board (<b>EAIB</b>) may<br>importantly contribute to strengthening oversight and supervision, but<br>it must be ensured it has the corresponding power, capacity, and<br>independence to do so.<br><br>17.6% positive, 1.6% negative<br>by AW AlgorithmWatch gGmbH (ngo)<br>Cluster: 0",
          "In addition to the national supervisory authorities, the<br>“<b>Artificial Intelligence Board</b>” will play a major role in this<br>respect.<br><br>89.0% positive, 0.9% negative<br>by Gesamtverband der Deutschen Versicherungswirtschaft e. V.<br>(business_association)<br>Cluster: 0",
          "The establishment and structure of <b>the Board</b>, as provided for<br>in the Regulation by the EU Commission, is welcomed.<br><br>79.9% positive, 0.4% negative<br>by Gesamtverband der Deutschen Versicherungswirtschaft e. V.<br>(business_association)<br>Cluster: 0",
          "It is therefore only logical that essential tasks of AI regulation are<br>in the Commission’s hands and that the Commission is being assisted<br>and advised by <b>the Board</b> in carrying out these tasks.<br><br>46.3% positive, 1.8% negative<br>by Gesamtverband der Deutschen Versicherungswirtschaft e. V.<br>(business_association)<br>Cluster: 0",
          "From the point of view of the insurance industry, it is therefore the<br>right approach that <b>the Board</b> is not given any power to issue<br>guidelines or monitor them.<br><br>1.0% positive, 96.7% negative<br>by Gesamtverband der Deutschen Versicherungswirtschaft e. V.<br>(business_association)<br>Cluster: -1",
          "The supporting and advisory role of <b>the Board</b> is evident from<br>the fact that it is authorised to issue opinions, recommendations or<br>written contributions on matters related to the implementation of the<br>Regulation.<br><br>87.2% positive, 1.1% negative<br>by Gesamtverband der Deutschen Versicherungswirtschaft e. V.<br>(business_association)<br>Cluster: 0",
          "It is crucial in this context that the “<b>Artificial Intelligence<br>Board</b>” does not follow the blueprint of the European Data<br>Protection Board (EDPD).<br><br>2.5% positive, 77.8% negative<br>by Gesamtverband der Deutschen Versicherungswirtschaft e. V.<br>(business_association)<br>Cluster: 0",
          "Pursuant to Article 70 GDPR, <b>the Board</b> can issue a whole series<br>of “guidelines, recommendations, and best practices” for this purpose.<br><br>18.2% positive, 1.5% negative<br>by Gesamtverband der Deutschen Versicherungswirtschaft e. V.<br>(business_association)<br>Cluster: 0",
          "Furthermore, <b>the Board</b> interprets the GDPR very broadly,<br>sometimes contrary to the text of the law and without taking account<br>of what is relevant in practice, and to the detriment of controllers.<br><br>0.2% positive, 99.3% negative<br>by Gesamtverband der Deutschen Versicherungswirtschaft e. V.<br>(business_association)<br>Cluster: 0",
          "The governance structure of <b>the Board</b> provided in the<br>Regulation is therefore appreciated.<br><br>78.2% positive, 1.2% negative<br>by Gesamtverband der Deutschen Versicherungswirtschaft e. V.<br>(business_association)<br>Cluster: 0",
          "Due to the fact that the EU Commission chairs the Board, it is ensured<br>that the results of <b>the Board</b> are based on common<br>decisionmaking.<br><br>27.3% positive, 2.3% negative<br>by Gesamtverband der Deutschen Versicherungswirtschaft e. V.<br>(business_association)<br>Cluster: 0",
          "The governing function of the EU Commission is also reflected by the<br>fact that <b>the Board</b>’s rules of procedure require the<br>Commission’s approval.<br><br>0.5% positive, 4.8% negative<br>by Gesamtverband der Deutschen Versicherungswirtschaft e. V.<br>(business_association)<br>Cluster: 0",
          "This way it is being prevented that <b>the Board</b> becomes<br>independent, which could lead to decisions that are not in line with<br>the Commission’s and thus to a hardly justiciable “secondary<br>legislation”.<br><br>2.9% positive, 93.8% negative<br>by Gesamtverband der Deutschen Versicherungswirtschaft e. V.<br>(business_association)<br>Cluster: -1",
          "9 GOVERNANCE STRUCTURE AND <b>AI BOARD</b> The Norwegian government<br>foresees to designate a national supervisory authority, in accordance<br>with the proposal.<br><br>0.9% positive, 1.0% negative<br>by Ministry of Local Government and Modernisation (public_authority)<br>Cluster: 0",
          "The Proposal foresees to give a predominant role to the Commission,<br>with the <b>EAIB</b> in an advisory role.<br><br>15.5% positive, 29.7% negative<br>by Ministry of Local Government and Modernisation (public_authority)<br>Cluster: 0",
          "We would recommend giving more autonomy to the <b>EAIB</b>.<br><br>17.7% positive, 2.3% negative<br>by Ministry of Local Government and Modernisation (public_authority)<br>Cluster: 0",
          "This will give <b>the Board</b> a better possibility to ensure the<br>consistent application of the regulation across the single market.<br><br>54.4% positive, 2.0% negative<br>by Ministry of Local Government and Modernisation (public_authority)<br>Cluster: 0",
          "We note that no power is conferred to <b>the Board</b> regarding the<br>enforcement of the proposed regulation.<br><br>0.5% positive, 98.4% negative<br>by Ministry of Local Government and Modernisation (public_authority)<br>Cluster: -1",
          "The establishment of a European <b>Artificial Intelligence Board</b><br>is also positively considered in order to ensure the consistent<br>application and interpretation of the Regulation among the different<br>national authorities.<br><br>92.3% positive, 0.5% negative<br>by Data, AI and Robotics aisbl (ngo)<br>Cluster: 0",
          "On the EU-level the European <b>AI board</b> is the central governance<br>institution.<br><br>34.5% positive, 0.8% negative<br>by Bitkom e.V. (business_association)<br>Cluster: 0",
          "In our opinion, the focus of the <b>AI board</b> should be on two<br>issues: support for the opera- tionalisation of requirements and the<br>ongoing exchange on governance designs in the member states with the<br>aim of creating a framework that is as uniform as possible across the<br>member states.<br><br>4.9% positive, 11.4% negative<br>by Bitkom e.V. (business_association)<br>Cluster: 0",
          "Bitkom stands ready to support the <b>AI board</b> with its expertise<br>in AI and regarding the NLF.<br><br>95.3% positive, 0.3% negative<br>by Bitkom e.V. (business_association)<br>Cluster: 0",
          "We welcome the proposed creation of a new European Artificial<br>Intelligence Board (EAIB), yet, we think that it is highly problematic<br>that there is no clear nomination procedure for the national<br>authorities in place which will represent the member states on <b>the<br>Board</b>.<br><br>32.1% positive, 13.6% negative<br>by industriAll European Trade Union (trade_union)<br>Cluster: 0",
          "We further recommend that social partners should be full members of<br>the <b>EAIB</b>, especially since the workplace is very much neglected<br>in the proposed Regulation.<br><br>0.5% positive, 0.2% negative<br>by industriAll European Trade Union (trade_union)<br>Cluster: 0",
          "The nature of the data (potentially) being collected should therefore<br>be taken into account as well, and any impact assessment should take<br>the potential further development of the system into account; Include<br>a provision that makes sure that the right of workers to information,<br>consultation and participation is respected on the introduction of any<br>kind of AI at the workplace: there must be ‘nothing about us, without<br>us’; Clearly define and strengthen the role of the European Artificial<br>Intelligence Board, and invite social partners to join <b>the<br>Board</b> as full members.<br><br>24.4% positive, 12.1% negative<br>by industriAll European Trade Union (trade_union)<br>Cluster: 0",
          "Currently, the legislation does not provide any information on who<br>could initiate the extension process, the potential involvement of<br>industry, a transition period for providers and users to comply with<br>the changes, the role of the EU <b>AI Board</b> and an independent<br>Expert Group to provide technical input.<br><br>0.8% positive, 0.7% negative<br>by SAP (company)<br>Cluster: 0",
          "Facilitate accountability: Include oversight and enforcement<br>infrastructures that work for people: a) Ensure cohesive national<br>enforcement structure; b) Include individual and collective flagging<br>and redress mechanisms; c) Implement a more democratic governance<br>infrastructure and greater independence for <b>EAIB</b>.<br><br>3.1% positive, 0.7% negative<br>by European Digital Rights (EDRi) (ngo)<br>Cluster: 0",
          "Facilitate accountability: Include oversight and enforcement in-<br>frastructures that work for people: a. Ensure a cohesive national<br>enforcement structure; b. Include flagging and redress mechanisms<br>allowing individuals and collectives to contest and seek redress for<br>all AI systems that cause harm and threaten fundamental rights; c.<br>Implement a more democratic governance infrastructure, with greater<br>independence for the European <b>AI board</b>.<br><br>1.6% positive, 2.6% negative<br>by European Digital Rights (EDRi) (ngo)<br>Cluster: 0",
          "Article 56 establishes the European <b>AI Board</b>, however removes<br>the competence of this Board (which appeared in previous verisons) to<br>present additions to the list of high risk AI systems.<br><br>2.3% positive, 27.9% negative<br>by European Digital Rights (EDRi) (ngo)<br>Cluster: 0",
          "Further, due to the power of the European Commission in the European<br>AI Board, it raises significant questions relating to the independence<br>of national supervisory authorities, which report to the <b>AI<br>board</b>.<br><br>0.4% positive, 3.1% negative<br>by European Digital Rights (EDRi) (ngo)<br>Cluster: 0",
          "Further, there must be more independence for the European <b>AI<br>board</b> and more distributed scope of governance funtions.<br><br>4.7% positive, 79.6% negative<br>by European Digital Rights (EDRi) (ngo)<br>Cluster: -1",
          "c) Implement a more democratic governance infrastructure, with greater<br>independence for the European AI board: i. Ensure that the mandate to<br>make substantive updates to the legal framework (updates to high risk<br>use cases, prohibitions) is held by a representative and<br>democractically accountable European <b>AI Board</b>, not solely with<br>the European Commission; ii.<br><br>49.8% positive, 3.8% negative<br>by European Digital Rights (EDRi) (ngo)<br>Cluster: 0",
          "Include within the structure of the <b>AI Board</b> representatives of<br>social partners and civil society, in particular those representing<br>marginalised groups.<br><br>0.9% positive, 0.2% negative<br>by European Digital Rights (EDRi) (ngo)<br>Cluster: 0",
          "The proposed European <b>Artificial Intelligence Board</b> is well-<br>positioned to conduct these reviews and updates.<br><br>88.1% positive, 0.6% negative<br>by OpenAI (company)<br>Cluster: 0",
          "<b>The Board</b> should be authorized to propose updates to Annexes<br>including the list of prohibited and high-risk systems.<br><br>22.9% positive, 14.3% negative<br>by OpenAI (company)<br>Cluster: 0",
          "Therefore, we welcome the creation of a European <b>AI Board</b><br>tasked with coordination of collaboration on AI across the EU.<br><br>84.3% positive, 0.4% negative<br>by Biogen (company)<br>Cluster: 0",
          "Biogen wishes to underline the importance of all key stakeholders<br>being engaged in this initiative at the highest level and encourages<br>early agreement on public-private platform to allow for structured<br>dialogue with <b>the Board</b>.<br><br>1.1% positive, 20.1% negative<br>by Biogen (company)<br>Cluster: 0",
          "The Commission and <b>the Board</b> shall encourage and facilitate the<br>drawing up of codes of conduct intended to foster the voluntary<br>application to AI systems of requirements related for example to<br>environmental sustainability, accessibility for persons with a<br>disability, stakeholders' participation in the design and development<br>of the AI systems and diversity of development teams based on clear<br>objectives and key performance indicators to measure the achievement<br>of those objectives.<br><br>13.2% positive, 1.4% negative<br>by Italian Banking Association (business_association)<br>Cluster: 0",
          "Finally, a guidance needs to be included on chapter 1 article 57 to<br>describe the background required for <b>the Board</b>.<br><br>0.2% positive, 0.3% negative<br>by European Association of Hospital Pharmacists (ngo)<br>Cluster: 0",
          "Governance: The Proposal for Regulation seeks to establish a<br>governance system leading to the establishment of a European<br><b>Artificial Intelligence Board</b> with the involvement of national<br>authorities to monitor the implementation of the regulation.<br><br>12.2% positive, 0.7% negative<br>by German Education Union (GEW) (trade_union)<br>Cluster: 0",
          "It is therefore crucial that education social partners are actively<br>involved in the activities of the European <b>Artificial Intelligence<br>Board</b> through regular consultations and meaningful social<br>dialogue, both at national and European level to monitor the<br>implementation of the regulation and address the risks related to the<br>use of Artificial Intelligence in education.<br><br>1.3% positive, 0.5% negative<br>by German Education Union (GEW) (trade_union)<br>Cluster: 0",
          "Roche believes it is of paramount importance to ensure real<br>harmonisation of the interpretation and implementation of this Act at<br>the EU National Member state level to avoid the issues now seen with<br>the GDPR We recommend a more prescriptive approach and enforcement<br>mechanism for the national bodies and European <b>Artificial<br>Intelligence Board</b> to ensure a robust and consistent<br>implementation of this regulation across member states.<br><br>4.7% positive, 3.0% negative<br>by Hoffmann La Roche (company)<br>Cluster: 0",
          "We do acknowledge the role of the European <b>Artificial Intelligence<br>Board</b> here as a board that will aim to help facilitate a smooth,<br>effective and harmonised implementation of this act, but the finer<br>details on how it will be enforced are currently lacking. (<br><br>38.6% positive, 5.7% negative<br>by Hoffmann La Roche (company)<br>Cluster: 0",
          "81) “The Commission may develop initiatives, including of a sectorial<br>nature, to facilitate the lowering of technical barriers hindering<br>crossborder exchange of data for AI development, including on data<br>access infrastructure, semantic and technical interoperability of<br>different types of data” We therefore appreciate the Commission’s aims<br>to address the technical barriers hindering cross border exchange of<br>data but would also appreciate if efforts could be made to address<br>legal barriers too as national and even within country barriers in<br>addition to regional barriers for data exchange exist (in particular<br>for personal data) The role of the European Artificial Intelligence<br>board (EAIB) and its connection with the European Data Protection<br>Board (EDPB) needs further clarification We support the set up of an<br><b>EAIB</b> however find it unclear how this board will interact with<br>the EDPB and if the relationship between the two may cause confusion<br>over responsibilities, especially given data governance is such a<br>fundamental part of the development and use of AI.<br><br>4.1% positive, 2.8% negative<br>by Hoffmann La Roche (company)<br>Cluster: 0",
          "The act states that the <b>EAIB</b> will consult the EDPB on certain<br>topics but broader questions remain as to the relationship between the<br>two e.g. will they periodically meet, could the membership at member<br>state level be the same on both boards and who will take final<br>decisions related to access to data for the development of AI.<br><br>1.6% positive, 1.6% negative<br>by Hoffmann La Roche (company)<br>Cluster: 0",
          "At Union level, the proposal establishes a European <b>Artificial<br>Intelligence Board</b> (the ‘Board’), composed of representatives from<br>the Member States and the Commission.<br><br>31.7% positive, 1.0% negative<br>by Hoffmann La Roche (company)<br>Cluster: 0",
          "<b>The Board</b> will facilitate a smooth, effective and harmonised<br>implementation of this regulation by contributing to the effective<br>cooperation of the national supervisory authorities and the Commission<br>and providing advice and expertise to the Commission.<br><br>85.7% positive, 0.8% negative<br>by Hoffmann La Roche (company)<br>Cluster: 0",
          "76) “In order to facilitate a smooth, effective and harmonised<br>implementation of this Regulation a European <b>Artificial<br>Intelligence Board</b> should be established.<br><br>21.7% positive, 2.3% negative<br>by Hoffmann La Roche (company)<br>Cluster: 0",
          "<b>The Board</b> should be responsible for a number of advisory tasks,<br>including issuing opinions, recommendations, advice or guidance on<br>matters related to the implementation of this Regulation, including on<br>technical specifications or existing standards regarding the<br>requirements established in this Regulation and providing advice to<br>and assisting the Commission on specific questions related to<br>artificial intelligence.”<br><br>8.4% positive, 0.8% negative<br>by Hoffmann La Roche (company)<br>Cluster: 0",
          "It is therefore crucial that education social partners are actively<br>involved in the activities of the proposed European <b>Artificial<br>Intelligence Board</b> through regular consultations and meaningful<br>social dialogue to monitor the implementation of the Regulation and<br>address the risks related to the use of AI in education.<br><br>1.5% positive, 0.6% negative<br>by ETUCE (trade_union)<br>Cluster: 0",
          "Governance: The Proposal for Regulation seeks to establish a<br>governance system leading to the establishment of a European<br><b>Artificial Intelligence Board</b> with the involvement of national<br>authorities to monitor the implementation of the regulation.<br><br>12.2% positive, 0.7% negative<br>by ETUCE (trade_union)<br>Cluster: 0",
          "It is therefore crucial that education social partners are actively<br>involved in the activities of the European <b>Artificial Intelligence<br>Board</b> through regular consultations and meaningful social<br>dialogue, both at national and European level to monitor the<br>implementation of the regulation and address the risks related to the<br>use of Artificial Intelligence in education.<br><br>1.3% positive, 0.5% negative<br>by ETUCE (trade_union)<br>Cluster: 0",
          "Foreseen European AI Board: ResMed welcomes the proposed European<br><b>AI Board</b> but calls for the Commission to look to lessons<br>learned from the GDPR enforcement model and looks forward to more<br>clarity on how national authorities will be supported in the necessary<br>up/re-skilling.<br><br>36.6% positive, 1.3% negative<br>by ResMed (company)<br>Cluster: 0",
          "Additionally, the European <b>AI Board</b> should ensure it works<br>collaboratively with and does not duplicate or undermine the work of<br>the European Data Protection Board or the European Data Innovation<br>Board foreseen under the DGA.<br><br>13.6% positive, 23.0% negative<br>by ResMed (company)<br>Cluster: 0",
          "ResMed commends the proposal for an independent expert group to assist<br>the European <b>AI Board</b> in its work.<br><br>0.9% positive, 0.3% negative<br>by ResMed (company)<br>Cluster: 0",
          "Therefore, we welcome the creation of a European <b>AI Board</b><br>tasked with coordination of collaboration on AI across the EU.<br><br>84.3% positive, 0.4% negative<br>by European Federation of Pharmaceutical Industries and Associations<br>(EFPIA) (business_association)<br>Cluster: 0",
          "EFPIA wishes to underline the importance of all key stakeholders being<br>engaged in this initiative at the highest level and encourages early<br>agreement on public-private platform to allow for structured dialogue<br>with <b>the Board</b>.<br><br>1.4% positive, 24.1% negative<br>by European Federation of Pharmaceutical Industries and Associations<br>(EFPIA) (business_association)<br>Cluster: 0",
          "European Artificial Intelligence Board  Industry representation -<br>CIPL welcomes the creation of the European <b>Artificial Intelligence<br>Board</b> to enable ongoing collaboration between policy makers,<br>industry, academics and researchers.<br><br>51.8% positive, 0.5% negative<br>by Centre for Information Policy Leadership (CIPL)<br>(academic_research_institution)<br>Cluster: 0",
          "However, CIPL would like to see a more systematic participation of<br>industry as part of <b>the Board</b>’s permanent structure.<br><br>2.0% positive, 13.1% negative<br>by Centre for Information Policy Leadership (CIPL)<br>(academic_research_institution)<br>Cluster: 0",
          "        We welcome the European <b>AI Board</b> but stress the need<br>for cohesion with other EU level boards to ensure complete<br>harmonisation of legislation to reduce regulatory burden.<br><br>96.3% positive, 0.3% negative<br>by EIT Health (ngo)<br>Cluster: 0",
          " We welcome the European <b>AI Board</b> but stress the need for<br>cohesion with other EU level boards to ensure complete harmonisation<br>of legislation to reduce regulatory burden.<br><br>94.7% positive, 0.4% negative<br>by EIT Health (ngo)<br>Cluster: 0",
          "Furthermore, Eurosmart sees a risk of having diverging guidelines<br>coming from the European <b>AI Board</b> and from the EDPB.<br><br>0.6% positive, 19.1% negative<br>by Eurosmart (company)<br>Cluster: 0",
          "Regulatory framework and governance system However, the regulatory<br>framework proposed by the EC seems relatively cumbersome, with a main<br>text accompanied by numerous annexes, several of which are subject to<br>the management of a new agency (\"European <b>Artificial Intelligence<br>Board</b>”).<br><br>0.7% positive, 2.8% negative<br>by SOCIETE GENERALE (company)<br>Cluster: 0",
          "The proposed mechanism also seems relatively complex, and probably<br>long, to implement and stabilize, due to the large number of actors<br>involved in its functioning and governance (EC, European <b>AI<br>Board</b>, competent national authorities, etc.).<br><br>0.7% positive, 3.2% negative<br>by SOCIETE GENERALE (company)<br>Cluster: 0",
          "Indeed, France Industrie sees both a risk to sovereignty and<br>competitiveness in the possibility for the authorities to have access<br>to the source code and to share it with the European <b>Artificial<br>Intelligence Board</b>.<br><br>0.2% positive, 0.5% negative<br>by France Industrie (company)<br>Cluster: 0",
          "Local authorities support the creation of a European <b>Artificial<br>Intelligence Board</b>, chaired by the European Commission, to issue<br>recommendations and opinions related to the implementation of the<br>regulation as well as to collect and share best practices.<br><br>35.6% positive, 0.6% negative<br>by Eurocities (ngo)<br>Cluster: 0",
          "Therefore, local governments should explicitly be involved as official<br>stakeholders for consultation in <b>the Board</b>.<br><br>0.5% positive, 2.9% negative<br>by Eurocities (ngo)<br>Cluster: 0",
          "Yet this competence is assigned to a newly established European<br><b>Artificial Intelligence Board</b> (the ‘Board’), composed of<br>representatives of Members States and the Commission (art.<br><br>11.9% positive, 3.9% negative<br>by European Center for Not-For-Profit Law Stichting (ngo)<br>Cluster: 0",
          "Lessons learned from sandboxes shall be taken into account in<br>amendments and updates of the regulation Include a balanced industry<br>representation in the envisaged European <b>AI Board</b> o A rule that<br>filters the entries of an Excel spreadsheet for specific criteria or<br>conventional logical programs used in industrial applications for many<br>years for example would be considered as AI according to that<br>definition.<br><br>1.5% positive, 0.5% negative<br>by SIEMENS AG (company)<br>Cluster: 0",
          "The information in the reports that Member State competent authorities<br>submit to the European <b>AI Board</b> and the Commission (Art.<br><br>1.5% positive, 0.3% negative<br>by European Association of Co-operative Banks (business_association)<br>Cluster: 0",
          "Governance: The Proposal for Regulation seeks to establish a<br>governance system leading to the establishment of a European<br><b>Artificial Intelligence Board</b> with the involvement of national<br>authorities to monitor the implementation of the regulation.<br><br>12.2% positive, 0.7% negative<br>by ČMOS PŠ (trade_union)<br>Cluster: 0",
          "It is therefore crucial that education social partners are actively<br>involved in the activities of the European <b>Artificial Intelligence<br>Board</b> through regular consultations and meaningful social<br>dialogue, both at national and European level to monitor the<br>implementation of the regulation and address the risks related to the<br>use of Artificial Intelligence in education.<br><br>1.3% positive, 0.5% negative<br>by ČMOS PŠ (trade_union)<br>Cluster: 0",
          "The proposal to create an <b>AI board</b> is sensible.<br><br>2.3% positive, 0.5% negative<br>by Civil Liberties Union for Europe (ngo)<br>Cluster: 0",
          "The proposal to create an <b>AI board</b> is sensible.<br><br>2.3% positive, 0.5% negative<br>by Civil Liberties Union for Europe (ngo)<br>Cluster: 0",
          "Stronger enforcement and more opportunities for remedies To ensure<br>proper enforcement of the regulation, Liberties recommends giving more<br>autonomy to the EU <b>Artificial Intelligence Board</b> and to<br>designate national DPAs as the national competent authorities.<br><br>18.9% positive, 1.5% negative<br>by Civil Liberties Union for Europe (ngo)<br>Cluster: 0",
          "Governance: The Proposal for Regulation seeks to establish a<br>governance system leading to the establishment of a European<br><b>Artificial Intelligence Board</b> with the involvement of national<br>authorities to monitor the implementation of the regulation.<br><br>12.2% positive, 0.7% negative<br>by Teachers' Union of Ireland (trade_union)<br>Cluster: 0",
          "Furthermore, if the AI Act is adopted as is, there will be two<br>supervisory bodies, the EAIB (European <b>AI Board</b>) and EDPB<br>(European Data Protection Board) with overlapping areas of<br>responsibility which might lead to misinterpretation concerning<br>regulation that takes precedence.<br><br>1.2% positive, 12.8% negative<br>by City of Stockholm (public_authority)<br>Cluster: 0",
          "In addition, the Commission proposes the establishment of a “European<br><b>Artificial Intelligence Board</b>”.<br><br>15.3% positive, 0.7% negative<br>by German Trade Union Confederation DGB (trade_union)<br>Cluster: 0",
          "When doing so, we ask the Commission, the Member States, and <b>the<br>Board</b> to take into account the specific interest and needs of the<br>small-scale providers and startups.<br><br>8.3% positive, 6.3% negative<br>by The Federation of Finnish Enterprises (business_association)<br>Cluster: 0",
          "The establishment of the European <b>Artificial Intelligence Board</b><br>is welcome but does not help mitigate enough the challenges rising<br>from the Member States’ lack of resources and capabilities.<br><br>88.3% positive, 1.2% negative<br>by The Federation of Finnish Enterprises (business_association)<br>Cluster: 0",
          "We would also strongly advice including permanent representation of<br>the AI developers to the structure of <b>the Board</b>, to make sure<br>it has sufficient technical and business insight.<br><br>13.3% positive, 5.8% negative<br>by The Federation of Finnish Enterprises (business_association)<br>Cluster: 0",
          "Whilst the regulation only mentions “external experts and observers”,<br>trade unions should be part of the governance of the EU <b>AI<br>Board</b> to ensure a democratic process and the protection of<br>workers’ rights.<br><br>3.0% positive, 0.8% negative<br>by UNI Europa (trade_union)<br>Cluster: 0",
          "Trade unions should be part of the governance of the EU <b>AI<br>Board</b> to ensure a democratic process and the protection of<br>workers’ rights.<br><br>3.0% positive, 1.1% negative<br>by UNI Europa (trade_union)<br>Cluster: 0",
          "Trade unions should be part of the governance of the EU <b>AI<br>Board</b>.<br><br>1.0% positive, 5.0% negative<br>by UNI Europa (trade_union)<br>Cluster: 0",
          "It is imperative that representatives of the European Standardization<br>Organizations are represented in the European <b>Artificial<br>Intelligence Board</b>.<br><br>37.1% positive, 6.9% negative<br>by DIN Deutsches Institut für Normung e.V. (standardizing_body)<br>Cluster: 0",
          "Recommendation: In order to fulfil this task, it is imperative that<br>representatives of the ESOs are represented in the <b>EAIB</b>.<br><br>2.1% positive, 0.5% negative<br>by DIN Deutsches Institut für Normung e.V. (standardizing_body)<br>Cluster: 0"
         ],
         "type": "scatter",
         "x": [
          0.6683200001716614,
          16.210372924804688,
          -0.5881988406181335,
          -3.332883834838867,
          -1.419487476348877,
          12.50140380859375,
          5.399440765380859,
          -1.9043025970458984,
          2.654822826385498,
          -2.423147201538086,
          -0.08647776395082474,
          1.7469133138656616,
          -5.52112340927124,
          10.409940719604492,
          12.267778396606445,
          14.4079008102417,
          13.349814414978027,
          13.724278450012207,
          -16.967134475708008,
          -17.359270095825195,
          -13.441875457763672,
          -9.733075141906738,
          8.36884880065918,
          -10.539819717407227,
          -11.698410034179688,
          -21.286989212036133,
          -19.9715518951416,
          -2.2697529792785645,
          -20.206302642822266,
          -5.673306941986084,
          0.10821235924959183,
          -5.673306941986084,
          1.3265191316604614,
          -3.885005235671997,
          16.446470260620117,
          2.107755422592163,
          0.10767878592014313,
          7.265273094177246,
          6.242118835449219,
          10.631077766418457,
          13.539124488830566,
          8.21822452545166,
          -3.4118008613586426,
          -12.781097412109375,
          -10.17282772064209,
          -4.9772629737854,
          9.973045349121094,
          7.611506462097168,
          6.46281623840332,
          -10.041539192199707,
          -10.560994148254395,
          -21.796464920043945,
          -21.796951293945312,
          9.36451244354248,
          20.710615158081055,
          0.2162153571844101,
          13.564556121826172,
          9.237014770507812,
          -15.239725112915039,
          9.199442863464355,
          8.071345329284668,
          3.4595324993133545,
          -2.579685926437378,
          -12.082605361938477,
          0.24333323538303375,
          -5.371138572692871,
          -12.644454002380371,
          -11.602225303649902,
          11.655434608459473,
          12.161468505859375,
          -0.7130142450332642,
          -13.827770233154297,
          -8.019364356994629,
          -2.7283096313476562,
          -2.7048518657684326,
          -12.082605361938477,
          -4.088997840881348,
          -10.038023948669434,
          -8.128485679626465,
          -13.70064640045166,
          3.6640233993530273,
          2.5865323543548584,
          -0.860873281955719,
          -2.743230104446411,
          -0.5464932322502136,
          -5.358527660369873,
          16.16193389892578,
          6.622073173522949,
          3.290432929992676,
          -10.638764381408691,
          -19.96680450439453,
          -18.021419525146484,
          5.7996978759765625,
          11.671601295471191,
          12.482317924499512,
          -5.3537492752075195,
          4.642952919006348,
          -14.1244478225708,
          5.339151382446289,
          -2.571244716644287,
          17.56145668029785,
          9.24597454071045,
          15.49347972869873,
          13.104722023010254,
          11.961795806884766,
          3.3743884563446045,
          2.1788601875305176,
          1.2840298414230347,
          1.0033982992172241,
          -6.1549859046936035,
          -9.48263931274414,
          5.608357906341553,
          17.075145721435547,
          -10.84203815460205,
          6.429388046264648,
          8.9623441696167,
          8.488092422485352,
          6.779037952423096,
          -10.921148300170898,
          -6.317419528961182,
          -2.661444664001465,
          -16.529075622558594,
          -13.341666221618652,
          -13.61807632446289,
          15.789228439331055,
          -9.077983856201172,
          0.6167223453521729,
          8.284040451049805,
          8.118850708007812,
          -19.949766159057617,
          10.348006248474121,
          4.611201286315918,
          4.124435901641846,
          1.9136955738067627,
          1.9139714241027832,
          5.730772972106934,
          2.9370217323303223,
          1.2747408151626587,
          7.734091758728027,
          0.6028662919998169,
          6.928577899932861,
          -0.8318606615066528,
          -0.6864334344863892,
          -7.08774995803833,
          -6.953688621520996,
          3.759458541870117,
          2.4099929332733154,
          6.106021404266357,
          10.994905471801758,
          -13.587413787841797,
          -6.778730869293213,
          -16.523534774780273,
          -14.54536247253418,
          10.676424026489258,
          5.097508430480957,
          7.575396537780762,
          -13.049483299255371,
          -14.775899887084961,
          -15.435945510864258,
          -2.1437761783599854,
          -8.296884536743164,
          -12.876232147216797,
          -7.126055717468262,
          -16.107654571533203,
          -16.543292999267578,
          5.138241767883301,
          -1.7347004413604736,
          -5.488397121429443,
          3.8016340732574463,
          7.242673397064209,
          -16.13420295715332,
          11.737468719482422,
          5.447964668273926,
          -0.08744832873344421,
          0.6677308082580566,
          16.210317611694336,
          -0.5881988406181335,
          -3.3324408531188965,
          -1.419487476348877,
          12.50140380859375,
          9.01980209350586,
          -13.507692337036133,
          3.3016011714935303,
          -18.589893341064453,
          -10.562217712402344,
          -10.951556205749512,
          3.200446128845215,
          18.847623825073242,
          6.262768268585205,
          5.482059478759766,
          10.2784423828125,
          -6.935463905334473,
          8.114490509033203,
          -15.656379699707031,
          4.76629638671875,
          -6.919707298278809,
          18.145872116088867,
          3.9169483184814453,
          19.209253311157227,
          -0.8465471267700195,
          -2.237931966781616,
          1.349930763244629,
          3.3031210899353027,
          -18.405656814575195,
          5.973604202270508,
          -21.46377944946289,
          -1.767795443534851,
          -1.7680855989456177,
          -4.849140167236328,
          3.9513285160064697,
          3.150407075881958,
          12.280040740966797,
          4.859872341156006,
          -19.34242820739746,
          9.082376480102539,
          16.13368797302246,
          3.227644920349121,
          3.3751461505889893,
          18.761890411376953,
          -0.35534462332725525,
          -0.35539349913597107,
          -2.8366198539733887,
          4.138321876525879,
          -6.545445919036865,
          7.743792533874512,
          -22.370264053344727,
          10.155171394348145,
          -2.5065627098083496,
          4.228505611419678,
          4.749138355255127,
          5.130917549133301,
          7.457523822784424,
          -14.509605407714844
         ],
         "y": [
          -10.005897521972656,
          3.344048023223877,
          -14.845328330993652,
          -9.107669830322266,
          -10.186487197875977,
          17.06922149658203,
          9.516637802124023,
          0.458548367023468,
          -0.274821400642395,
          -1.9431544542312622,
          6.853637218475342,
          5.491488456726074,
          -8.070512771606445,
          -1.5476847887039185,
          16.040193557739258,
          7.983139991760254,
          6.584200859069824,
          4.125818729400635,
          4.098965167999268,
          3.8908140659332275,
          -9.291398048400879,
          14.431926727294922,
          -0.7304703593254089,
          -3.3300771713256836,
          -5.969718933105469,
          -0.7671881914138794,
          -1.636281967163086,
          9.320981979370117,
          -5.38590145111084,
          8.408559799194336,
          -7.521975040435791,
          8.408559799194336,
          -5.2288336753845215,
          -0.05011570826172829,
          -0.6216915845870972,
          -2.275052309036255,
          -7.5223188400268555,
          0.21394021809101105,
          4.73676061630249,
          1.9137566089630127,
          2.3644134998321533,
          -7.6635918617248535,
          -3.8778254985809326,
          -15.129709243774414,
          -14.551342964172363,
          -12.148492813110352,
          -12.114435195922852,
          -2.691011428833008,
          -2.5813069343566895,
          13.553572654724121,
          13.036462783813477,
          3.5256896018981934,
          3.525991678237915,
          3.290830135345459,
          10.45012092590332,
          1.5350080728530884,
          6.881766319274902,
          10.521354675292969,
          -3.4796111583709717,
          -5.517714977264404,
          8.404236793518066,
          6.050145149230957,
          12.605940818786621,
          -0.1244344413280487,
          5.593707084655762,
          -2.4320037364959717,
          5.389227867126465,
          4.553300380706787,
          -8.429472923278809,
          -9.653170585632324,
          -4.577249526977539,
          3.147759437561035,
          2.7432188987731934,
          -5.722644329071045,
          12.930984497070312,
          -0.1244344413280487,
          12.406204223632812,
          -16.474416732788086,
          2.488917112350464,
          3.800748825073242,
          -7.54358434677124,
          -0.11040913313627243,
          11.04403305053711,
          2.801342725753784,
          -2.6579766273498535,
          3.4617903232574463,
          6.340372562408447,
          17.58994483947754,
          -1.4141261577606201,
          -3.1489250659942627,
          -1.6335500478744507,
          -2.4072299003601074,
          5.945516586303711,
          -1.495508074760437,
          0.31972014904022217,
          -6.590845584869385,
          2.309734344482422,
          3.7504067420959473,
          6.719355583190918,
          15.138239860534668,
          3.635622262954712,
          10.895713806152344,
          -4.34652853012085,
          10.76181411743164,
          9.965824127197266,
          7.778650283813477,
          7.676233291625977,
          10.138017654418945,
          8.514107704162598,
          -11.056055068969727,
          -13.729081153869629,
          -9.238447189331055,
          1.3674888610839844,
          -13.537304878234863,
          -4.3401103019714355,
          -8.68529987335205,
          6.739193916320801,
          12.183752059936523,
          -6.822017192840576,
          -13.478446960449219,
          -14.443355560302734,
          -5.127284049987793,
          -12.781281471252441,
          -0.8560191988945007,
          -6.064633846282959,
          -10.243220329284668,
          -3.341627359390259,
          3.746105194091797,
          -0.5648962259292603,
          -5.357908248901367,
          8.747306823730469,
          4.848854064941406,
          4.54650354385376,
          2.775510549545288,
          2.7757458686828613,
          -7.375644683837891,
          0.46195539832115173,
          -0.14885926246643066,
          -6.23833703994751,
          -13.928879737854004,
          6.129026889801025,
          -1.0535231828689575,
          -2.0231525897979736,
          -3.723825693130493,
          -3.5784127712249756,
          13.5711088180542,
          4.890198707580566,
          2.9085423946380615,
          -0.6996620297431946,
          -4.499920845031738,
          0.5967203378677368,
          9.720466613769531,
          -1.959804654121399,
          -4.1746697425842285,
          18.150562286376953,
          18.526411056518555,
          -3.99360990524292,
          -5.563604354858398,
          -5.3015241622924805,
          -16.366132736206055,
          -6.570317268371582,
          -14.922884941101074,
          -13.511001586914062,
          -0.28476840257644653,
          9.729690551757812,
          1.0454245805740356,
          -5.366497993469238,
          4.172985076904297,
          11.107512474060059,
          3.2438101768493652,
          -13.363325119018555,
          6.274719715118408,
          -10.752030372619629,
          -11.43266487121582,
          -10.005309104919434,
          3.344048500061035,
          -14.845328330993652,
          -9.10790729522705,
          -10.186487197875977,
          17.06922149658203,
          5.1403117179870605,
          -9.326569557189941,
          9.350302696228027,
          -10.847668647766113,
          13.823626518249512,
          -1.5744448900222778,
          -4.2022223472595215,
          9.903694152832031,
          16.896156311035156,
          -0.7949436902999878,
          -5.293651103973389,
          -17.258596420288086,
          2.6435606479644775,
          -2.4740960597991943,
          -0.3023150861263275,
          0.2035704404115677,
          10.39490795135498,
          -4.030712604522705,
          10.473633766174316,
          3.3467628955841064,
          6.694002628326416,
          11.763298988342285,
          9.356165885925293,
          -10.956441879272461,
          7.960315227508545,
          -5.582362174987793,
          4.867331027984619,
          4.866952419281006,
          -18.45749282836914,
          -6.348516941070557,
          -8.783726692199707,
          -5.501635551452637,
          -2.298895835876465,
          -7.942882537841797,
          1.7339140176773071,
          -4.223106384277344,
          -12.880026817321777,
          -4.819735050201416,
          10.962174415588379,
          16.55278968811035,
          16.552854537963867,
          -11.51908016204834,
          -4.6480183601379395,
          -17.340309143066406,
          1.78334379196167,
          2.732828378677368,
          3.8518097400665283,
          14.234041213989258,
          -17.32730484008789,
          -17.56836700439453,
          -17.387706756591797,
          4.741268157958984,
          -13.499954223632812
         ]
        }
       ],
       "layout": {
        "font": {
         "color": "white"
        },
        "legend": {
         "font": {
          "color": "white"
         }
        },
        "margin": {
         "b": 0,
         "l": 0,
         "r": 0,
         "t": 0
        },
        "paper_bgcolor": "rgba(0, 0, 0, 0)",
        "plot_bgcolor": "rgba(0, 0, 0, 0)",
        "template": {
         "data": {
          "bar": [
           {
            "error_x": {
             "color": "#2a3f5f"
            },
            "error_y": {
             "color": "#2a3f5f"
            },
            "marker": {
             "line": {
              "color": "#E5ECF6",
              "width": 0.5
             },
             "pattern": {
              "fillmode": "overlay",
              "size": 10,
              "solidity": 0.2
             }
            },
            "type": "bar"
           }
          ],
          "barpolar": [
           {
            "marker": {
             "line": {
              "color": "#E5ECF6",
              "width": 0.5
             },
             "pattern": {
              "fillmode": "overlay",
              "size": 10,
              "solidity": 0.2
             }
            },
            "type": "barpolar"
           }
          ],
          "carpet": [
           {
            "aaxis": {
             "endlinecolor": "#2a3f5f",
             "gridcolor": "white",
             "linecolor": "white",
             "minorgridcolor": "white",
             "startlinecolor": "#2a3f5f"
            },
            "baxis": {
             "endlinecolor": "#2a3f5f",
             "gridcolor": "white",
             "linecolor": "white",
             "minorgridcolor": "white",
             "startlinecolor": "#2a3f5f"
            },
            "type": "carpet"
           }
          ],
          "choropleth": [
           {
            "colorbar": {
             "outlinewidth": 0,
             "ticks": ""
            },
            "type": "choropleth"
           }
          ],
          "contour": [
           {
            "colorbar": {
             "outlinewidth": 0,
             "ticks": ""
            },
            "colorscale": [
             [
              0,
              "#0d0887"
             ],
             [
              0.1111111111111111,
              "#46039f"
             ],
             [
              0.2222222222222222,
              "#7201a8"
             ],
             [
              0.3333333333333333,
              "#9c179e"
             ],
             [
              0.4444444444444444,
              "#bd3786"
             ],
             [
              0.5555555555555556,
              "#d8576b"
             ],
             [
              0.6666666666666666,
              "#ed7953"
             ],
             [
              0.7777777777777778,
              "#fb9f3a"
             ],
             [
              0.8888888888888888,
              "#fdca26"
             ],
             [
              1,
              "#f0f921"
             ]
            ],
            "type": "contour"
           }
          ],
          "contourcarpet": [
           {
            "colorbar": {
             "outlinewidth": 0,
             "ticks": ""
            },
            "type": "contourcarpet"
           }
          ],
          "heatmap": [
           {
            "colorbar": {
             "outlinewidth": 0,
             "ticks": ""
            },
            "colorscale": [
             [
              0,
              "#0d0887"
             ],
             [
              0.1111111111111111,
              "#46039f"
             ],
             [
              0.2222222222222222,
              "#7201a8"
             ],
             [
              0.3333333333333333,
              "#9c179e"
             ],
             [
              0.4444444444444444,
              "#bd3786"
             ],
             [
              0.5555555555555556,
              "#d8576b"
             ],
             [
              0.6666666666666666,
              "#ed7953"
             ],
             [
              0.7777777777777778,
              "#fb9f3a"
             ],
             [
              0.8888888888888888,
              "#fdca26"
             ],
             [
              1,
              "#f0f921"
             ]
            ],
            "type": "heatmap"
           }
          ],
          "heatmapgl": [
           {
            "colorbar": {
             "outlinewidth": 0,
             "ticks": ""
            },
            "colorscale": [
             [
              0,
              "#0d0887"
             ],
             [
              0.1111111111111111,
              "#46039f"
             ],
             [
              0.2222222222222222,
              "#7201a8"
             ],
             [
              0.3333333333333333,
              "#9c179e"
             ],
             [
              0.4444444444444444,
              "#bd3786"
             ],
             [
              0.5555555555555556,
              "#d8576b"
             ],
             [
              0.6666666666666666,
              "#ed7953"
             ],
             [
              0.7777777777777778,
              "#fb9f3a"
             ],
             [
              0.8888888888888888,
              "#fdca26"
             ],
             [
              1,
              "#f0f921"
             ]
            ],
            "type": "heatmapgl"
           }
          ],
          "histogram": [
           {
            "marker": {
             "pattern": {
              "fillmode": "overlay",
              "size": 10,
              "solidity": 0.2
             }
            },
            "type": "histogram"
           }
          ],
          "histogram2d": [
           {
            "colorbar": {
             "outlinewidth": 0,
             "ticks": ""
            },
            "colorscale": [
             [
              0,
              "#0d0887"
             ],
             [
              0.1111111111111111,
              "#46039f"
             ],
             [
              0.2222222222222222,
              "#7201a8"
             ],
             [
              0.3333333333333333,
              "#9c179e"
             ],
             [
              0.4444444444444444,
              "#bd3786"
             ],
             [
              0.5555555555555556,
              "#d8576b"
             ],
             [
              0.6666666666666666,
              "#ed7953"
             ],
             [
              0.7777777777777778,
              "#fb9f3a"
             ],
             [
              0.8888888888888888,
              "#fdca26"
             ],
             [
              1,
              "#f0f921"
             ]
            ],
            "type": "histogram2d"
           }
          ],
          "histogram2dcontour": [
           {
            "colorbar": {
             "outlinewidth": 0,
             "ticks": ""
            },
            "colorscale": [
             [
              0,
              "#0d0887"
             ],
             [
              0.1111111111111111,
              "#46039f"
             ],
             [
              0.2222222222222222,
              "#7201a8"
             ],
             [
              0.3333333333333333,
              "#9c179e"
             ],
             [
              0.4444444444444444,
              "#bd3786"
             ],
             [
              0.5555555555555556,
              "#d8576b"
             ],
             [
              0.6666666666666666,
              "#ed7953"
             ],
             [
              0.7777777777777778,
              "#fb9f3a"
             ],
             [
              0.8888888888888888,
              "#fdca26"
             ],
             [
              1,
              "#f0f921"
             ]
            ],
            "type": "histogram2dcontour"
           }
          ],
          "mesh3d": [
           {
            "colorbar": {
             "outlinewidth": 0,
             "ticks": ""
            },
            "type": "mesh3d"
           }
          ],
          "parcoords": [
           {
            "line": {
             "colorbar": {
              "outlinewidth": 0,
              "ticks": ""
             }
            },
            "type": "parcoords"
           }
          ],
          "pie": [
           {
            "automargin": true,
            "type": "pie"
           }
          ],
          "scatter": [
           {
            "fillpattern": {
             "fillmode": "overlay",
             "size": 10,
             "solidity": 0.2
            },
            "type": "scatter"
           }
          ],
          "scatter3d": [
           {
            "line": {
             "colorbar": {
              "outlinewidth": 0,
              "ticks": ""
             }
            },
            "marker": {
             "colorbar": {
              "outlinewidth": 0,
              "ticks": ""
             }
            },
            "type": "scatter3d"
           }
          ],
          "scattercarpet": [
           {
            "marker": {
             "colorbar": {
              "outlinewidth": 0,
              "ticks": ""
             }
            },
            "type": "scattercarpet"
           }
          ],
          "scattergeo": [
           {
            "marker": {
             "colorbar": {
              "outlinewidth": 0,
              "ticks": ""
             }
            },
            "type": "scattergeo"
           }
          ],
          "scattergl": [
           {
            "marker": {
             "colorbar": {
              "outlinewidth": 0,
              "ticks": ""
             }
            },
            "type": "scattergl"
           }
          ],
          "scattermapbox": [
           {
            "marker": {
             "colorbar": {
              "outlinewidth": 0,
              "ticks": ""
             }
            },
            "type": "scattermapbox"
           }
          ],
          "scatterpolar": [
           {
            "marker": {
             "colorbar": {
              "outlinewidth": 0,
              "ticks": ""
             }
            },
            "type": "scatterpolar"
           }
          ],
          "scatterpolargl": [
           {
            "marker": {
             "colorbar": {
              "outlinewidth": 0,
              "ticks": ""
             }
            },
            "type": "scatterpolargl"
           }
          ],
          "scatterternary": [
           {
            "marker": {
             "colorbar": {
              "outlinewidth": 0,
              "ticks": ""
             }
            },
            "type": "scatterternary"
           }
          ],
          "surface": [
           {
            "colorbar": {
             "outlinewidth": 0,
             "ticks": ""
            },
            "colorscale": [
             [
              0,
              "#0d0887"
             ],
             [
              0.1111111111111111,
              "#46039f"
             ],
             [
              0.2222222222222222,
              "#7201a8"
             ],
             [
              0.3333333333333333,
              "#9c179e"
             ],
             [
              0.4444444444444444,
              "#bd3786"
             ],
             [
              0.5555555555555556,
              "#d8576b"
             ],
             [
              0.6666666666666666,
              "#ed7953"
             ],
             [
              0.7777777777777778,
              "#fb9f3a"
             ],
             [
              0.8888888888888888,
              "#fdca26"
             ],
             [
              1,
              "#f0f921"
             ]
            ],
            "type": "surface"
           }
          ],
          "table": [
           {
            "cells": {
             "fill": {
              "color": "#EBF0F8"
             },
             "line": {
              "color": "white"
             }
            },
            "header": {
             "fill": {
              "color": "#C8D4E3"
             },
             "line": {
              "color": "white"
             }
            },
            "type": "table"
           }
          ]
         },
         "layout": {
          "annotationdefaults": {
           "arrowcolor": "#2a3f5f",
           "arrowhead": 0,
           "arrowwidth": 1
          },
          "autotypenumbers": "strict",
          "coloraxis": {
           "colorbar": {
            "outlinewidth": 0,
            "ticks": ""
           }
          },
          "colorscale": {
           "diverging": [
            [
             0,
             "#8e0152"
            ],
            [
             0.1,
             "#c51b7d"
            ],
            [
             0.2,
             "#de77ae"
            ],
            [
             0.3,
             "#f1b6da"
            ],
            [
             0.4,
             "#fde0ef"
            ],
            [
             0.5,
             "#f7f7f7"
            ],
            [
             0.6,
             "#e6f5d0"
            ],
            [
             0.7,
             "#b8e186"
            ],
            [
             0.8,
             "#7fbc41"
            ],
            [
             0.9,
             "#4d9221"
            ],
            [
             1,
             "#276419"
            ]
           ],
           "sequential": [
            [
             0,
             "#0d0887"
            ],
            [
             0.1111111111111111,
             "#46039f"
            ],
            [
             0.2222222222222222,
             "#7201a8"
            ],
            [
             0.3333333333333333,
             "#9c179e"
            ],
            [
             0.4444444444444444,
             "#bd3786"
            ],
            [
             0.5555555555555556,
             "#d8576b"
            ],
            [
             0.6666666666666666,
             "#ed7953"
            ],
            [
             0.7777777777777778,
             "#fb9f3a"
            ],
            [
             0.8888888888888888,
             "#fdca26"
            ],
            [
             1,
             "#f0f921"
            ]
           ],
           "sequentialminus": [
            [
             0,
             "#0d0887"
            ],
            [
             0.1111111111111111,
             "#46039f"
            ],
            [
             0.2222222222222222,
             "#7201a8"
            ],
            [
             0.3333333333333333,
             "#9c179e"
            ],
            [
             0.4444444444444444,
             "#bd3786"
            ],
            [
             0.5555555555555556,
             "#d8576b"
            ],
            [
             0.6666666666666666,
             "#ed7953"
            ],
            [
             0.7777777777777778,
             "#fb9f3a"
            ],
            [
             0.8888888888888888,
             "#fdca26"
            ],
            [
             1,
             "#f0f921"
            ]
           ]
          },
          "colorway": [
           "#636efa",
           "#EF553B",
           "#00cc96",
           "#ab63fa",
           "#FFA15A",
           "#19d3f3",
           "#FF6692",
           "#B6E880",
           "#FF97FF",
           "#FECB52"
          ],
          "font": {
           "color": "#2a3f5f"
          },
          "geo": {
           "bgcolor": "white",
           "lakecolor": "white",
           "landcolor": "#E5ECF6",
           "showlakes": true,
           "showland": true,
           "subunitcolor": "white"
          },
          "hoverlabel": {
           "align": "left"
          },
          "hovermode": "closest",
          "mapbox": {
           "style": "light"
          },
          "paper_bgcolor": "white",
          "plot_bgcolor": "#E5ECF6",
          "polar": {
           "angularaxis": {
            "gridcolor": "white",
            "linecolor": "white",
            "ticks": ""
           },
           "bgcolor": "#E5ECF6",
           "radialaxis": {
            "gridcolor": "white",
            "linecolor": "white",
            "ticks": ""
           }
          },
          "scene": {
           "xaxis": {
            "backgroundcolor": "#E5ECF6",
            "gridcolor": "white",
            "gridwidth": 2,
            "linecolor": "white",
            "showbackground": true,
            "ticks": "",
            "zerolinecolor": "white"
           },
           "yaxis": {
            "backgroundcolor": "#E5ECF6",
            "gridcolor": "white",
            "gridwidth": 2,
            "linecolor": "white",
            "showbackground": true,
            "ticks": "",
            "zerolinecolor": "white"
           },
           "zaxis": {
            "backgroundcolor": "#E5ECF6",
            "gridcolor": "white",
            "gridwidth": 2,
            "linecolor": "white",
            "showbackground": true,
            "ticks": "",
            "zerolinecolor": "white"
           }
          },
          "shapedefaults": {
           "line": {
            "color": "#2a3f5f"
           }
          },
          "ternary": {
           "aaxis": {
            "gridcolor": "white",
            "linecolor": "white",
            "ticks": ""
           },
           "baxis": {
            "gridcolor": "white",
            "linecolor": "white",
            "ticks": ""
           },
           "bgcolor": "#E5ECF6",
           "caxis": {
            "gridcolor": "white",
            "linecolor": "white",
            "ticks": ""
           }
          },
          "title": {
           "x": 0.05
          },
          "xaxis": {
           "automargin": true,
           "gridcolor": "white",
           "linecolor": "white",
           "ticks": "",
           "title": {
            "standoff": 15
           },
           "zerolinecolor": "white",
           "zerolinewidth": 2
          },
          "yaxis": {
           "automargin": true,
           "gridcolor": "white",
           "linecolor": "white",
           "ticks": "",
           "title": {
            "standoff": 15
           },
           "zerolinecolor": "white",
           "zerolinewidth": 2
          }
         }
        },
        "xaxis": {
         "color": "white",
         "visible": false
        },
        "yaxis": {
         "color": "white",
         "visible": false
        }
       }
      }
     },
     "metadata": {},
     "output_type": "display_data"
    }
   ],
   "source": [
    "graphs.embedding_scatter_plot(df)"
   ]
  },
  {
   "attachments": {},
   "cell_type": "markdown",
   "metadata": {},
   "source": [
    "#### Cluster based on SBERT embeddings"
   ]
  },
  {
   "cell_type": "code",
   "execution_count": 6,
   "metadata": {},
   "outputs": [],
   "source": [
    "df = utils.get_tsne_embedding(texts, embeddings, \"eaib\", \"\")\n",
    "df = utils.add_clustering(df, embeddings, texts)"
   ]
  },
  {
   "cell_type": "code",
   "execution_count": 7,
   "metadata": {},
   "outputs": [
    {
     "data": {
      "application/vnd.plotly.v1+json": {
       "config": {
        "plotlyServerURL": "https://plot.ly"
       },
       "data": [
        {
         "hoverinfo": "text",
         "marker": {
          "color": [
           "rgba(99, 184, 249, 0.75)",
           "rgba(99, 184, 249, 0.75)",
           "rgba(99, 184, 249, 0.75)",
           "rgba(239, 85, 59, 1)",
           "rgba(0, 204, 150, 1)",
           "rgba(99, 184, 249, 0.75)",
           "rgba(99, 184, 249, 0.75)",
           "rgba(99, 184, 249, 0.75)",
           "rgba(0, 204, 150, 1)",
           "rgba(99, 184, 249, 0.75)",
           "rgba(99, 184, 249, 0.75)",
           "rgba(0, 204, 150, 1)",
           "rgba(0, 204, 150, 1)",
           "rgba(99, 184, 249, 0.75)",
           "rgba(99, 184, 249, 0.75)",
           "rgba(99, 184, 249, 0.75)",
           "rgba(99, 184, 249, 0.75)",
           "rgba(0, 204, 150, 1)",
           "rgba(99, 184, 249, 0.75)",
           "rgba(239, 85, 59, 1)",
           "rgba(99, 184, 249, 0.75)",
           "rgba(0, 204, 150, 1)",
           "rgba(99, 184, 249, 0.75)",
           "rgba(99, 184, 249, 0.75)",
           "rgba(0, 204, 150, 1)",
           "rgba(0, 204, 150, 1)",
           "rgba(99, 184, 249, 0.75)",
           "rgba(99, 184, 249, 0.75)",
           "rgba(99, 184, 249, 0.75)",
           "rgba(0, 204, 150, 1)",
           "rgba(99, 184, 249, 0.75)",
           "rgba(0, 204, 150, 1)",
           "rgba(0, 204, 150, 1)",
           "rgba(99, 184, 249, 0.75)",
           "rgba(239, 85, 59, 1)",
           "rgba(99, 184, 249, 0.75)",
           "rgba(99, 184, 249, 0.75)",
           "rgba(0, 204, 150, 1)",
           "rgba(99, 184, 249, 0.75)",
           "rgba(99, 184, 249, 0.75)",
           "rgba(99, 184, 249, 0.75)",
           "rgba(99, 184, 249, 0.75)",
           "rgba(99, 184, 249, 0.75)",
           "rgba(99, 184, 249, 0.75)",
           "rgba(99, 184, 249, 0.75)",
           "rgba(0, 204, 150, 1)",
           "rgba(99, 184, 249, 0.75)",
           "rgba(99, 184, 249, 0.75)",
           "rgba(99, 184, 249, 0.75)",
           "rgba(99, 184, 249, 0.75)",
           "rgba(99, 184, 249, 0.75)",
           "rgba(99, 184, 249, 0.75)",
           "rgba(99, 184, 249, 0.75)",
           "rgba(0, 204, 150, 1)",
           "rgba(99, 184, 249, 0.75)",
           "rgba(99, 184, 249, 0.75)",
           "rgba(99, 184, 249, 0.75)",
           "rgba(0, 204, 150, 1)",
           "rgba(0, 204, 150, 1)",
           "rgba(0, 204, 150, 1)",
           "rgba(99, 184, 249, 0.75)",
           "rgba(99, 184, 249, 0.75)",
           "rgba(99, 184, 249, 0.75)",
           "rgba(0, 204, 150, 1)",
           "rgba(99, 184, 249, 0.75)",
           "rgba(99, 184, 249, 0.75)",
           "rgba(99, 184, 249, 0.75)",
           "rgba(99, 184, 249, 0.75)",
           "rgba(99, 184, 249, 0.75)",
           "rgba(99, 184, 249, 0.75)",
           "rgba(0, 204, 150, 1)",
           "rgba(0, 204, 150, 1)",
           "rgba(0, 204, 150, 1)",
           "rgba(99, 184, 249, 0.75)",
           "rgba(239, 85, 59, 1)",
           "rgba(0, 204, 150, 1)",
           "rgba(99, 184, 249, 0.75)",
           "rgba(99, 184, 249, 0.75)",
           "rgba(99, 184, 249, 0.75)",
           "rgba(0, 204, 150, 1)",
           "rgba(99, 184, 249, 0.75)",
           "rgba(0, 204, 150, 1)",
           "rgba(0, 204, 150, 1)",
           "rgba(99, 184, 249, 0.75)",
           "rgba(99, 184, 249, 0.75)",
           "rgba(99, 184, 249, 0.75)",
           "rgba(99, 184, 249, 0.75)",
           "rgba(99, 184, 249, 0.75)",
           "rgba(99, 184, 249, 0.75)",
           "rgba(99, 184, 249, 0.75)",
           "rgba(99, 184, 249, 0.75)",
           "rgba(99, 184, 249, 0.75)",
           "rgba(0, 204, 150, 1)",
           "rgba(99, 184, 249, 0.75)",
           "rgba(99, 184, 249, 0.75)",
           "rgba(99, 184, 249, 0.75)",
           "rgba(99, 184, 249, 0.75)",
           "rgba(0, 204, 150, 1)",
           "rgba(99, 184, 249, 0.75)",
           "rgba(99, 184, 249, 0.75)",
           "rgba(239, 85, 59, 1)",
           "rgba(99, 184, 249, 0.75)",
           "rgba(99, 184, 249, 0.75)",
           "rgba(99, 184, 249, 0.75)",
           "rgba(99, 184, 249, 0.75)",
           "rgba(0, 204, 150, 1)",
           "rgba(0, 204, 150, 1)",
           "rgba(99, 184, 249, 0.75)",
           "rgba(99, 184, 249, 0.75)",
           "rgba(99, 184, 249, 0.75)",
           "rgba(0, 204, 150, 1)",
           "rgba(99, 184, 249, 0.75)",
           "rgba(239, 85, 59, 1)",
           "rgba(0, 204, 150, 1)",
           "rgba(99, 184, 249, 0.75)",
           "rgba(0, 204, 150, 1)",
           "rgba(0, 204, 150, 1)",
           "rgba(99, 184, 249, 0.75)",
           "rgba(99, 184, 249, 0.75)",
           "rgba(0, 204, 150, 1)",
           "rgba(99, 184, 249, 0.75)",
           "rgba(99, 184, 249, 0.75)",
           "rgba(99, 184, 249, 0.75)",
           "rgba(0, 204, 150, 1)",
           "rgba(99, 184, 249, 0.75)",
           "rgba(99, 184, 249, 0.75)",
           "rgba(99, 184, 249, 0.75)",
           "rgba(99, 184, 249, 0.75)",
           "rgba(99, 184, 249, 0.75)",
           "rgba(99, 184, 249, 0.75)",
           "rgba(99, 184, 249, 0.75)",
           "rgba(99, 184, 249, 0.75)",
           "rgba(99, 184, 249, 0.75)",
           "rgba(99, 184, 249, 0.75)",
           "rgba(99, 184, 249, 0.75)",
           "rgba(0, 204, 150, 1)",
           "rgba(0, 204, 150, 1)",
           "rgba(99, 184, 249, 0.75)",
           "rgba(99, 184, 249, 0.75)",
           "rgba(239, 85, 59, 1)",
           "rgba(99, 184, 249, 0.75)",
           "rgba(99, 184, 249, 0.75)",
           "rgba(99, 184, 249, 0.75)",
           "rgba(99, 184, 249, 0.75)",
           "rgba(99, 184, 249, 0.75)",
           "rgba(99, 184, 249, 0.75)",
           "rgba(99, 184, 249, 0.75)",
           "rgba(99, 184, 249, 0.75)",
           "rgba(0, 204, 150, 1)",
           "rgba(0, 204, 150, 1)",
           "rgba(0, 204, 150, 1)",
           "rgba(239, 85, 59, 1)",
           "rgba(0, 204, 150, 1)",
           "rgba(239, 85, 59, 1)",
           "rgba(99, 184, 249, 0.75)",
           "rgba(239, 85, 59, 1)",
           "rgba(0, 204, 150, 1)",
           "rgba(99, 184, 249, 0.75)",
           "rgba(99, 184, 249, 0.75)",
           "rgba(239, 85, 59, 1)",
           "rgba(99, 184, 249, 0.75)",
           "rgba(99, 184, 249, 0.75)",
           "rgba(99, 184, 249, 0.75)",
           "rgba(0, 204, 150, 1)",
           "rgba(239, 85, 59, 1)",
           "rgba(0, 204, 150, 1)",
           "rgba(0, 204, 150, 1)",
           "rgba(99, 184, 249, 0.75)",
           "rgba(0, 204, 150, 1)",
           "rgba(99, 184, 249, 0.75)",
           "rgba(99, 184, 249, 0.75)",
           "rgba(99, 184, 249, 0.75)",
           "rgba(99, 184, 249, 0.75)",
           "rgba(99, 184, 249, 0.75)",
           "rgba(99, 184, 249, 0.75)",
           "rgba(99, 184, 249, 0.75)",
           "rgba(99, 184, 249, 0.75)",
           "rgba(239, 85, 59, 1)",
           "rgba(0, 204, 150, 1)",
           "rgba(99, 184, 249, 0.75)",
           "rgba(0, 204, 150, 1)",
           "rgba(99, 184, 249, 0.75)",
           "rgba(0, 204, 150, 1)",
           "rgba(99, 184, 249, 0.75)",
           "rgba(99, 184, 249, 0.75)",
           "rgba(99, 184, 249, 0.75)",
           "rgba(99, 184, 249, 0.75)",
           "rgba(99, 184, 249, 0.75)",
           "rgba(99, 184, 249, 0.75)",
           "rgba(0, 204, 150, 1)",
           "rgba(99, 184, 249, 0.75)",
           "rgba(99, 184, 249, 0.75)",
           "rgba(99, 184, 249, 0.75)",
           "rgba(0, 204, 150, 1)",
           "rgba(99, 184, 249, 0.75)",
           "rgba(99, 184, 249, 0.75)",
           "rgba(99, 184, 249, 0.75)",
           "rgba(99, 184, 249, 0.75)",
           "rgba(99, 184, 249, 0.75)",
           "rgba(0, 204, 150, 1)",
           "rgba(99, 184, 249, 0.75)",
           "rgba(99, 184, 249, 0.75)",
           "rgba(0, 204, 150, 1)",
           "rgba(99, 184, 249, 0.75)",
           "rgba(0, 204, 150, 1)",
           "rgba(99, 184, 249, 0.75)",
           "rgba(0, 204, 150, 1)",
           "rgba(0, 204, 150, 1)",
           "rgba(99, 184, 249, 0.75)",
           "rgba(99, 184, 249, 0.75)",
           "rgba(99, 184, 249, 0.75)",
           "rgba(99, 184, 249, 0.75)",
           "rgba(0, 204, 150, 1)",
           "rgba(99, 184, 249, 0.75)",
           "rgba(99, 184, 249, 0.75)",
           "rgba(99, 184, 249, 0.75)",
           "rgba(99, 184, 249, 0.75)",
           "rgba(99, 184, 249, 0.75)",
           "rgba(99, 184, 249, 0.75)",
           "rgba(99, 184, 249, 0.75)",
           "rgba(99, 184, 249, 0.75)",
           "rgba(99, 184, 249, 0.75)",
           "rgba(99, 184, 249, 0.75)",
           "rgba(99, 184, 249, 0.75)",
           "rgba(99, 184, 249, 0.75)",
           "rgba(99, 184, 249, 0.75)",
           "rgba(0, 204, 150, 1)",
           "rgba(99, 184, 249, 0.75)",
           "rgba(99, 184, 249, 0.75)",
           "rgba(99, 184, 249, 0.75)",
           "rgba(99, 184, 249, 0.75)",
           "rgba(0, 204, 150, 1)",
           "rgba(99, 184, 249, 0.75)"
          ],
          "line": {
           "width": 0
          },
          "size": [
           5,
           5,
           5,
           9,
           9,
           5,
           5,
           5,
           9,
           5,
           5,
           9,
           9,
           5,
           5,
           5,
           5,
           9,
           5,
           9,
           5,
           9,
           5,
           5,
           9,
           9,
           5,
           5,
           5,
           9,
           5,
           9,
           9,
           5,
           9,
           5,
           5,
           9,
           5,
           5,
           5,
           5,
           5,
           5,
           5,
           9,
           5,
           5,
           5,
           5,
           5,
           5,
           5,
           9,
           5,
           5,
           5,
           9,
           9,
           9,
           5,
           5,
           5,
           9,
           5,
           5,
           5,
           5,
           5,
           5,
           9,
           9,
           9,
           5,
           9,
           9,
           5,
           5,
           5,
           9,
           5,
           9,
           9,
           5,
           5,
           5,
           5,
           5,
           5,
           5,
           5,
           5,
           9,
           5,
           5,
           5,
           5,
           9,
           5,
           5,
           9,
           5,
           5,
           5,
           5,
           9,
           9,
           5,
           5,
           5,
           9,
           5,
           9,
           9,
           5,
           9,
           9,
           5,
           5,
           9,
           5,
           5,
           5,
           9,
           5,
           5,
           5,
           5,
           5,
           5,
           5,
           5,
           5,
           5,
           5,
           9,
           9,
           5,
           5,
           9,
           5,
           5,
           5,
           5,
           5,
           5,
           5,
           5,
           9,
           9,
           9,
           9,
           9,
           9,
           5,
           9,
           9,
           5,
           5,
           9,
           5,
           5,
           5,
           9,
           9,
           9,
           9,
           5,
           9,
           5,
           5,
           5,
           5,
           5,
           5,
           5,
           5,
           9,
           9,
           5,
           9,
           5,
           9,
           5,
           5,
           5,
           5,
           5,
           5,
           9,
           5,
           5,
           5,
           9,
           5,
           5,
           5,
           5,
           5,
           9,
           5,
           5,
           9,
           5,
           9,
           5,
           9,
           9,
           5,
           5,
           5,
           5,
           9,
           5,
           5,
           5,
           5,
           5,
           5,
           5,
           5,
           5,
           5,
           5,
           5,
           5,
           9,
           5,
           5,
           5,
           5,
           9,
           5
          ],
          "symbol": [
           "diamond",
           "diamond",
           "diamond",
           "cross",
           "square",
           "diamond",
           "diamond",
           "diamond",
           "square",
           "diamond",
           "diamond",
           "square",
           "square",
           "diamond",
           "diamond",
           "diamond",
           "diamond",
           "square",
           "diamond",
           "circle",
           "diamond",
           "square",
           "diamond",
           "diamond",
           "square",
           "circle",
           "diamond",
           "diamond",
           "diamond",
           "square",
           "diamond",
           "square",
           "square",
           "diamond",
           "cross",
           "diamond",
           "diamond",
           "square",
           "diamond",
           "diamond",
           "diamond",
           "diamond",
           "diamond",
           "diamond",
           "diamond",
           "square",
           "diamond",
           "diamond",
           "diamond",
           "diamond",
           "diamond",
           "diamond",
           "diamond",
           "square",
           "diamond",
           "diamond",
           "diamond",
           "square",
           "square",
           "square",
           "diamond",
           "diamond",
           "diamond",
           "square",
           "diamond",
           "diamond",
           "diamond",
           "diamond",
           "diamond",
           "diamond",
           "square",
           "square",
           "square",
           "diamond",
           "cross",
           "square",
           "diamond",
           "circle",
           "diamond",
           "square",
           "diamond",
           "square",
           "square",
           "diamond",
           "diamond",
           "diamond",
           "diamond",
           "diamond",
           "diamond",
           "diamond",
           "diamond",
           "diamond",
           "square",
           "diamond",
           "diamond",
           "diamond",
           "diamond",
           "square",
           "diamond",
           "diamond",
           "cross",
           "diamond",
           "diamond",
           "diamond",
           "diamond",
           "square",
           "square",
           "diamond",
           "diamond",
           "diamond",
           "square",
           "diamond",
           "cross",
           "square",
           "diamond",
           "circle",
           "square",
           "diamond",
           "diamond",
           "square",
           "diamond",
           "diamond",
           "diamond",
           "square",
           "diamond",
           "diamond",
           "diamond",
           "diamond",
           "diamond",
           "diamond",
           "diamond",
           "diamond",
           "diamond",
           "diamond",
           "diamond",
           "square",
           "square",
           "diamond",
           "diamond",
           "cross",
           "diamond",
           "diamond",
           "diamond",
           "diamond",
           "diamond",
           "diamond",
           "diamond",
           "diamond",
           "square",
           "square",
           "square",
           "circle",
           "square",
           "cross",
           "diamond",
           "cross",
           "square",
           "diamond",
           "diamond",
           "cross",
           "diamond",
           "diamond",
           "diamond",
           "square",
           "circle",
           "square",
           "square",
           "diamond",
           "square",
           "diamond",
           "diamond",
           "diamond",
           "diamond",
           "diamond",
           "diamond",
           "diamond",
           "diamond",
           "cross",
           "square",
           "diamond",
           "square",
           "diamond",
           "square",
           "diamond",
           "diamond",
           "diamond",
           "diamond",
           "diamond",
           "diamond",
           "square",
           "diamond",
           "diamond",
           "diamond",
           "square",
           "diamond",
           "diamond",
           "diamond",
           "diamond",
           "diamond",
           "square",
           "diamond",
           "diamond",
           "square",
           "diamond",
           "square",
           "diamond",
           "square",
           "square",
           "diamond",
           "diamond",
           "diamond",
           "diamond",
           "square",
           "diamond",
           "diamond",
           "diamond",
           "diamond",
           "diamond",
           "diamond",
           "diamond",
           "diamond",
           "diamond",
           "diamond",
           "diamond",
           "diamond",
           "diamond",
           "square",
           "diamond",
           "diamond",
           "diamond",
           "diamond",
           "square",
           "diamond"
          ]
         },
         "mode": "markers",
         "text": [
          "Facilitate accountability: Include oversight and enforcement in-<br>frastructures that work for people: a. Ensure a cohesive national<br>enforcement structure; b. Include flagging and redress mechanisms<br>allowing individuals and collectives to contest and seek redress for<br>all AI systems that cause harm and threaten fundamental rights; c.<br>Implement a more democratic governance infrastructure, with greater<br>independence for the European <b>AI board</b>.<br><br>1.6% positive, 2.6% negative<br>by Digitalcourage e.V. (ngo)<br>Cluster: 0",
          "Article 56 establishes the European <b>AI Board</b>, however removes<br>the competence of this Board (which appeared in previous verisons) to<br>present additions to the list of high risk AI systems.<br><br>2.3% positive, 27.9% negative<br>by Digitalcourage e.V. (ngo)<br>Cluster: 0",
          "Further, due to the power of the European Commission in the European<br>AI Board, it raises significant questions relating to the independence<br>of national supervisory authorities, which report to the <b>AI<br>board</b>.<br><br>0.4% positive, 3.1% negative<br>by Digitalcourage e.V. (ngo)<br>Cluster: 0",
          "Further, there must be more independence for the European <b>AI<br>board</b> and more distributed scope of governance funtions.<br><br>4.7% positive, 79.6% negative<br>by Digitalcourage e.V. (ngo)<br>Cluster: 0",
          "c) Implement a more democratic governance infrastructure, with greater<br>independence for the European AI board: i. Ensure that the mandate to<br>make substantive updates to the legal framework (updates to high risk<br>use cases, prohibitions) is held by a representative and<br>democractically accountable European <b>AI Board</b>, not solely with<br>the European Commission; ii.<br><br>49.8% positive, 3.8% negative<br>by Digitalcourage e.V. (ngo)<br>Cluster: 0",
          "Include within the structure of the <b>AI Board</b> representatives of<br>social partners and civil society, in particular those representing<br>marginalised groups.<br><br>0.9% positive, 0.2% negative<br>by Digitalcourage e.V. (ngo)<br>Cluster: 0",
          "Finally, CLAIRE, which represents academia, research institutes and<br>industry networks, would be happy to contribute as a member of the<br>European AI Board (<b>EAIB</b>).<br><br>11.0% positive, 0.3% negative<br>by Confederation of Laboratories for AI Research in Europe (CLAIRE)<br>(ngo)<br>Cluster: 0",
          "The Act should direct member states, national competent authorities,<br>and the European <b>AI Board</b> to engage in dialogues with<br>democratic partners, such as the United States, to advance<br>interoperable approaches to AI governance and create a common<br>understanding of a trade/economic impact analysis for this work.<br><br>1.5% positive, 0.7% negative<br>by U.S. Chamber of Commerce (company)<br>Cluster: 0",
          "Furthermore, to achieve harmonized application of this regulation<br>across the EU, opinions and recommendations issued by the European<br><b>Artificial Intelligence Board</b> on the application of this<br>regulation should be binding for member state authorities, which<br>should adopt them in their own acts.<br><br>47.7% positive, 1.1% negative<br>by U.S. Chamber of Commerce (company)<br>Cluster: 0",
          "As such, we advise the inclusion of appropriate business consultation<br>is mandatory for the policymaking of the various institutions involved<br>in the governance, coordination, and enforcement of oversight of AI in<br>the EU, including the ‘European <b>AI Board</b>’ and revising the list<br>of high-risk applications.<br><br>0.3% positive, 0.4% negative<br>by World Employment Confederation - Europe (company)<br>Cluster: 0",
          "The proposed European <b>AI Board</b> should therefore engage with<br>international and European standardisation organisations to leverage<br>existing activities and ensure alignment.<br><br>1.0% positive, 1.3% negative<br>by DIGITALEUROPE (business_association)<br>Cluster: 0",
          "The European <b>AI Board</b> and the Commission, in close cooperation<br>with the industry, should play a key role in coordinating and advising<br>Member States, and possess the necessary powers to ensure consistent<br>application.<br><br>33.6% positive, 0.7% negative<br>by DIGITALEUROPE (business_association)<br>Cluster: 0",
          "Additionally, the <b>AI Board</b> should have extended powers to<br>oversee how sandboxes are managed and avoid national fragmentation.<br><br>95.4% positive, 0.7% negative<br>by DIGITALEUROPE (business_association)<br>Cluster: 0",
          "In terms of supervision the Commission proposal defines a new entity<br>named <b>Artificial Intelligence Board</b> in order to enhance<br>coordination among national authorities.<br><br>3.2% positive, 0.6% negative<br>by BETTER FINANCE  (ngo)<br>Cluster: 0",
          "Inclusivity and multi-disciplinarity We recommend the <b>AI Board</b><br>to not only include representatives from the national authorities, but<br>from wider society as well, including the social partners and NGO’s.<br><br>27.9% positive, 1.3% negative<br>by ALLAI (ngo)<br>Cluster: 0",
          "Virginia Dignum is co-founder and board member of ALLAI; professor of<br>Artificial Intelligence at Umeå University; scientific director of the<br>Wallenberg AI, Autonomous Systems and Software Program – Humanities<br>and Society (WASP-HS); former member of the European High Level Expert<br>group on AI; member of the World Economic Forum <b>AI Board</b>;<br>expert advisor on AI for UNICEF; member of GPAI’s working group on<br>Responsible AI.<br><br>26.6% positive, 0.6% negative<br>by ALLAI (ngo)<br>Cluster: 0",
          "In summary, our recommendations are to: •       Empower the Commission<br>to add high-risk AI systems to the list in Annex III that: are under<br>areas outside of those listed in points 1-8 pose a substantial risk of<br>societal harm •      Consider how to identify and regulate high-risk<br>uses of general purpose systems •       Consider how to regulate<br>companies that may intentionally underemphasise the role that AI plays<br>in their decision-making •      Authorise the European <b>Artificial<br>Intelligence Board</b> to propose changes to the regulation’s Annexes<br>•    Schedule specific timeframes on which to consider revisions to<br>which AI systems are covered by the regulation • Broaden the current<br>requirements to include evaluation of broader societal harms, beyond<br>risks to health and safety or fundamental rights •     Be aware of the<br>risk of common specifications being ‘captured’ by industry, and<br>maximise participation in the setting of these specifications to<br>reduce this risk •     Provide even further clarification and<br>indicative examples in the Chapter 2 •   Connect the proposed<br>regulation to a broader governance ecosystem Submission of Feedback to<br>the European Commission’s Proposal for a Regulation laying down<br>harmonised rules on artificial intelligence Sam Clarke, Jess<br>Whittlestone, Matthijs Maas, Haydn Belfield, José Hernández-Orallo,<br>Seán Ó hÉigeartaigh 1 Leverhulme Centre for the Future of<br>Intelligence, University of Cambridge 2 Centre for the Study of<br>Existential Risk, University of Cambridge 3 Universitat Politecnica de<br>Valencia Introduction We are a group of academic researchers on AI<br>with positions at the University of Cambridge’s Leverhulme Centre for<br>the Future of Intelligence (LCFI) and Centre for the Study of<br>Existential Risk (CSER), and the Universitat Politecnica de Valencia.<br><br>1.6% positive, 1.3% negative<br>by University of Cambridge (Leverhulme Centre for the Future of<br>Intelligence and Centre for the Study of Existential Risk)<br>(academic_research_institution)<br>Cluster: 0",
          "Specifically, we suggest that: The European <b>Artificial Intelligence<br>Board</b> be authorised to propose changes to the regulation’s<br>Annexes, including the list of restricted and high-risk systems.<br><br>34.6% positive, 10.2% negative<br>by University of Cambridge (Leverhulme Centre for the Future of<br>Intelligence and Centre for the Study of Existential Risk)<br>(academic_research_institution)<br>Cluster: 0",
          "Full participation in common specification design processes Second,<br>regarding common specifications, we recommend full participation in<br>processes by the <b>AI Board</b> and by civil society to mitigate any<br>risk of specifications being overly influenced or ‘captured’ by<br>industry.<br><br>24.1% positive, 2.2% negative<br>by University of Cambridge (Leverhulme Centre for the Future of<br>Intelligence and Centre for the Study of Existential Risk)<br>(academic_research_institution)<br>Cluster: 0",
          "We suggest that the Commission reduce this risk by maximising<br>participation in the setting of common specifications - though<br>involving <b>the Board</b> in this process, and allowing civil society<br>to attend meetings and submit proposals.<br><br>3.3% positive, 58.0% negative<br>by University of Cambridge (Leverhulme Centre for the Future of<br>Intelligence and Centre for the Study of Existential Risk)<br>(academic_research_institution)<br>Cluster: -1",
          "If <b>the Board</b> is empowered to propose changes to the<br>Regulation’s Annexes, this would allow insights from monitoring and<br>progress in assessment to be incorporated into the classification and<br>assessment of high-risk systems.<br><br>10.9% positive, 9.7% negative<br>by University of Cambridge (Leverhulme Centre for the Future of<br>Intelligence and Centre for the Study of Existential Risk)<br>(academic_research_institution)<br>Cluster: 0",
          "We welcome that “the Commission and <b>the Board</b> shall encourage<br>and facilitate the drawing up of codes of conduct intended to foster<br>the voluntary application to AI systems of requirements related for<br>example to environmental sustainability, [...] on the basis of clear<br>objectives and key performance indicators to measure the achievement<br>of those objectives.”<br><br>68.0% positive, 1.6% negative<br>by Climate Change AI (ngo)<br>Cluster: 0",
          "In Articles 56, 57 and 58 of the Artificial Intelligence Act, the<br>Commission sets out its plans to establish European <b>Artificial<br>Intelligence Board</b>.<br><br>1.4% positive, 0.2% negative<br>by 5G Automotive Association (business_association)<br>Cluster: 0",
          "Specifically, Article 57 states: Article 57 Structure of <b>the<br>Board</b> 1.<br><br>0.1% positive, 0.4% negative<br>by 5G Automotive Association (business_association)<br>Cluster: 0",
          "<b>The Board</b> shall be composed of the national supervisory<br>authorities, who shall be represented by the head or equivalent high-<br>level official of that authority, and the European Data Protection<br>Supervisor.<br><br>40.9% positive, 3.5% negative<br>by 5G Automotive Association (business_association)<br>Cluster: 0",
          "<b>The Board</b> may establish sub-groups as appropriate for the<br>purpose of examining specific questions.<br><br>36.4% positive, 2.6% negative<br>by 5G Automotive Association (business_association)<br>Cluster: -1",
          "<b>The Board</b> may invite external experts and observers to attend<br>its meetings and may hold exchanges with interested third parties to<br>inform its activities to an appropriate extent […].<br><br>15.7% positive, 1.8% negative<br>by 5G Automotive Association (business_association)<br>Cluster: 0",
          "As such, we consider that the representation of industry at the<br>European <b>AI Board</b> would be essential.<br><br>3.7% positive, 0.9% negative<br>by 5G Automotive Association (business_association)<br>Cluster: 0",
          "We would recommend that the Commission formally allows the active<br>participation of industry representatives in the Board’s various sub-<br>groups and as observers at <b>the Board</b> itself.<br><br>5.1% positive, 1.4% negative<br>by 5G Automotive Association (business_association)<br>Cluster: 0",
          "We feel the European Commission is setting itself up for success by<br>considering adaptive, forward-looking instruments like the European<br><b>AI Board</b> and flexible tools like the sandboxes.<br><br>41.9% positive, 0.7% negative<br>by The Future Society (ngo)<br>Cluster: 0",
          "> A more effective governance response to technological trends and<br>their implications Ensure information flows between national and<br>European levels of governance and that this information is ready for<br>EU-wide analysis; Invest in the capacity to systematically compile at<br>the EU-level and analyse incident reports from all Member States;<br>Ensure the expert group supporting the European AI Board include a<br>significant share of members from consumer organisations and civil<br>society; To limit regulatory uncertainty, reduce the time between a<br>concerning finding from the European <b>AI Board</b> and the<br>Commission’s decision to adapt the regulatory framework or the<br>justification for not adapting it.<br><br>2.8% positive, 3.6% negative<br>by The Future Society (ngo)<br>Cluster: 0",
          "We feel the European Commission is setting itself up for success by<br>considering adaptive, forward-looking instruments like the European<br><b>AI Board</b> and flexible tools like the sandboxes.<br><br>41.9% positive, 0.7% negative<br>by The Future Society (ngo)<br>Cluster: 0",
          "A. Investing in smart governance capabilities for AI and the Digital<br>Single Market In the AI Act, the European Commission has proposed the<br>development of interesting governance capabilities, such as the<br>European <b>AI Board</b> and the regulatory sandboxes.<br><br>70.7% positive, 0.5% negative<br>by The Future Society (ngo)<br>Cluster: 0",
          "This analysis role could naturally fall within the European <b>AI<br>Board</b> (as already hinted at in Articles 56(2)(b) and 58),<br>especially if informed by an associated expert group that include<br>consumer associations and civil society.<br><br>0.5% positive, 0.3% negative<br>by The Future Society (ngo)<br>Cluster: 0",
          "We consider however that the envisaged European <b>AI Board</b> will<br>not have sufficient powers to speedily address issues raised.<br><br>0.5% positive, 98.0% negative<br>by The Future Society (ngo)<br>Cluster: 0",
          "To limit the regulatory uncertainty triggered by a debate or a red<br>flag raised by the Board, we recommend that the European AI Board’s<br>recommendations be strong enough to automatically launch a discussion<br>within the European Commission about whether and how to amend the<br>relevant Act’s Annex(es) accordingly, and that rejection of the<br>European <b>AI Board</b>’s recommendation be quickly justified by a<br>response from the European Commission.<br><br>26.5% positive, 11.4% negative<br>by The Future Society (ngo)<br>Cluster: 0",
          "> A more effective governance response to technological trends and<br>their implications Ensure information flows between national and<br>European levels of governance and that this information is ready for<br>EU-wide analysis; Invest in the capacity to systematically compile at<br>the EU-level and analyse incident reports from all Member States;<br>Ensure the expert group supporting the European AI Board include a<br>significant share of members from consumer organisations and civil<br>society; To limit regulatory uncertainty, reduce the time between a<br>concerning finding from the European <b>AI Board</b> and the<br>Commission’s decision to adapt the regulatory framework or the<br>justification for not adapting it.<br><br>2.8% positive, 3.6% negative<br>by The Future Society (ngo)<br>Cluster: 0",
          "Article 56 and Article 58 A European <b>Artificial Intelligence<br>Board</b> shall be established.<br><br>44.7% positive, 1.4% negative<br>by ABB (company)<br>Cluster: 0",
          "Creating a European <b>Artificial Intelligence Board</b> is a step in<br>the right direction, but the relevant articles (56 & 57) should also<br>include a more rigorous stakeholder representation and also specific<br>procedure of stakeholder consultation, according to the principles of<br>transparency and representativeness.<br><br>29.2% positive, 1.1% negative<br>by European Healthcare Fraud and Corruption Network-AI Working Group<br>(ngo)<br>Cluster: 0",
          "The European <b>Artificial Intelligence Board</b> envisaged under Art.<br><br>1.6% positive, 1.3% negative<br>by None (eu_citizen)<br>Cluster: 0",
          "Those side effects might be resolved by envisaging additional<br>mechanisms in the final text of the Artificial Intelligence Act for<br>regulatory guidance (such as more structured soft guidance, comfort<br>letters to be issued by national supervisory authorities following<br>consultations among themselves and with the European <b>Artificial<br>Intelligence Board</b>, etc.).<br><br>0.7% positive, 1.0% negative<br>by None (eu_citizen)<br>Cluster: 0",
          "Governance ...........................................................<br>......................................................................<br>.... 4 a. Conformity assessment ......................................<br>......................................................................<br>... 4 b. European Data Protection Supervisor (EDPS) ..................<br>........................................................... 4 c.<br>European AI Board (<b>EAIB</b>) ......................................<br>......................................................................<br>4 d. The role of industry experts and national institutions<br>................................................................ 4 2.<br><br>14.0% positive, 2.1% negative<br>by Impact AI (ngo)<br>Cluster: 0",
          "c. European AI Board (EAIB) The composition of the <b>AI Board</b> and<br>the role of company experts (if possible) should be specified more<br>precisely.<br><br>3.4% positive, 1.6% negative<br>by Impact AI (ngo)<br>Cluster: 0",
          "The Proposal foresees to give a predominant role to the EC in the<br><b>EAIB</b>.<br><br>0.8% positive, 0.3% negative<br>by Impact AI (ngo)<br>Cluster: 0",
          "Not only would the latter be part of the EAIB, but it would also chair<br>it and have a right of veto for the adoption of the <b>EAIB</b> rules<br>of procedure.<br><br>3.6% positive, 0.3% negative<br>by Impact AI (ngo)<br>Cluster: 0",
          "Therefore, we believe that the future AI Regulation should give more<br>autonomy to the <b>EAIB</b> and ensure it can act on its own<br>initiative, in order to allow it to truly ensure the consistent<br>application of the regulation across the single market.<br><br>62.9% positive, 1.8% negative<br>by Impact AI (ngo)<br>Cluster: 0",
          "o How exactly the <b>AI Board</b> will be organized and how it will<br>operate?<br><br>2.8% positive, 0.7% negative<br>by Impact AI (ngo)<br>Cluster: 0",
          "EU Agency for AI: Similar to the proposed European <b>Artificial<br>Intelligence Board</b>, SHERPA called for the creation of a new<br>centralised independent EU Agency for AI to help ensure cooperation,<br>coordination and consistent application of EU law.<br><br>0.5% positive, 0.5% negative<br>by SHERPA Project (ngo)<br>Cluster: 0",
          "EU Agency for AI The proposed Regulation calls for establishing a<br>European Artificial Intelligence Board (<b>the Board</b>) to<br>facilitate implementation of the regulatory framework.<br><br>2.5% positive, 1.8% negative<br>by SHERPA Project (ngo)<br>Cluster: 0",
          "The Commission and <b>the Board</b> shall encourage and facilitate the<br>drawing up of codes of conduct intended to foster the voluntary<br>application to AI systems of requirements related for example to<br>environmental sustainability, accessibility for persons with a<br>disability, stakeholders participation in the design and development<br>of the AI systems and diversity of development teams on the basis of<br>clear objectives and key performance indicators to measure the<br>achievement of those objectives.<br><br>14.1% positive, 1.6% negative<br>by OpenForum Europe (ngo)<br>Cluster: 0",
          "The Commission and <b>the Board</b> shall encourage and facilitate the<br>drawing up and use of standards and technical specifications codes of<br>conduct intended to foster the voluntary application to AI systems of<br>requirements related for example to environmental sustainability,<br>accessibility for persons with a disability, stakeholders<br>participation in the design and development of the AI systems and<br>diversity of development teams on the basis of clear objectives and<br>key performance indicators to measure the both, including with the<br>involvement of users and any interested stakeholders and their<br>representative organisations.<br><br>2.8% positive, 0.8% negative<br>by OpenForum Europe (ngo)<br>Cluster: 0",
          "The Commission and <b>the Board</b> shall take into account the<br>specific interests and needs of the small-scale providers and start-<br>ups when encouraging and facilitating the drawing up of codes of<br>conduct.<br><br>8.5% positive, 2.5% negative<br>by OpenForum Europe (ngo)<br>Cluster: 0",
          "The Commission and <b>the Board</b> shall take into account the<br>specific interests and needs of the small-scale providers and start-<br>ups when encouraging and facilitating the drawing up of codes of<br>conduct.<br><br>8.5% positive, 2.5% negative<br>by OpenForum Europe (ngo)<br>Cluster: 0",
          "The proposed European <b>Artificial Intelligence Board</b> is a<br>welcome suggestion but is too closely aligned with the Commission to<br>be fully effective, as it would only provide advice and assistance to<br>the Commission.<br><br>97.7% positive, 1.0% negative<br>by Trilateral Research (company)<br>Cluster: 0",
          "Best regards, on behalf of the European EdTech Alliance, Svenia<br>Busson, VP, EdTech France, contact: +33 6 73 70 49 18,<br>svenia@learnspace.fr Jannie Jeppesen, CEO, Swedish Edtech Industry<br>Esben Trier, CEO, EdTech Denmark Roel Bellinga, Member of the Board,<br>Dutch Edtech Philippe Mero, VP, AFINEF Pierre Laborde, VP, AFINEF Märt<br>Aro, Chairman of <b>the Board</b>, Nordic EdTech Forum - N8 Heini<br>Karppinen, Chairman, Edtech Finland Anne-Charlotte Monneret, Director,<br>EdTech France Tobias Himmerich, CEO, of EDUvation, Germany The<br>European EdTech Alliance is a not-for-profit international trade<br>association that, through its members, represents more than 1500<br>EdTech start-ups and companies across 23 countries in Europe and that<br>we exist to encourage cross-border cooperation and education<br>innovation in Europe.<br><br>22.3% positive, 0.8% negative<br>by European Edtech Alliance (ngo)<br>Cluster: 0",
          "The Commission should therefore consider introducing a one-stop-shop<br>mechanism for cross-border activities, while also enhancing the<br>existing cooperation and consistency measures, such as by<br>strengthening the role of the European <b>Artificial Intelligence<br>Board</b>.<br><br>23.4% positive, 1.0% negative<br>by Hogan Lovells International LLP (company)<br>Cluster: 0",
          "Account for the full (and future) risks of AI Update the proposal to<br>allow for increasingly generalised AI systems that have multiple<br>purposes, such as GPT-3, DALL·E and MuZero; Ensure AI providers<br>explicitly consider the impact of their systems on society at large;<br>Protect consumers against conflicts of interest, especially when AI-<br>systems are used in medical, legal, or financial contexts; Enhance<br>protections of fundamental rights Allow EU citizens to file a<br>complaint with authorities when an AI has manipulates their behaviour,<br>or when their fundamental rights are breached; Lower the threshold for<br>what constitutes subliminal manipulation; Expand whistleblower<br>protections to AI developers, because they are the first, or only,<br>people who know whether an application violates fundamental rights;<br>Require reporting of AI safety incidents at the European level; Boost<br>AI innovation in Europe Empower the European <b>Artificial<br>Intelligence Board</b> to pre-empt new risks; Create one AI portal<br>across the European Single Market, allowing SMEs easy registration<br>with regulatory ‘sandboxes’ – environments in which firms can try out<br>new services without fear of penalties; Build more public sector<br>capacity for AI development and oversight; 1.<br><br>1.8% positive, 1.9% negative<br>by Future of Life Institute (FLI) (ngo)<br>Cluster: 0",
          "Improve the European environment for innovation a. Empower the<br>European Artificial Intelligence Board to pre-empt new risks Under the<br>current proposal, the European <b>Artificial Intelligence Board</b><br>acts mainly as a coordinator of regulatory efforts.<br><br>45.8% positive, 18.2% negative<br>by Future of Life Institute (FLI) (ngo)<br>Cluster: 0",
          "<b>The Board</b> is tasked with the promotion of cooperation between<br>national supervisory authorities and to assist the European Commission<br>with ensuring uniform application of the law.<br><br>55.5% positive, 2.6% negative<br>by Future of Life Institute (FLI) (ngo)<br>Cluster: 0",
          "FLI supports the recommendation of the European Data Protection<br>Supervisor (EDPS) and the European Data Protection Board (EDPB) that<br>the new <b>AI Board</b> be given “sufficient and appropriate powers”<br>[8].<br><br>69.0% positive, 1.0% negative<br>by Future of Life Institute (FLI) (ngo)<br>Cluster: 0",
          "As suggested by the Commission, a full-fledged European <b>Artificial<br>Intelligence Board</b> should also work closely with a group of<br>experts to ensure that beneficial technologies are accelerated and<br>risks mitigated.<br><br>19.0% positive, 1.4% negative<br>by Future of Life Institute (FLI) (ngo)<br>Cluster: 0",
          "On governance Europe should ensure a balanced stakeholders’<br>representation in the envisaged European <b>AI Board</b>, with<br>industry (manufacturers and operators) and industry associations<br>having an appreciable role, as an appropriate mirroring of the market<br>and deployment of AI systems in Europe.<br><br>8.0% positive, 0.9% negative<br>by Siemens Energy (company)<br>Cluster: 0",
          "We believe that the <b>AI Board</b> should also include experts from<br>industry amongst its members.<br><br>33.0% positive, 3.4% negative<br>by Japan Business Council in Europe (JBCE) (business_association)<br>Cluster: 0",
          "This would be particularly important in terms of ensuring that <b>the<br>Board</b> can effectively help the Commission and national supervisory<br>authorities to provide guidance on emerging technology issues, as<br>provided in art.57.<br><br>58.6% positive, 8.6% negative<br>by Japan Business Council in Europe (JBCE) (business_association)<br>Cluster: 0",
          "This should ideally be provided jointly by the EDPB and the European<br><b>AI Board</b>. •<br><br>1.2% positive, 2.5% negative<br>by Japan Business Council in Europe (JBCE) (business_association)<br>Cluster: 0",
          "Hence, we suggest the Commission and the <b>EAIB</b> continuously<br>monitor for developments in state-of-the-art technologies which enable<br>companies to efficiently transfer datasets between regions, and take<br>these into consideration for the common specification. •<br><br>1.2% positive, 0.3% negative<br>by Japan Business Council in Europe (JBCE) (business_association)<br>Cluster: 0",
          "In this light, we would like the European Commission and <b>EAIB</b><br>to define practical standards and common specifications for record<br>keeping, considering the actual practices in each sector, under<br>art.12(2).<br><br>11.4% positive, 1.3% negative<br>by Japan Business Council in Europe (JBCE) (business_association)<br>Cluster: 0",
          "Human oversight • We would like the European Commission and<br><b>EAIB</b> to mandate the development standards and common<br>specification by the European Standardisation Organizations in a<br>practical manner by ensuring the appropriate level of human oversight,<br>considering the pros and cons of human oversight and machine control<br>respectively.<br><br>4.0% positive, 3.2% negative<br>by Japan Business Council in Europe (JBCE) (business_association)<br>Cluster: 0",
          "More specifically, regarding Art.16(a) & 17(f), as a prerequisite for<br>the requirements on data management, a clear concept of ownership of<br>data and accountability between each operator and other third parties<br>in the AI value chain should be clarified, taking the opinion of in<br>the <b>EAIB</b> and the upcoming Data Act into account. •<br><br>0.7% positive, 0.6% negative<br>by Japan Business Council in Europe (JBCE) (business_association)<br>Cluster: 0",
          "When considering obligations set out across Chapter 3 (art.16-29), it<br>is crucial that the specific scope of each economic operator’s<br>responsibilities (notably in between provider and users) is clearly<br>identified in the forthcoming discussions in the <b>EAIB</b>.<br><br>0.4% positive, 0.2% negative<br>by Japan Business Council in Europe (JBCE) (business_association)<br>Cluster: 0",
          "Governance • The role of the European <b>AI Board</b> will be crucial<br>for governance.<br><br>59.2% positive, 1.2% negative<br>by Japan Business Council in Europe (JBCE) (business_association)<br>Cluster: 0",
          "Given <b>the Board</b>’s competence includes issuing opinions on<br>harmonised standards and definitions of technical specifications, it<br>is fundamental that it engages with both European and global<br>standardisation organisations to ensure that global approaches to<br>standardisation avoid regulatory divergence.<br><br>39.8% positive, 4.6% negative<br>by Japan Business Council in Europe (JBCE) (business_association)<br>Cluster: 0",
          "It is also important for AI stakeholders (trade associations,<br>companies, public authorities) to have access to the work of the <b>AI<br>Board</b> in order to provide inputs on improving implementation of<br>the Regulation. •<br><br>94.6% positive, 0.2% negative<br>by Japan Business Council in Europe (JBCE) (business_association)<br>Cluster: 0",
          "According to art.57, the European <b>AI Board</b> will be composed of<br>national supervisory authorities and the EDPS.<br><br>5.5% positive, 1.7% negative<br>by Japan Business Council in Europe (JBCE) (business_association)<br>Cluster: 0",
          "However, we believe that <b>the Board</b> should also include AI<br>ethics experts and industry representatives amongst its members.<br><br>8.1% positive, 36.2% negative<br>by Japan Business Council in Europe (JBCE) (business_association)<br>Cluster: 0",
          "This would be particularly important in terms of ensuring that <b>the<br>Board</b> can effectively help the Commission and national supervisory<br>authorities to provide guidance on emerging technology issues, as<br>provided in art.57.<br><br>58.6% positive, 8.6% negative<br>by Japan Business Council in Europe (JBCE) (business_association)<br>Cluster: 0",
          "In the particular case of members of <b>the Board</b> who represent<br>industry, membership should be reviewed periodically to ensure it<br>reflects AI technological developments in the various industry sectors<br>(including verticals).<br><br>0.9% positive, 4.3% negative<br>by Japan Business Council in Europe (JBCE) (business_association)<br>Cluster: 0",
          "at the <b>EAIB</b>. •<br><br>0.8% positive, 0.1% negative<br>by Japan Business Council in Europe (JBCE) (business_association)<br>Cluster: -1",
          "Authorities should be equipped with broad expertise to enforce the<br>Regulation holistically The provisions on the work of the <b>AI<br>Board</b> should ensure structured and regular stakeholder<br>involvement.<br><br>0.5% positive, 0.3% negative<br>by ITI, Information Technology Industry Council (business_association)<br>Cluster: 0",
          "Given <b>the Board</b>’s competence to issue opinions on the use of<br>harmonised standards and the definition of technical specifications,<br>it is fundamental that it engages with global standardisation<br>organisations to ensure that global approaches to standardisation<br>remain aligned with the goal of avoiding regulatory divergence.<br><br>41.8% positive, 3.4% negative<br>by ITI, Information Technology Industry Council (business_association)<br>Cluster: 0",
          "However, the structure of the Proposed Act seems relatively cumbersome<br>and complex, with the main text accompanied by numerous annexes,<br>several of which are subject to the management of a new agency<br>(\"European <b>Artificial Intelligence Board</b>”).<br><br>0.6% positive, 2.1% negative<br>by Association of Financial Markets in Europe (business_association)<br>Cluster: 0",
          "Furthermore, to achieve harmonised application of this regulation<br>across the EU, the opinions and recommendations issued by the European<br><b>Artificial Intelligence Board</b> on the application of this<br>regulation should be binding for authorities of Member States, which<br>should adopt them in their own acts.<br><br>56.5% positive, 1.1% negative<br>by Association of Financial Markets in Europe (business_association)<br>Cluster: 0",
          "Moreover, BSA strongly recommends including the abovementioned Expert<br>Group in the EU AI Board, to ensure full representation of all AI<br>stakeholders in the deliberations of <b>the Board</b>.<br><br>35.4% positive, 2.6% negative<br>by BSA | The Software Alliance (business_association)<br>Cluster: 0",
          "The EU <b>AI Board</b> could be considered to serve as audit<br>standardization and harmonization Page | 2 body.<br><br>0.9% positive, 0.6% negative<br>by Standing Committee of European Doctors (CPME) (ngo)<br>Cluster: 0",
          "Governance (Title VI) European Artificial Intelligence Board (Chapter<br>1, Articles 56 – 58) The creation of the EU <b>AI Board</b> requires<br>broad representation and participation of all relevant stakeholders,<br>including the relevant experts in the industry, trade associations as<br>well as national and European standardisation organisations.<br><br>5.6% positive, 0.7% negative<br>by ZVEI e.V. (company)<br>Cluster: 0",
          "The roles and responsibilities of the <b>AI Board</b> vis-à-vis the<br>national competent authorities should be clearly defined to ensure<br>harmonised processes.<br><br>4.7% positive, 3.2% negative<br>by ZVEI e.V. (company)<br>Cluster: 0",
          "Moreover, we suggest that the report on the work in the sandboxes,<br>which is provided to the European <b>AI Board</b> and the EU<br>Commission, is accessible for all companies in the EU, so that<br>experiences about the development and use of AI can be shared and thus<br>innovation is promoted.<br><br>2.0% positive, 0.3% negative<br>by German Banking Industry Committee (business_association)<br>Cluster: 0",
          "To avoid the difficulties in interpretation that seem to be prevalent<br>with the GDPR, it is important that guidance be provided at the<br>European level (including through the European <b>Artificial<br>Intelligence Board</b>).<br><br>16.8% positive, 1.6% negative<br>by AI4Belgium (ngo)<br>Cluster: 0",
          "In determining the concrete specifics of the applicability and content<br>of the regulations, an adequate process should be established for<br>dialogue that includes representatives of industries from outside the<br>EU that will be affected by the regulations at forums including the<br>EAIB (European <b>Artificial Intelligence Board</b>) and international<br>standardization bodies (ISO/IEC JTC1 SC42).<br><br>0.4% positive, 0.2% negative<br>by Keidanren (business_association)<br>Cluster: 0",
          " Article 57 Structure of <b>the Board</b> (Excerpt from p.72) 4.<br><br>0.1% positive, 0.3% negative<br>by Keidanren (business_association)<br>Cluster: 0",
          "<b>The Board</b> may invite external experts and observers to attend<br>its meetings and may hold exchanges with interested third parties to<br>inform its activities to an appropriate extent.<br><br>18.0% positive, 2.2% negative<br>by Keidanren (business_association)<br>Cluster: 0",
          "To that end the Commission may facilitate exchanges between <b>the<br>Board</b> and other Union bodies, offices, agencies and advisory<br>groups.<br><br>0.2% positive, 0.2% negative<br>by Keidanren (business_association)<br>Cluster: 0",
          " Multi-stakeholders including industry representatives and AI<br>specialists should be involved on an ongoing basis in the European<br><b>Artificial Intelligence Board</b> as committee members and should<br>participate in its discussions and deliberations.<br><br>41.4% positive, 0.7% negative<br>by Keidanren (business_association)<br>Cluster: 0",
          "Moreover, the establishment of the <b>Artificial Intelligence<br>Board</b> again invites Member States to re-establish specific<br>supervisory bodies to oversee the compliance with the rules regarding<br>Artificial Intelligence.<br><br>0.5% positive, 0.4% negative<br>by KU Leuven Centre for IT and IP Law (academic_research_institution)<br>Cluster: 0",
          "In order to avoid an infinite multiplication of institutes, the<br>competences of the <b>Artificial Intelligence Board</b> should be<br>bestowed on already existing institutions as much as possible.<br><br>13.9% positive, 2.6% negative<br>by KU Leuven Centre for IT and IP Law (academic_research_institution)<br>Cluster: 0",
          "For instance, we believe the deployment and outcomes of the regulatory<br>sandboxes should also be aligned and leveraged at the EU level through<br>the appropriate mechanisms (<b>AI Board</b>, MDCG) to avoid<br>fragmentation across countries.<br><br>0.4% positive, 0.4% negative<br>by Johnson & Johnson (company)<br>Cluster: 0",
          "Clarifying the role of the European <b>Artificial Intelligence<br>Board</b> and empowering it compared to National Boards within the<br>aligned regulations will help ensure consistent interpretation and<br>implementation of the AIA.<br><br>13.7% positive, 3.1% negative<br>by Johnson & Johnson (company)<br>Cluster: 0",
          "Given <b>the Board</b>’s competence to issue opinions on the use of<br>harmonized standards and the definition of technical specifications,<br>it is fundamental that it engages with global standardisation<br>organisations to ensure that global approaches to standardisation<br>remain aligned with the goal of avoiding regulatory divergence.<br><br>38.7% positive, 3.4% negative<br>by Fujitsu (company)<br>Cluster: 0",
          "Articles 56 – 58 – The European Artificial Intelligence Board (the AI<br>Board) We would welcome greater industry involvement in the the <b>AI<br>Board</b> so that all relevant stakeholders can collaborate and co-<br>create the right framework.<br><br>0.6% positive, 0.7% negative<br>by RELX (company)<br>Cluster: 0",
          "In particular we suggest space should be made on the board for AI<br>developers to ensure <b>the Board</b> has a suitable understanding of<br>the practical implications of their decisions.<br><br>32.4% positive, 33.0% negative<br>by RELX (company)<br>Cluster: 0",
          "There is a concern that the <b>AI Board</b>’s proposed structure and<br>remit will lend itself towards a system in which an overly cautious<br>approach will be taken which seeks to prevent AI activities in order<br>to avoid purported risks.<br><br>0.9% positive, 41.1% negative<br>by RELX (company)<br>Cluster: 0",
          "Instead, we would encourage that innovation should be built into the<br>remit of the <b>AI Board</b> so that they also have a requirement to<br>consider how the EU can realise the benefits of AI, while<br>appropriately mitigating risks through some of the measures of this<br>regulation.<br><br>7.3% positive, 3.9% negative<br>by RELX (company)<br>Cluster: 0",
          "However, relevant sectoral authorities (e.g., the <b>AI Board</b><br>and/or MDCG) must leverage the outcomes from national regulatory<br>sandboxes at the EU level, so that AI systems created and tested in<br>such regulatory sandboxes could be easily moved to and placed on the<br>market in other member states.<br><br>1.4% positive, 0.8% negative<br>by SPECTARIS e.V. (business_association)<br>Cluster: 0",
          "The provisions around accuracy, robustness and cybersecurity are<br>essential and we hope some of the governance processes established<br>with the AIA, such as sandboxes or the European <b>AI Board</b>, would<br>also prioritise AI safety in their mandate and operational priorities.<br><br>0.5% positive, 3.5% negative<br>by DeepMind (company)<br>Cluster: 0",
          "We encourage the Commission to consider how to foster industry, civil<br>society and governmental discussions on improving AI safety,<br>potentially through supporting the creation of separate fora for these<br>actors to share their approach in a way that could feed into future<br>guidance and into AI safety discussions that also need to take place<br>within the European <b>AI Board</b>.<br><br>1.3% positive, 0.3% negative<br>by DeepMind (company)<br>Cluster: 0",
          "We welcome the establishment of a European <b>AI Board</b>, and its<br>potential to foster more substantive discussions, to increase<br>governments’ expertise and capacity in AI, and to further reduce<br>fragmentation between EU countries.<br><br>70.5% positive, 0.4% negative<br>by DeepMind (company)<br>Cluster: 0",
          "We believe such an institution will help drive forward the EU’s<br>leadership in AI and hope that there will be opportunities for non-<br>governmental actors to participate or be regularly informed of the<br>work and decisions made by the European <b>AI Board</b>.<br><br>60.8% positive, 0.4% negative<br>by DeepMind (company)<br>Cluster: 0",
          "We also welcomed the announcement by the European Commission that it<br>is considering creating an expert group under <b>the Board</b>,<br>modelled after the High Level Expert Group on AI, which could be an<br>avenue for the private sector and civil society to engage with<br>governments.<br><br>0.8% positive, 0.2% negative<br>by DeepMind (company)<br>Cluster: 0",
          "We would also encourage linking the European <b>AI Board</b> and the<br>expert group with the existing actors in the EU AI ecosystem, such as<br>the European AI Alliance.<br><br>3.0% positive, 0.5% negative<br>by DeepMind (company)<br>Cluster: 0",
          "However, the question has been raised as to whether the proposed<br>European Artificial Intelligence Board (<b>EAIB</b>) should rather be<br>given such the power to make binding decisions in this regard<br>(providing its independence is ensured).<br><br>3.0% positive, 2.4% negative<br>by Access Now Europe (ngo)<br>Cluster: 0",
          "We foresee a scenario where a properly independent EAIB could be<br>empowered to adopt binding decisions to update the list of prohibited<br>practices in Article 5, although this is conditional on a number of<br>modifications to the way the Proposal envisages the structure of the<br><b>EAIB</b>.<br><br>39.4% positive, 4.4% negative<br>by Access Now Europe (ngo)<br>Cluster: 0",
          "As we have previously noted, the proposed enforcement mechanism which<br>includes the EU <b>Artificial Intelligence Board</b> and the<br>appointment of national supervisory authorities lacks clarity.<br><br>0.2% positive, 0.3% negative<br>by Access Now Europe (ngo)<br>Cluster: 0",
          "Access Now also has serious concerns about the role, structure and<br>independence of the proposed European <b>Artificial Intelligence<br>Board</b>.<br><br>0.4% positive, 87.9% negative<br>by Access Now Europe (ngo)<br>Cluster: 0",
          "The <b>EAIB</b> should also be consulted by the Commission prior any<br>amendment of those annexes.”<br><br>37.9% positive, 1.1% negative<br>by Access Now Europe (ngo)<br>Cluster: 0",
          "In this context, the ATP notes that enforcement guidance will be<br>provided by a newly formed European <b>Artificial Intelligence<br>Board</b>, which presumably will be similar in construction and form<br>to the EDPB.<br><br>7.5% positive, 1.8% negative<br>by Association of Test Publishers (business_association)<br>Cluster: 0",
          "Sincerely, ASSOCIATION OF TEST PUBLISHERS William G. Harris, Ph.D. CEO<br>John Kleeman 2021 Chair of <b>the Board</b> of Directors (representing<br>Europe-ATP) Past Co-Chair, ATP International Privacy Subcommittee,<br>Test Security Committee Alan J. Thiemann General Counsel<br><br>43.2% positive, 1.2% negative<br>by Association of Test Publishers (business_association)<br>Cluster: -1",
          "To this end, the role of the European Artificial Intelligence Board<br>(<b>EAIB</b>) could prove central.<br><br>84.6% positive, 0.7% negative<br>by Renaissance Numérique (ngo)<br>Cluster: 0",
          "This essential role in the elaboration of the amendments would also<br>allow the <b>EAIB</b> to provide recommendations to the concerned<br>actors in order to clarify the situation of the developers or users of<br>artificial intelligence systems vis-à-vis the regulation.<br><br>24.4% positive, 1.0% negative<br>by Renaissance Numérique (ngo)<br>Cluster: 0",
          "It therefore appears necessary for the text to better articulate how<br>national surveillance and competent authorities will cooperate, as<br>this seems to be unclear at the moment, relying mainly on <b>EAIB</b><br>The latter is more commonly known as “the \"Board\".<br><br>0.6% positive, 1.4% negative<br>by Renaissance Numérique (ngo)<br>Cluster: 0",
          "Finally, a last point of analysis concerns the need to grant more<br>autonomy to the <b>EAIB</b>, especially with regard to its<br>independence from the European Commission.<br><br>33.8% positive, 1.7% negative<br>by Renaissance Numérique (ngo)<br>Cluster: 0",
          "11/15 the European Commission alters the autonomy of <b>the Board</b>.<br><br>0.5% positive, 9.9% negative<br>by Renaissance Numérique (ngo)<br>Cluster: 0",
          "Among other things, the Commission would be responsible for convening<br>meetings and preparing the agenda of these meetings, but also for<br>approving <b>the Board</b>'s rules of procedure.<br><br>0.5% positive, 0.8% negative<br>by Renaissance Numérique (ngo)<br>Cluster: 0",
          "In view of these interpretation challenges and in line with the<br>necessity to strengthen its role in terms of governance, the<br><b>EAIB</b> should be tasked with drawing up operational<br>recommendations in consultation with the multi-stakeholder expert<br>group and with the relevant actors of the ecosystem.<br><br>12.4% positive, 3.1% negative<br>by Renaissance Numérique (ngo)<br>Cluster: 0",
          "In this respect, the role of <b>the Board</b> will be essential.<br><br>97.1% positive, 0.5% negative<br>by Renaissance Numérique (ngo)<br>Cluster: 0",
          "For this reason, the functioning of these regulatory sandboxes should<br>be discussed in a collegial manner between the European Commission,<br>the <b>EAIB</b>, national competent authorities, the AI Expert Group<br>and relevant industry and civil society representatives.<br><br>0.4% positive, 0.2% negative<br>by Renaissance Numérique (ngo)<br>Cluster: 0",
          "The same logic could be followed at the European level, with the<br>support of the <b>EAIB</b>.<br><br>0.6% positive, 0.2% negative<br>by Renaissance Numérique (ngo)<br>Cluster: 0",
          "3.2 Organisations TITLE VI Governance, Chapter I Europe artificial<br>intelligence board Article 56 Establishment of the European<br><b>Artificial Intelligence Board</b> 1.<br><br>3.5% positive, 0.4% negative<br>by Huawei Technologies  (company)<br>Cluster: 0",
          "A ‘European <b>Artificial Intelligence Board</b>’ (the ‘Board’) is<br>established.<br><br>11.2% positive, 0.9% negative<br>by Huawei Technologies  (company)<br>Cluster: 0",
          "In Articles 56, 57 and 58 of the AI Act, the Commission sets out its<br>plans for the establishment of a European <b>Artificial Intelligence<br>Board</b>.<br><br>6.6% positive, 0.3% negative<br>by Huawei Technologies  (company)<br>Cluster: 0",
          "We would recommend that the Commission formally allow the active<br>participation of the industry in <b>the Board</b>’s Expert Group when<br>the group is created.<br><br>2.7% positive, 7.9% negative<br>by Huawei Technologies  (company)<br>Cluster: 0",
          "Establishing standards for AI systems addressing potential risks and<br>enabling innovation V. Introduce Industry Advisory Expert Groups as<br>part of the European <b>Artificial Intelligence Board</b> Page | 2<br>Introduction AI technologies have become a transformative force,<br>enabling technology breakthroughs across industries.<br><br>4.2% positive, 0.3% negative<br>by SEMI EUROPE (trade_union)<br>Cluster: 0",
          "V. Introduce Industry Advisory Expert Groups as part of the European<br>Artificial Intelligence Board SEMI Europe fully supports the<br>Commission’s plans to set up a European <b>Artificial Intelligence<br>Board</b> to ensure effective and consistent implementation and<br>enforcement of the proposed AI regulation.<br><br>29.7% positive, 0.6% negative<br>by SEMI EUROPE (trade_union)<br>Cluster: 0",
          "Considering Europe’s key strength as regulatory power in the global AI<br>landscape, SEMI Europe urges the Commission to introduce sector-<br>specific industry expert advisory groups as part of <b>the Board</b><br>to play a key role in the application and enforcement of the<br>regulation.<br><br>7.4% positive, 2.7% negative<br>by SEMI EUROPE (trade_union)<br>Cluster: 0",
          "Also, in order to ensure a level playing field between companies<br>providing and using AI systems for the same purpose, the opinions and<br>recommendations issued by the European <b>AI Board</b> should be<br>binding for national authorities and be based on the criteria<br>established by the authority(ies) with the highest expertise on each<br>particular activity.<br><br>12.5% positive, 1.2% negative<br>by Banco Bilbao Vizcaya Argentaria S.A. (company)<br>Cluster: 0",
          "Also, in order to ensure a level playing field between companies<br>providing and using AI systems for the same purpose, the opinions and<br>recommendations issued by the European <b>AI Board</b> should be<br>binding for national authorities and be based on the criteria<br>established by the authority(ies) with the highest expertise on each<br>particular activity.<br><br>12.5% positive, 1.2% negative<br>by Banco Bilbao Vizcaya Argentaria S.A. (company)<br>Cluster: 0",
          "In order to reduce the legal uncertainty that a lack of a common<br>understanding can cause, those vague terms should ideally be removed<br>from the final text or, at least, their use should be minimized and<br>complemented with guidance, recommendations or binding opinions to be<br>developed by the Commission or the newly created European<br><b>Artificial Intelligence Board</b> to ensure that supervisory<br>expectations and the understanding of market operators are aligned.,<br><br>46.4% positive, 4.7% negative<br>by Banco Bilbao Vizcaya Argentaria S.A. (company)<br>Cluster: 0",
          "Furthermore, for the sake of a harmonized application of this<br>Regulation by different authorities and across Member States, the<br>opinions and recommendations on the implementation of this Regulation<br>issued by the European <b>Artificial Intelligence Board</b> shall be<br>binding for authorities of Member States.<br><br>67.8% positive, 0.9% negative<br>by Banco Bilbao Vizcaya Argentaria S.A. (company)<br>Cluster: 0",
          "As this could lead to significant fragmentation, the issuance of<br>binding recommendations by the European <b>Artificial Intelligence<br>Board</b> would promote a harmonized enactment of the Regulation and<br>avoid regulatory arbitrage by market operators.<br><br>3.6% positive, 0.5% negative<br>by Banco Bilbao Vizcaya Argentaria S.A. (company)<br>Cluster: 0",
          "The governance and enforcement structure must be clear and ensure an<br>effective and consistent application of the rules at European and<br>national level The proposed governance and enforcement structure<br>mainly rests at national level and raises issues in relation to the<br>obligations, competences and powers of the different actors involved<br>Namely: the European Artificial Intelligence Board (<b>EAIB</b>), the<br>national competent authorities, the national supervisory authority,<br>the Commission, the European Data Protection Supervisor (EDPS) and the<br>AI system providers); and the different processes envisaged.<br><br>5.5% positive, 8.4% negative<br>by BEUC - The European Consumer Organisation (ngo)<br>Cluster: 0",
          "The autonomy and powers of the European <b>AI Board</b> See Articles<br>56 – 58 of the proposal; , comprised of high-level representatives of<br>the national supervisory authorities and chaired by the Commission,<br>also seem quite limited.<br><br>2.1% positive, 68.9% negative<br>by BEUC - The European Consumer Organisation (ngo)<br>Cluster: 0",
          "The creation of the European Artificial Intelligence Board We advise<br>including a balanced industry representation in the envisaged European<br><b>Artificial Intelligence Board</b> which has not only an advisory<br>role but can have a real impact on decisions made, as well.<br><br>7.4% positive, 0.6% negative<br>by The Polish Confederation Lewiatan (company)<br>Cluster: 0",
          "AI governance through multi-stakeholder and international<br>collaboration Detailed consideration in relation to enforcement of<br>this Regulation by the <b>EAIB</b>, etc.,<br><br>0.2% positive, 0.2% negative<br>by Japan Electronics and Information Technology Industries<br>Association(JEITA) (business_association)<br>Cluster: 0",
          "TITLE VI: GOVERNANCE (Articles 56-59) ▪ Articles 56-58: Establishment<br>of AI governance through multi-stakeholder and international<br>collaboration - When the European Artificial Intelligence Board<br>(<b>EAIB</b>) and other bodies engage in detailed consideration of<br>requirements in relation to the entry into force of this Regulation,<br>multiple stakeholders including industry and AI experts should also<br>participate so as to boost legal stability and predictability and<br>ensure that the content is effective and realistic.<br><br>7.5% positive, 1.3% negative<br>by Japan Electronics and Information Technology Industries<br>Association(JEITA) (business_association)<br>Cluster: 0",
          "If there are technologies found to meet the requirements of this<br>Regulation as a result of considerations at the <b>EAIB</b>, etc.,<br><br>0.2% positive, 0.2% negative<br>by Japan Electronics and Information Technology Industries<br>Association(JEITA) (business_association)<br>Cluster: 0",
          "or application of such technologies make considerations at the<br><b>EAIB</b>, etc.<br><br>0.1% positive, 0.1% negative<br>by Japan Electronics and Information Technology Industries<br>Association(JEITA) (business_association)<br>Cluster: 0",
          "A transparent multi-stakeholder approach, and particularly<br>participation by business entities and private companies, should be<br>encouraged in discussion at the <b>EAIB</b> and the High-Level Expert<br>Group on Artificial Intelligence as well as related discussion.<br><br>0.4% positive, 0.2% negative<br>by Japan Electronics and Information Technology Industries<br>Association(JEITA) (business_association)<br>Cluster: 0",
          "The work of the European <b>AI Board</b> should be supported by<br>continuous industry input, especially on matters related to technical<br>specifications and harmonized standards (art.<br><br>10.6% positive, 1.2% negative<br>by Developers Alliance (business_association)<br>Cluster: 0",
          "The European Artificial Intelligence Board (<b>EAIB</b>) may<br>importantly contribute to strengthening oversight and supervision, but<br>it must be ensured it has the corresponding power, capacity, and<br>independence to do so.<br><br>17.6% positive, 1.6% negative<br>by AW AlgorithmWatch gGmbH (ngo)<br>Cluster: 0",
          "In addition to the national supervisory authorities, the<br>“<b>Artificial Intelligence Board</b>” will play a major role in this<br>respect.<br><br>89.0% positive, 0.9% negative<br>by Gesamtverband der Deutschen Versicherungswirtschaft e. V.<br>(business_association)<br>Cluster: 0",
          "The establishment and structure of <b>the Board</b>, as provided for<br>in the Regulation by the EU Commission, is welcomed.<br><br>79.9% positive, 0.4% negative<br>by Gesamtverband der Deutschen Versicherungswirtschaft e. V.<br>(business_association)<br>Cluster: 0",
          "It is therefore only logical that essential tasks of AI regulation are<br>in the Commission’s hands and that the Commission is being assisted<br>and advised by <b>the Board</b> in carrying out these tasks.<br><br>46.3% positive, 1.8% negative<br>by Gesamtverband der Deutschen Versicherungswirtschaft e. V.<br>(business_association)<br>Cluster: 0",
          "From the point of view of the insurance industry, it is therefore the<br>right approach that <b>the Board</b> is not given any power to issue<br>guidelines or monitor them.<br><br>1.0% positive, 96.7% negative<br>by Gesamtverband der Deutschen Versicherungswirtschaft e. V.<br>(business_association)<br>Cluster: -1",
          "The supporting and advisory role of <b>the Board</b> is evident from<br>the fact that it is authorised to issue opinions, recommendations or<br>written contributions on matters related to the implementation of the<br>Regulation.<br><br>87.2% positive, 1.1% negative<br>by Gesamtverband der Deutschen Versicherungswirtschaft e. V.<br>(business_association)<br>Cluster: 0",
          "It is crucial in this context that the “<b>Artificial Intelligence<br>Board</b>” does not follow the blueprint of the European Data<br>Protection Board (EDPD).<br><br>2.5% positive, 77.8% negative<br>by Gesamtverband der Deutschen Versicherungswirtschaft e. V.<br>(business_association)<br>Cluster: 0",
          "Pursuant to Article 70 GDPR, <b>the Board</b> can issue a whole series<br>of “guidelines, recommendations, and best practices” for this purpose.<br><br>18.2% positive, 1.5% negative<br>by Gesamtverband der Deutschen Versicherungswirtschaft e. V.<br>(business_association)<br>Cluster: 0",
          "Furthermore, <b>the Board</b> interprets the GDPR very broadly,<br>sometimes contrary to the text of the law and without taking account<br>of what is relevant in practice, and to the detriment of controllers.<br><br>0.2% positive, 99.3% negative<br>by Gesamtverband der Deutschen Versicherungswirtschaft e. V.<br>(business_association)<br>Cluster: 0",
          "The governance structure of <b>the Board</b> provided in the<br>Regulation is therefore appreciated.<br><br>78.2% positive, 1.2% negative<br>by Gesamtverband der Deutschen Versicherungswirtschaft e. V.<br>(business_association)<br>Cluster: 0",
          "Due to the fact that the EU Commission chairs the Board, it is ensured<br>that the results of <b>the Board</b> are based on common<br>decisionmaking.<br><br>27.3% positive, 2.3% negative<br>by Gesamtverband der Deutschen Versicherungswirtschaft e. V.<br>(business_association)<br>Cluster: 0",
          "The governing function of the EU Commission is also reflected by the<br>fact that <b>the Board</b>’s rules of procedure require the<br>Commission’s approval.<br><br>0.5% positive, 4.8% negative<br>by Gesamtverband der Deutschen Versicherungswirtschaft e. V.<br>(business_association)<br>Cluster: 0",
          "This way it is being prevented that <b>the Board</b> becomes<br>independent, which could lead to decisions that are not in line with<br>the Commission’s and thus to a hardly justiciable “secondary<br>legislation”.<br><br>2.9% positive, 93.8% negative<br>by Gesamtverband der Deutschen Versicherungswirtschaft e. V.<br>(business_association)<br>Cluster: 0",
          "9 GOVERNANCE STRUCTURE AND <b>AI BOARD</b> The Norwegian government<br>foresees to designate a national supervisory authority, in accordance<br>with the proposal.<br><br>0.9% positive, 1.0% negative<br>by Ministry of Local Government and Modernisation (public_authority)<br>Cluster: 0",
          "The Proposal foresees to give a predominant role to the Commission,<br>with the <b>EAIB</b> in an advisory role.<br><br>15.5% positive, 29.7% negative<br>by Ministry of Local Government and Modernisation (public_authority)<br>Cluster: 0",
          "We would recommend giving more autonomy to the <b>EAIB</b>.<br><br>17.7% positive, 2.3% negative<br>by Ministry of Local Government and Modernisation (public_authority)<br>Cluster: 0",
          "This will give <b>the Board</b> a better possibility to ensure the<br>consistent application of the regulation across the single market.<br><br>54.4% positive, 2.0% negative<br>by Ministry of Local Government and Modernisation (public_authority)<br>Cluster: 0",
          "We note that no power is conferred to <b>the Board</b> regarding the<br>enforcement of the proposed regulation.<br><br>0.5% positive, 98.4% negative<br>by Ministry of Local Government and Modernisation (public_authority)<br>Cluster: -1",
          "The establishment of a European <b>Artificial Intelligence Board</b><br>is also positively considered in order to ensure the consistent<br>application and interpretation of the Regulation among the different<br>national authorities.<br><br>92.3% positive, 0.5% negative<br>by Data, AI and Robotics aisbl (ngo)<br>Cluster: 0",
          "On the EU-level the European <b>AI board</b> is the central governance<br>institution.<br><br>34.5% positive, 0.8% negative<br>by Bitkom e.V. (business_association)<br>Cluster: 0",
          "In our opinion, the focus of the <b>AI board</b> should be on two<br>issues: support for the opera- tionalisation of requirements and the<br>ongoing exchange on governance designs in the member states with the<br>aim of creating a framework that is as uniform as possible across the<br>member states.<br><br>4.9% positive, 11.4% negative<br>by Bitkom e.V. (business_association)<br>Cluster: 0",
          "Bitkom stands ready to support the <b>AI board</b> with its expertise<br>in AI and regarding the NLF.<br><br>95.3% positive, 0.3% negative<br>by Bitkom e.V. (business_association)<br>Cluster: 0",
          "We welcome the proposed creation of a new European Artificial<br>Intelligence Board (EAIB), yet, we think that it is highly problematic<br>that there is no clear nomination procedure for the national<br>authorities in place which will represent the member states on <b>the<br>Board</b>.<br><br>32.1% positive, 13.6% negative<br>by industriAll European Trade Union (trade_union)<br>Cluster: 0",
          "We further recommend that social partners should be full members of<br>the <b>EAIB</b>, especially since the workplace is very much neglected<br>in the proposed Regulation.<br><br>0.5% positive, 0.2% negative<br>by industriAll European Trade Union (trade_union)<br>Cluster: 0",
          "The nature of the data (potentially) being collected should therefore<br>be taken into account as well, and any impact assessment should take<br>the potential further development of the system into account; Include<br>a provision that makes sure that the right of workers to information,<br>consultation and participation is respected on the introduction of any<br>kind of AI at the workplace: there must be ‘nothing about us, without<br>us’; Clearly define and strengthen the role of the European Artificial<br>Intelligence Board, and invite social partners to join <b>the<br>Board</b> as full members.<br><br>24.4% positive, 12.1% negative<br>by industriAll European Trade Union (trade_union)<br>Cluster: 0",
          "Currently, the legislation does not provide any information on who<br>could initiate the extension process, the potential involvement of<br>industry, a transition period for providers and users to comply with<br>the changes, the role of the EU <b>AI Board</b> and an independent<br>Expert Group to provide technical input.<br><br>0.8% positive, 0.7% negative<br>by SAP (company)<br>Cluster: 0",
          "Facilitate accountability: Include oversight and enforcement<br>infrastructures that work for people: a) Ensure cohesive national<br>enforcement structure; b) Include individual and collective flagging<br>and redress mechanisms; c) Implement a more democratic governance<br>infrastructure and greater independence for <b>EAIB</b>.<br><br>3.1% positive, 0.7% negative<br>by European Digital Rights (EDRi) (ngo)<br>Cluster: 0",
          "Facilitate accountability: Include oversight and enforcement in-<br>frastructures that work for people: a. Ensure a cohesive national<br>enforcement structure; b. Include flagging and redress mechanisms<br>allowing individuals and collectives to contest and seek redress for<br>all AI systems that cause harm and threaten fundamental rights; c.<br>Implement a more democratic governance infrastructure, with greater<br>independence for the European <b>AI board</b>.<br><br>1.6% positive, 2.6% negative<br>by European Digital Rights (EDRi) (ngo)<br>Cluster: 0",
          "Article 56 establishes the European <b>AI Board</b>, however removes<br>the competence of this Board (which appeared in previous verisons) to<br>present additions to the list of high risk AI systems.<br><br>2.3% positive, 27.9% negative<br>by European Digital Rights (EDRi) (ngo)<br>Cluster: 0",
          "Further, due to the power of the European Commission in the European<br>AI Board, it raises significant questions relating to the independence<br>of national supervisory authorities, which report to the <b>AI<br>board</b>.<br><br>0.4% positive, 3.1% negative<br>by European Digital Rights (EDRi) (ngo)<br>Cluster: 0",
          "Further, there must be more independence for the European <b>AI<br>board</b> and more distributed scope of governance funtions.<br><br>4.7% positive, 79.6% negative<br>by European Digital Rights (EDRi) (ngo)<br>Cluster: 0",
          "c) Implement a more democratic governance infrastructure, with greater<br>independence for the European AI board: i. Ensure that the mandate to<br>make substantive updates to the legal framework (updates to high risk<br>use cases, prohibitions) is held by a representative and<br>democractically accountable European <b>AI Board</b>, not solely with<br>the European Commission; ii.<br><br>49.8% positive, 3.8% negative<br>by European Digital Rights (EDRi) (ngo)<br>Cluster: 0",
          "Include within the structure of the <b>AI Board</b> representatives of<br>social partners and civil society, in particular those representing<br>marginalised groups.<br><br>0.9% positive, 0.2% negative<br>by European Digital Rights (EDRi) (ngo)<br>Cluster: 0",
          "The proposed European <b>Artificial Intelligence Board</b> is well-<br>positioned to conduct these reviews and updates.<br><br>88.1% positive, 0.6% negative<br>by OpenAI (company)<br>Cluster: 0",
          "<b>The Board</b> should be authorized to propose updates to Annexes<br>including the list of prohibited and high-risk systems.<br><br>22.9% positive, 14.3% negative<br>by OpenAI (company)<br>Cluster: 0",
          "Therefore, we welcome the creation of a European <b>AI Board</b><br>tasked with coordination of collaboration on AI across the EU.<br><br>84.3% positive, 0.4% negative<br>by Biogen (company)<br>Cluster: 0",
          "Biogen wishes to underline the importance of all key stakeholders<br>being engaged in this initiative at the highest level and encourages<br>early agreement on public-private platform to allow for structured<br>dialogue with <b>the Board</b>.<br><br>1.1% positive, 20.1% negative<br>by Biogen (company)<br>Cluster: 0",
          "The Commission and <b>the Board</b> shall encourage and facilitate the<br>drawing up of codes of conduct intended to foster the voluntary<br>application to AI systems of requirements related for example to<br>environmental sustainability, accessibility for persons with a<br>disability, stakeholders' participation in the design and development<br>of the AI systems and diversity of development teams based on clear<br>objectives and key performance indicators to measure the achievement<br>of those objectives.<br><br>13.2% positive, 1.4% negative<br>by Italian Banking Association (business_association)<br>Cluster: 0",
          "Finally, a guidance needs to be included on chapter 1 article 57 to<br>describe the background required for <b>the Board</b>.<br><br>0.2% positive, 0.3% negative<br>by European Association of Hospital Pharmacists (ngo)<br>Cluster: 0",
          "Governance: The Proposal for Regulation seeks to establish a<br>governance system leading to the establishment of a European<br><b>Artificial Intelligence Board</b> with the involvement of national<br>authorities to monitor the implementation of the regulation.<br><br>12.2% positive, 0.7% negative<br>by German Education Union (GEW) (trade_union)<br>Cluster: 0",
          "It is therefore crucial that education social partners are actively<br>involved in the activities of the European <b>Artificial Intelligence<br>Board</b> through regular consultations and meaningful social<br>dialogue, both at national and European level to monitor the<br>implementation of the regulation and address the risks related to the<br>use of Artificial Intelligence in education.<br><br>1.3% positive, 0.5% negative<br>by German Education Union (GEW) (trade_union)<br>Cluster: 0",
          "Roche believes it is of paramount importance to ensure real<br>harmonisation of the interpretation and implementation of this Act at<br>the EU National Member state level to avoid the issues now seen with<br>the GDPR We recommend a more prescriptive approach and enforcement<br>mechanism for the national bodies and European <b>Artificial<br>Intelligence Board</b> to ensure a robust and consistent<br>implementation of this regulation across member states.<br><br>4.7% positive, 3.0% negative<br>by Hoffmann La Roche (company)<br>Cluster: 0",
          "We do acknowledge the role of the European <b>Artificial Intelligence<br>Board</b> here as a board that will aim to help facilitate a smooth,<br>effective and harmonised implementation of this act, but the finer<br>details on how it will be enforced are currently lacking. (<br><br>38.6% positive, 5.7% negative<br>by Hoffmann La Roche (company)<br>Cluster: 0",
          "81) “The Commission may develop initiatives, including of a sectorial<br>nature, to facilitate the lowering of technical barriers hindering<br>crossborder exchange of data for AI development, including on data<br>access infrastructure, semantic and technical interoperability of<br>different types of data” We therefore appreciate the Commission’s aims<br>to address the technical barriers hindering cross border exchange of<br>data but would also appreciate if efforts could be made to address<br>legal barriers too as national and even within country barriers in<br>addition to regional barriers for data exchange exist (in particular<br>for personal data) The role of the European Artificial Intelligence<br>board (EAIB) and its connection with the European Data Protection<br>Board (EDPB) needs further clarification We support the set up of an<br><b>EAIB</b> however find it unclear how this board will interact with<br>the EDPB and if the relationship between the two may cause confusion<br>over responsibilities, especially given data governance is such a<br>fundamental part of the development and use of AI.<br><br>4.1% positive, 2.8% negative<br>by Hoffmann La Roche (company)<br>Cluster: 0",
          "The act states that the <b>EAIB</b> will consult the EDPB on certain<br>topics but broader questions remain as to the relationship between the<br>two e.g. will they periodically meet, could the membership at member<br>state level be the same on both boards and who will take final<br>decisions related to access to data for the development of AI.<br><br>1.6% positive, 1.6% negative<br>by Hoffmann La Roche (company)<br>Cluster: 0",
          "At Union level, the proposal establishes a European <b>Artificial<br>Intelligence Board</b> (the ‘Board’), composed of representatives from<br>the Member States and the Commission.<br><br>31.7% positive, 1.0% negative<br>by Hoffmann La Roche (company)<br>Cluster: 0",
          "<b>The Board</b> will facilitate a smooth, effective and harmonised<br>implementation of this regulation by contributing to the effective<br>cooperation of the national supervisory authorities and the Commission<br>and providing advice and expertise to the Commission.<br><br>85.7% positive, 0.8% negative<br>by Hoffmann La Roche (company)<br>Cluster: 0",
          "76) “In order to facilitate a smooth, effective and harmonised<br>implementation of this Regulation a European <b>Artificial<br>Intelligence Board</b> should be established.<br><br>21.7% positive, 2.3% negative<br>by Hoffmann La Roche (company)<br>Cluster: 0",
          "<b>The Board</b> should be responsible for a number of advisory tasks,<br>including issuing opinions, recommendations, advice or guidance on<br>matters related to the implementation of this Regulation, including on<br>technical specifications or existing standards regarding the<br>requirements established in this Regulation and providing advice to<br>and assisting the Commission on specific questions related to<br>artificial intelligence.”<br><br>8.4% positive, 0.8% negative<br>by Hoffmann La Roche (company)<br>Cluster: 0",
          "It is therefore crucial that education social partners are actively<br>involved in the activities of the proposed European <b>Artificial<br>Intelligence Board</b> through regular consultations and meaningful<br>social dialogue to monitor the implementation of the Regulation and<br>address the risks related to the use of AI in education.<br><br>1.5% positive, 0.6% negative<br>by ETUCE (trade_union)<br>Cluster: 0",
          "Governance: The Proposal for Regulation seeks to establish a<br>governance system leading to the establishment of a European<br><b>Artificial Intelligence Board</b> with the involvement of national<br>authorities to monitor the implementation of the regulation.<br><br>12.2% positive, 0.7% negative<br>by ETUCE (trade_union)<br>Cluster: 0",
          "It is therefore crucial that education social partners are actively<br>involved in the activities of the European <b>Artificial Intelligence<br>Board</b> through regular consultations and meaningful social<br>dialogue, both at national and European level to monitor the<br>implementation of the regulation and address the risks related to the<br>use of Artificial Intelligence in education.<br><br>1.3% positive, 0.5% negative<br>by ETUCE (trade_union)<br>Cluster: 0",
          "Foreseen European AI Board: ResMed welcomes the proposed European<br><b>AI Board</b> but calls for the Commission to look to lessons<br>learned from the GDPR enforcement model and looks forward to more<br>clarity on how national authorities will be supported in the necessary<br>up/re-skilling.<br><br>36.6% positive, 1.3% negative<br>by ResMed (company)<br>Cluster: 0",
          "Additionally, the European <b>AI Board</b> should ensure it works<br>collaboratively with and does not duplicate or undermine the work of<br>the European Data Protection Board or the European Data Innovation<br>Board foreseen under the DGA.<br><br>13.6% positive, 23.0% negative<br>by ResMed (company)<br>Cluster: 0",
          "ResMed commends the proposal for an independent expert group to assist<br>the European <b>AI Board</b> in its work.<br><br>0.9% positive, 0.3% negative<br>by ResMed (company)<br>Cluster: 0",
          "Therefore, we welcome the creation of a European <b>AI Board</b><br>tasked with coordination of collaboration on AI across the EU.<br><br>84.3% positive, 0.4% negative<br>by European Federation of Pharmaceutical Industries and Associations<br>(EFPIA) (business_association)<br>Cluster: 0",
          "EFPIA wishes to underline the importance of all key stakeholders being<br>engaged in this initiative at the highest level and encourages early<br>agreement on public-private platform to allow for structured dialogue<br>with <b>the Board</b>.<br><br>1.4% positive, 24.1% negative<br>by European Federation of Pharmaceutical Industries and Associations<br>(EFPIA) (business_association)<br>Cluster: 0",
          "European Artificial Intelligence Board  Industry representation -<br>CIPL welcomes the creation of the European <b>Artificial Intelligence<br>Board</b> to enable ongoing collaboration between policy makers,<br>industry, academics and researchers.<br><br>51.8% positive, 0.5% negative<br>by Centre for Information Policy Leadership (CIPL)<br>(academic_research_institution)<br>Cluster: 0",
          "However, CIPL would like to see a more systematic participation of<br>industry as part of <b>the Board</b>’s permanent structure.<br><br>2.0% positive, 13.1% negative<br>by Centre for Information Policy Leadership (CIPL)<br>(academic_research_institution)<br>Cluster: 0",
          "        We welcome the European <b>AI Board</b> but stress the need<br>for cohesion with other EU level boards to ensure complete<br>harmonisation of legislation to reduce regulatory burden.<br><br>96.3% positive, 0.3% negative<br>by EIT Health (ngo)<br>Cluster: 0",
          " We welcome the European <b>AI Board</b> but stress the need for<br>cohesion with other EU level boards to ensure complete harmonisation<br>of legislation to reduce regulatory burden.<br><br>94.7% positive, 0.4% negative<br>by EIT Health (ngo)<br>Cluster: 0",
          "Furthermore, Eurosmart sees a risk of having diverging guidelines<br>coming from the European <b>AI Board</b> and from the EDPB.<br><br>0.6% positive, 19.1% negative<br>by Eurosmart (company)<br>Cluster: 0",
          "Regulatory framework and governance system However, the regulatory<br>framework proposed by the EC seems relatively cumbersome, with a main<br>text accompanied by numerous annexes, several of which are subject to<br>the management of a new agency (\"European <b>Artificial Intelligence<br>Board</b>”).<br><br>0.7% positive, 2.8% negative<br>by SOCIETE GENERALE (company)<br>Cluster: 0",
          "The proposed mechanism also seems relatively complex, and probably<br>long, to implement and stabilize, due to the large number of actors<br>involved in its functioning and governance (EC, European <b>AI<br>Board</b>, competent national authorities, etc.).<br><br>0.7% positive, 3.2% negative<br>by SOCIETE GENERALE (company)<br>Cluster: 0",
          "Indeed, France Industrie sees both a risk to sovereignty and<br>competitiveness in the possibility for the authorities to have access<br>to the source code and to share it with the European <b>Artificial<br>Intelligence Board</b>.<br><br>0.2% positive, 0.5% negative<br>by France Industrie (company)<br>Cluster: 0",
          "Local authorities support the creation of a European <b>Artificial<br>Intelligence Board</b>, chaired by the European Commission, to issue<br>recommendations and opinions related to the implementation of the<br>regulation as well as to collect and share best practices.<br><br>35.6% positive, 0.6% negative<br>by Eurocities (ngo)<br>Cluster: 0",
          "Therefore, local governments should explicitly be involved as official<br>stakeholders for consultation in <b>the Board</b>.<br><br>0.5% positive, 2.9% negative<br>by Eurocities (ngo)<br>Cluster: 0",
          "Yet this competence is assigned to a newly established European<br><b>Artificial Intelligence Board</b> (the ‘Board’), composed of<br>representatives of Members States and the Commission (art.<br><br>11.9% positive, 3.9% negative<br>by European Center for Not-For-Profit Law Stichting (ngo)<br>Cluster: 0",
          "Lessons learned from sandboxes shall be taken into account in<br>amendments and updates of the regulation Include a balanced industry<br>representation in the envisaged European <b>AI Board</b> o A rule that<br>filters the entries of an Excel spreadsheet for specific criteria or<br>conventional logical programs used in industrial applications for many<br>years for example would be considered as AI according to that<br>definition.<br><br>1.5% positive, 0.5% negative<br>by SIEMENS AG (company)<br>Cluster: 0",
          "The information in the reports that Member State competent authorities<br>submit to the European <b>AI Board</b> and the Commission (Art.<br><br>1.5% positive, 0.3% negative<br>by European Association of Co-operative Banks (business_association)<br>Cluster: 0",
          "Governance: The Proposal for Regulation seeks to establish a<br>governance system leading to the establishment of a European<br><b>Artificial Intelligence Board</b> with the involvement of national<br>authorities to monitor the implementation of the regulation.<br><br>12.2% positive, 0.7% negative<br>by ČMOS PŠ (trade_union)<br>Cluster: 0",
          "It is therefore crucial that education social partners are actively<br>involved in the activities of the European <b>Artificial Intelligence<br>Board</b> through regular consultations and meaningful social<br>dialogue, both at national and European level to monitor the<br>implementation of the regulation and address the risks related to the<br>use of Artificial Intelligence in education.<br><br>1.3% positive, 0.5% negative<br>by ČMOS PŠ (trade_union)<br>Cluster: 0",
          "The proposal to create an <b>AI board</b> is sensible.<br><br>2.3% positive, 0.5% negative<br>by Civil Liberties Union for Europe (ngo)<br>Cluster: 0",
          "The proposal to create an <b>AI board</b> is sensible.<br><br>2.3% positive, 0.5% negative<br>by Civil Liberties Union for Europe (ngo)<br>Cluster: 0",
          "Stronger enforcement and more opportunities for remedies To ensure<br>proper enforcement of the regulation, Liberties recommends giving more<br>autonomy to the EU <b>Artificial Intelligence Board</b> and to<br>designate national DPAs as the national competent authorities.<br><br>18.9% positive, 1.5% negative<br>by Civil Liberties Union for Europe (ngo)<br>Cluster: 0",
          "Governance: The Proposal for Regulation seeks to establish a<br>governance system leading to the establishment of a European<br><b>Artificial Intelligence Board</b> with the involvement of national<br>authorities to monitor the implementation of the regulation.<br><br>12.2% positive, 0.7% negative<br>by Teachers' Union of Ireland (trade_union)<br>Cluster: 0",
          "Furthermore, if the AI Act is adopted as is, there will be two<br>supervisory bodies, the EAIB (European <b>AI Board</b>) and EDPB<br>(European Data Protection Board) with overlapping areas of<br>responsibility which might lead to misinterpretation concerning<br>regulation that takes precedence.<br><br>1.2% positive, 12.8% negative<br>by City of Stockholm (public_authority)<br>Cluster: 0",
          "In addition, the Commission proposes the establishment of a “European<br><b>Artificial Intelligence Board</b>”.<br><br>15.3% positive, 0.7% negative<br>by German Trade Union Confederation DGB (trade_union)<br>Cluster: 0",
          "When doing so, we ask the Commission, the Member States, and <b>the<br>Board</b> to take into account the specific interest and needs of the<br>small-scale providers and startups.<br><br>8.3% positive, 6.3% negative<br>by The Federation of Finnish Enterprises (business_association)<br>Cluster: 0",
          "The establishment of the European <b>Artificial Intelligence Board</b><br>is welcome but does not help mitigate enough the challenges rising<br>from the Member States’ lack of resources and capabilities.<br><br>88.3% positive, 1.2% negative<br>by The Federation of Finnish Enterprises (business_association)<br>Cluster: 0",
          "We would also strongly advice including permanent representation of<br>the AI developers to the structure of <b>the Board</b>, to make sure<br>it has sufficient technical and business insight.<br><br>13.3% positive, 5.8% negative<br>by The Federation of Finnish Enterprises (business_association)<br>Cluster: 0",
          "Whilst the regulation only mentions “external experts and observers”,<br>trade unions should be part of the governance of the EU <b>AI<br>Board</b> to ensure a democratic process and the protection of<br>workers’ rights.<br><br>3.0% positive, 0.8% negative<br>by UNI Europa (trade_union)<br>Cluster: 0",
          "Trade unions should be part of the governance of the EU <b>AI<br>Board</b> to ensure a democratic process and the protection of<br>workers’ rights.<br><br>3.0% positive, 1.1% negative<br>by UNI Europa (trade_union)<br>Cluster: 0",
          "Trade unions should be part of the governance of the EU <b>AI<br>Board</b>.<br><br>1.0% positive, 5.0% negative<br>by UNI Europa (trade_union)<br>Cluster: 0",
          "It is imperative that representatives of the European Standardization<br>Organizations are represented in the European <b>Artificial<br>Intelligence Board</b>.<br><br>37.1% positive, 6.9% negative<br>by DIN Deutsches Institut für Normung e.V. (standardizing_body)<br>Cluster: 0",
          "Recommendation: In order to fulfil this task, it is imperative that<br>representatives of the ESOs are represented in the <b>EAIB</b>.<br><br>2.1% positive, 0.5% negative<br>by DIN Deutsches Institut für Normung e.V. (standardizing_body)<br>Cluster: 0"
         ],
         "type": "scatter",
         "x": [
          0.6683200001716614,
          16.210372924804688,
          -0.5881988406181335,
          -3.332883834838867,
          -1.419487476348877,
          12.50140380859375,
          5.399440765380859,
          -1.9043025970458984,
          2.654822826385498,
          -2.423147201538086,
          -0.08647776395082474,
          1.7469133138656616,
          -5.52112340927124,
          10.409940719604492,
          12.267778396606445,
          14.4079008102417,
          13.349814414978027,
          13.724278450012207,
          -16.967134475708008,
          -17.359270095825195,
          -13.441875457763672,
          -9.733075141906738,
          8.36884880065918,
          -10.539819717407227,
          -11.698410034179688,
          -21.286989212036133,
          -19.9715518951416,
          -2.2697529792785645,
          -20.206302642822266,
          -5.673306941986084,
          0.10821235924959183,
          -5.673306941986084,
          1.3265191316604614,
          -3.885005235671997,
          16.446470260620117,
          2.107755422592163,
          0.10767878592014313,
          7.265273094177246,
          6.242118835449219,
          10.631077766418457,
          13.539124488830566,
          8.21822452545166,
          -3.4118008613586426,
          -12.781097412109375,
          -10.17282772064209,
          -4.9772629737854,
          9.973045349121094,
          7.611506462097168,
          6.46281623840332,
          -10.041539192199707,
          -10.560994148254395,
          -21.796464920043945,
          -21.796951293945312,
          9.36451244354248,
          20.710615158081055,
          0.2162153571844101,
          13.564556121826172,
          9.237014770507812,
          -15.239725112915039,
          9.199442863464355,
          8.071345329284668,
          3.4595324993133545,
          -2.579685926437378,
          -12.082605361938477,
          0.24333323538303375,
          -5.371138572692871,
          -12.644454002380371,
          -11.602225303649902,
          11.655434608459473,
          12.161468505859375,
          -0.7130142450332642,
          -13.827770233154297,
          -8.019364356994629,
          -2.7283096313476562,
          -2.7048518657684326,
          -12.082605361938477,
          -4.088997840881348,
          -10.038023948669434,
          -8.128485679626465,
          -13.70064640045166,
          3.6640233993530273,
          2.5865323543548584,
          -0.860873281955719,
          -2.743230104446411,
          -0.5464932322502136,
          -5.358527660369873,
          16.16193389892578,
          6.622073173522949,
          3.290432929992676,
          -10.638764381408691,
          -19.96680450439453,
          -18.021419525146484,
          5.7996978759765625,
          11.671601295471191,
          12.482317924499512,
          -5.3537492752075195,
          4.642952919006348,
          -14.1244478225708,
          5.339151382446289,
          -2.571244716644287,
          17.56145668029785,
          9.24597454071045,
          15.49347972869873,
          13.104722023010254,
          11.961795806884766,
          3.3743884563446045,
          2.1788601875305176,
          1.2840298414230347,
          1.0033982992172241,
          -6.1549859046936035,
          -9.48263931274414,
          5.608357906341553,
          17.075145721435547,
          -10.84203815460205,
          6.429388046264648,
          8.9623441696167,
          8.488092422485352,
          6.779037952423096,
          -10.921148300170898,
          -6.317419528961182,
          -2.661444664001465,
          -16.529075622558594,
          -13.341666221618652,
          -13.61807632446289,
          15.789228439331055,
          -9.077983856201172,
          0.6167223453521729,
          8.284040451049805,
          8.118850708007812,
          -19.949766159057617,
          10.348006248474121,
          4.611201286315918,
          4.124435901641846,
          1.9136955738067627,
          1.9139714241027832,
          5.730772972106934,
          2.9370217323303223,
          1.2747408151626587,
          7.734091758728027,
          0.6028662919998169,
          6.928577899932861,
          -0.8318606615066528,
          -0.6864334344863892,
          -7.08774995803833,
          -6.953688621520996,
          3.759458541870117,
          2.4099929332733154,
          6.106021404266357,
          10.994905471801758,
          -13.587413787841797,
          -6.778730869293213,
          -16.523534774780273,
          -14.54536247253418,
          10.676424026489258,
          5.097508430480957,
          7.575396537780762,
          -13.049483299255371,
          -14.775899887084961,
          -15.435945510864258,
          -2.1437761783599854,
          -8.296884536743164,
          -12.876232147216797,
          -7.126055717468262,
          -16.107654571533203,
          -16.543292999267578,
          5.138241767883301,
          -1.7347004413604736,
          -5.488397121429443,
          3.8016340732574463,
          7.242673397064209,
          -16.13420295715332,
          11.737468719482422,
          5.447964668273926,
          -0.08744832873344421,
          0.6677308082580566,
          16.210317611694336,
          -0.5881988406181335,
          -3.3324408531188965,
          -1.419487476348877,
          12.50140380859375,
          9.01980209350586,
          -13.507692337036133,
          3.3016011714935303,
          -18.589893341064453,
          -10.562217712402344,
          -10.951556205749512,
          3.200446128845215,
          18.847623825073242,
          6.262768268585205,
          5.482059478759766,
          10.2784423828125,
          -6.935463905334473,
          8.114490509033203,
          -15.656379699707031,
          4.76629638671875,
          -6.919707298278809,
          18.145872116088867,
          3.9169483184814453,
          19.209253311157227,
          -0.8465471267700195,
          -2.237931966781616,
          1.349930763244629,
          3.3031210899353027,
          -18.405656814575195,
          5.973604202270508,
          -21.46377944946289,
          -1.767795443534851,
          -1.7680855989456177,
          -4.849140167236328,
          3.9513285160064697,
          3.150407075881958,
          12.280040740966797,
          4.859872341156006,
          -19.34242820739746,
          9.082376480102539,
          16.13368797302246,
          3.227644920349121,
          3.3751461505889893,
          18.761890411376953,
          -0.35534462332725525,
          -0.35539349913597107,
          -2.8366198539733887,
          4.138321876525879,
          -6.545445919036865,
          7.743792533874512,
          -22.370264053344727,
          10.155171394348145,
          -2.5065627098083496,
          4.228505611419678,
          4.749138355255127,
          5.130917549133301,
          7.457523822784424,
          -14.509605407714844
         ],
         "y": [
          -10.005897521972656,
          3.344048023223877,
          -14.845328330993652,
          -9.107669830322266,
          -10.186487197875977,
          17.06922149658203,
          9.516637802124023,
          0.458548367023468,
          -0.274821400642395,
          -1.9431544542312622,
          6.853637218475342,
          5.491488456726074,
          -8.070512771606445,
          -1.5476847887039185,
          16.040193557739258,
          7.983139991760254,
          6.584200859069824,
          4.125818729400635,
          4.098965167999268,
          3.8908140659332275,
          -9.291398048400879,
          14.431926727294922,
          -0.7304703593254089,
          -3.3300771713256836,
          -5.969718933105469,
          -0.7671881914138794,
          -1.636281967163086,
          9.320981979370117,
          -5.38590145111084,
          8.408559799194336,
          -7.521975040435791,
          8.408559799194336,
          -5.2288336753845215,
          -0.05011570826172829,
          -0.6216915845870972,
          -2.275052309036255,
          -7.5223188400268555,
          0.21394021809101105,
          4.73676061630249,
          1.9137566089630127,
          2.3644134998321533,
          -7.6635918617248535,
          -3.8778254985809326,
          -15.129709243774414,
          -14.551342964172363,
          -12.148492813110352,
          -12.114435195922852,
          -2.691011428833008,
          -2.5813069343566895,
          13.553572654724121,
          13.036462783813477,
          3.5256896018981934,
          3.525991678237915,
          3.290830135345459,
          10.45012092590332,
          1.5350080728530884,
          6.881766319274902,
          10.521354675292969,
          -3.4796111583709717,
          -5.517714977264404,
          8.404236793518066,
          6.050145149230957,
          12.605940818786621,
          -0.1244344413280487,
          5.593707084655762,
          -2.4320037364959717,
          5.389227867126465,
          4.553300380706787,
          -8.429472923278809,
          -9.653170585632324,
          -4.577249526977539,
          3.147759437561035,
          2.7432188987731934,
          -5.722644329071045,
          12.930984497070312,
          -0.1244344413280487,
          12.406204223632812,
          -16.474416732788086,
          2.488917112350464,
          3.800748825073242,
          -7.54358434677124,
          -0.11040913313627243,
          11.04403305053711,
          2.801342725753784,
          -2.6579766273498535,
          3.4617903232574463,
          6.340372562408447,
          17.58994483947754,
          -1.4141261577606201,
          -3.1489250659942627,
          -1.6335500478744507,
          -2.4072299003601074,
          5.945516586303711,
          -1.495508074760437,
          0.31972014904022217,
          -6.590845584869385,
          2.309734344482422,
          3.7504067420959473,
          6.719355583190918,
          15.138239860534668,
          3.635622262954712,
          10.895713806152344,
          -4.34652853012085,
          10.76181411743164,
          9.965824127197266,
          7.778650283813477,
          7.676233291625977,
          10.138017654418945,
          8.514107704162598,
          -11.056055068969727,
          -13.729081153869629,
          -9.238447189331055,
          1.3674888610839844,
          -13.537304878234863,
          -4.3401103019714355,
          -8.68529987335205,
          6.739193916320801,
          12.183752059936523,
          -6.822017192840576,
          -13.478446960449219,
          -14.443355560302734,
          -5.127284049987793,
          -12.781281471252441,
          -0.8560191988945007,
          -6.064633846282959,
          -10.243220329284668,
          -3.341627359390259,
          3.746105194091797,
          -0.5648962259292603,
          -5.357908248901367,
          8.747306823730469,
          4.848854064941406,
          4.54650354385376,
          2.775510549545288,
          2.7757458686828613,
          -7.375644683837891,
          0.46195539832115173,
          -0.14885926246643066,
          -6.23833703994751,
          -13.928879737854004,
          6.129026889801025,
          -1.0535231828689575,
          -2.0231525897979736,
          -3.723825693130493,
          -3.5784127712249756,
          13.5711088180542,
          4.890198707580566,
          2.9085423946380615,
          -0.6996620297431946,
          -4.499920845031738,
          0.5967203378677368,
          9.720466613769531,
          -1.959804654121399,
          -4.1746697425842285,
          18.150562286376953,
          18.526411056518555,
          -3.99360990524292,
          -5.563604354858398,
          -5.3015241622924805,
          -16.366132736206055,
          -6.570317268371582,
          -14.922884941101074,
          -13.511001586914062,
          -0.28476840257644653,
          9.729690551757812,
          1.0454245805740356,
          -5.366497993469238,
          4.172985076904297,
          11.107512474060059,
          3.2438101768493652,
          -13.363325119018555,
          6.274719715118408,
          -10.752030372619629,
          -11.43266487121582,
          -10.005309104919434,
          3.344048500061035,
          -14.845328330993652,
          -9.10790729522705,
          -10.186487197875977,
          17.06922149658203,
          5.1403117179870605,
          -9.326569557189941,
          9.350302696228027,
          -10.847668647766113,
          13.823626518249512,
          -1.5744448900222778,
          -4.2022223472595215,
          9.903694152832031,
          16.896156311035156,
          -0.7949436902999878,
          -5.293651103973389,
          -17.258596420288086,
          2.6435606479644775,
          -2.4740960597991943,
          -0.3023150861263275,
          0.2035704404115677,
          10.39490795135498,
          -4.030712604522705,
          10.473633766174316,
          3.3467628955841064,
          6.694002628326416,
          11.763298988342285,
          9.356165885925293,
          -10.956441879272461,
          7.960315227508545,
          -5.582362174987793,
          4.867331027984619,
          4.866952419281006,
          -18.45749282836914,
          -6.348516941070557,
          -8.783726692199707,
          -5.501635551452637,
          -2.298895835876465,
          -7.942882537841797,
          1.7339140176773071,
          -4.223106384277344,
          -12.880026817321777,
          -4.819735050201416,
          10.962174415588379,
          16.55278968811035,
          16.552854537963867,
          -11.51908016204834,
          -4.6480183601379395,
          -17.340309143066406,
          1.78334379196167,
          2.732828378677368,
          3.8518097400665283,
          14.234041213989258,
          -17.32730484008789,
          -17.56836700439453,
          -17.387706756591797,
          4.741268157958984,
          -13.499954223632812
         ]
        }
       ],
       "layout": {
        "font": {
         "color": "white"
        },
        "legend": {
         "font": {
          "color": "white"
         }
        },
        "margin": {
         "b": 0,
         "l": 0,
         "r": 0,
         "t": 0
        },
        "paper_bgcolor": "rgba(0, 0, 0, 0)",
        "plot_bgcolor": "rgba(0, 0, 0, 0)",
        "template": {
         "data": {
          "bar": [
           {
            "error_x": {
             "color": "#2a3f5f"
            },
            "error_y": {
             "color": "#2a3f5f"
            },
            "marker": {
             "line": {
              "color": "#E5ECF6",
              "width": 0.5
             },
             "pattern": {
              "fillmode": "overlay",
              "size": 10,
              "solidity": 0.2
             }
            },
            "type": "bar"
           }
          ],
          "barpolar": [
           {
            "marker": {
             "line": {
              "color": "#E5ECF6",
              "width": 0.5
             },
             "pattern": {
              "fillmode": "overlay",
              "size": 10,
              "solidity": 0.2
             }
            },
            "type": "barpolar"
           }
          ],
          "carpet": [
           {
            "aaxis": {
             "endlinecolor": "#2a3f5f",
             "gridcolor": "white",
             "linecolor": "white",
             "minorgridcolor": "white",
             "startlinecolor": "#2a3f5f"
            },
            "baxis": {
             "endlinecolor": "#2a3f5f",
             "gridcolor": "white",
             "linecolor": "white",
             "minorgridcolor": "white",
             "startlinecolor": "#2a3f5f"
            },
            "type": "carpet"
           }
          ],
          "choropleth": [
           {
            "colorbar": {
             "outlinewidth": 0,
             "ticks": ""
            },
            "type": "choropleth"
           }
          ],
          "contour": [
           {
            "colorbar": {
             "outlinewidth": 0,
             "ticks": ""
            },
            "colorscale": [
             [
              0,
              "#0d0887"
             ],
             [
              0.1111111111111111,
              "#46039f"
             ],
             [
              0.2222222222222222,
              "#7201a8"
             ],
             [
              0.3333333333333333,
              "#9c179e"
             ],
             [
              0.4444444444444444,
              "#bd3786"
             ],
             [
              0.5555555555555556,
              "#d8576b"
             ],
             [
              0.6666666666666666,
              "#ed7953"
             ],
             [
              0.7777777777777778,
              "#fb9f3a"
             ],
             [
              0.8888888888888888,
              "#fdca26"
             ],
             [
              1,
              "#f0f921"
             ]
            ],
            "type": "contour"
           }
          ],
          "contourcarpet": [
           {
            "colorbar": {
             "outlinewidth": 0,
             "ticks": ""
            },
            "type": "contourcarpet"
           }
          ],
          "heatmap": [
           {
            "colorbar": {
             "outlinewidth": 0,
             "ticks": ""
            },
            "colorscale": [
             [
              0,
              "#0d0887"
             ],
             [
              0.1111111111111111,
              "#46039f"
             ],
             [
              0.2222222222222222,
              "#7201a8"
             ],
             [
              0.3333333333333333,
              "#9c179e"
             ],
             [
              0.4444444444444444,
              "#bd3786"
             ],
             [
              0.5555555555555556,
              "#d8576b"
             ],
             [
              0.6666666666666666,
              "#ed7953"
             ],
             [
              0.7777777777777778,
              "#fb9f3a"
             ],
             [
              0.8888888888888888,
              "#fdca26"
             ],
             [
              1,
              "#f0f921"
             ]
            ],
            "type": "heatmap"
           }
          ],
          "heatmapgl": [
           {
            "colorbar": {
             "outlinewidth": 0,
             "ticks": ""
            },
            "colorscale": [
             [
              0,
              "#0d0887"
             ],
             [
              0.1111111111111111,
              "#46039f"
             ],
             [
              0.2222222222222222,
              "#7201a8"
             ],
             [
              0.3333333333333333,
              "#9c179e"
             ],
             [
              0.4444444444444444,
              "#bd3786"
             ],
             [
              0.5555555555555556,
              "#d8576b"
             ],
             [
              0.6666666666666666,
              "#ed7953"
             ],
             [
              0.7777777777777778,
              "#fb9f3a"
             ],
             [
              0.8888888888888888,
              "#fdca26"
             ],
             [
              1,
              "#f0f921"
             ]
            ],
            "type": "heatmapgl"
           }
          ],
          "histogram": [
           {
            "marker": {
             "pattern": {
              "fillmode": "overlay",
              "size": 10,
              "solidity": 0.2
             }
            },
            "type": "histogram"
           }
          ],
          "histogram2d": [
           {
            "colorbar": {
             "outlinewidth": 0,
             "ticks": ""
            },
            "colorscale": [
             [
              0,
              "#0d0887"
             ],
             [
              0.1111111111111111,
              "#46039f"
             ],
             [
              0.2222222222222222,
              "#7201a8"
             ],
             [
              0.3333333333333333,
              "#9c179e"
             ],
             [
              0.4444444444444444,
              "#bd3786"
             ],
             [
              0.5555555555555556,
              "#d8576b"
             ],
             [
              0.6666666666666666,
              "#ed7953"
             ],
             [
              0.7777777777777778,
              "#fb9f3a"
             ],
             [
              0.8888888888888888,
              "#fdca26"
             ],
             [
              1,
              "#f0f921"
             ]
            ],
            "type": "histogram2d"
           }
          ],
          "histogram2dcontour": [
           {
            "colorbar": {
             "outlinewidth": 0,
             "ticks": ""
            },
            "colorscale": [
             [
              0,
              "#0d0887"
             ],
             [
              0.1111111111111111,
              "#46039f"
             ],
             [
              0.2222222222222222,
              "#7201a8"
             ],
             [
              0.3333333333333333,
              "#9c179e"
             ],
             [
              0.4444444444444444,
              "#bd3786"
             ],
             [
              0.5555555555555556,
              "#d8576b"
             ],
             [
              0.6666666666666666,
              "#ed7953"
             ],
             [
              0.7777777777777778,
              "#fb9f3a"
             ],
             [
              0.8888888888888888,
              "#fdca26"
             ],
             [
              1,
              "#f0f921"
             ]
            ],
            "type": "histogram2dcontour"
           }
          ],
          "mesh3d": [
           {
            "colorbar": {
             "outlinewidth": 0,
             "ticks": ""
            },
            "type": "mesh3d"
           }
          ],
          "parcoords": [
           {
            "line": {
             "colorbar": {
              "outlinewidth": 0,
              "ticks": ""
             }
            },
            "type": "parcoords"
           }
          ],
          "pie": [
           {
            "automargin": true,
            "type": "pie"
           }
          ],
          "scatter": [
           {
            "fillpattern": {
             "fillmode": "overlay",
             "size": 10,
             "solidity": 0.2
            },
            "type": "scatter"
           }
          ],
          "scatter3d": [
           {
            "line": {
             "colorbar": {
              "outlinewidth": 0,
              "ticks": ""
             }
            },
            "marker": {
             "colorbar": {
              "outlinewidth": 0,
              "ticks": ""
             }
            },
            "type": "scatter3d"
           }
          ],
          "scattercarpet": [
           {
            "marker": {
             "colorbar": {
              "outlinewidth": 0,
              "ticks": ""
             }
            },
            "type": "scattercarpet"
           }
          ],
          "scattergeo": [
           {
            "marker": {
             "colorbar": {
              "outlinewidth": 0,
              "ticks": ""
             }
            },
            "type": "scattergeo"
           }
          ],
          "scattergl": [
           {
            "marker": {
             "colorbar": {
              "outlinewidth": 0,
              "ticks": ""
             }
            },
            "type": "scattergl"
           }
          ],
          "scattermapbox": [
           {
            "marker": {
             "colorbar": {
              "outlinewidth": 0,
              "ticks": ""
             }
            },
            "type": "scattermapbox"
           }
          ],
          "scatterpolar": [
           {
            "marker": {
             "colorbar": {
              "outlinewidth": 0,
              "ticks": ""
             }
            },
            "type": "scatterpolar"
           }
          ],
          "scatterpolargl": [
           {
            "marker": {
             "colorbar": {
              "outlinewidth": 0,
              "ticks": ""
             }
            },
            "type": "scatterpolargl"
           }
          ],
          "scatterternary": [
           {
            "marker": {
             "colorbar": {
              "outlinewidth": 0,
              "ticks": ""
             }
            },
            "type": "scatterternary"
           }
          ],
          "surface": [
           {
            "colorbar": {
             "outlinewidth": 0,
             "ticks": ""
            },
            "colorscale": [
             [
              0,
              "#0d0887"
             ],
             [
              0.1111111111111111,
              "#46039f"
             ],
             [
              0.2222222222222222,
              "#7201a8"
             ],
             [
              0.3333333333333333,
              "#9c179e"
             ],
             [
              0.4444444444444444,
              "#bd3786"
             ],
             [
              0.5555555555555556,
              "#d8576b"
             ],
             [
              0.6666666666666666,
              "#ed7953"
             ],
             [
              0.7777777777777778,
              "#fb9f3a"
             ],
             [
              0.8888888888888888,
              "#fdca26"
             ],
             [
              1,
              "#f0f921"
             ]
            ],
            "type": "surface"
           }
          ],
          "table": [
           {
            "cells": {
             "fill": {
              "color": "#EBF0F8"
             },
             "line": {
              "color": "white"
             }
            },
            "header": {
             "fill": {
              "color": "#C8D4E3"
             },
             "line": {
              "color": "white"
             }
            },
            "type": "table"
           }
          ]
         },
         "layout": {
          "annotationdefaults": {
           "arrowcolor": "#2a3f5f",
           "arrowhead": 0,
           "arrowwidth": 1
          },
          "autotypenumbers": "strict",
          "coloraxis": {
           "colorbar": {
            "outlinewidth": 0,
            "ticks": ""
           }
          },
          "colorscale": {
           "diverging": [
            [
             0,
             "#8e0152"
            ],
            [
             0.1,
             "#c51b7d"
            ],
            [
             0.2,
             "#de77ae"
            ],
            [
             0.3,
             "#f1b6da"
            ],
            [
             0.4,
             "#fde0ef"
            ],
            [
             0.5,
             "#f7f7f7"
            ],
            [
             0.6,
             "#e6f5d0"
            ],
            [
             0.7,
             "#b8e186"
            ],
            [
             0.8,
             "#7fbc41"
            ],
            [
             0.9,
             "#4d9221"
            ],
            [
             1,
             "#276419"
            ]
           ],
           "sequential": [
            [
             0,
             "#0d0887"
            ],
            [
             0.1111111111111111,
             "#46039f"
            ],
            [
             0.2222222222222222,
             "#7201a8"
            ],
            [
             0.3333333333333333,
             "#9c179e"
            ],
            [
             0.4444444444444444,
             "#bd3786"
            ],
            [
             0.5555555555555556,
             "#d8576b"
            ],
            [
             0.6666666666666666,
             "#ed7953"
            ],
            [
             0.7777777777777778,
             "#fb9f3a"
            ],
            [
             0.8888888888888888,
             "#fdca26"
            ],
            [
             1,
             "#f0f921"
            ]
           ],
           "sequentialminus": [
            [
             0,
             "#0d0887"
            ],
            [
             0.1111111111111111,
             "#46039f"
            ],
            [
             0.2222222222222222,
             "#7201a8"
            ],
            [
             0.3333333333333333,
             "#9c179e"
            ],
            [
             0.4444444444444444,
             "#bd3786"
            ],
            [
             0.5555555555555556,
             "#d8576b"
            ],
            [
             0.6666666666666666,
             "#ed7953"
            ],
            [
             0.7777777777777778,
             "#fb9f3a"
            ],
            [
             0.8888888888888888,
             "#fdca26"
            ],
            [
             1,
             "#f0f921"
            ]
           ]
          },
          "colorway": [
           "#636efa",
           "#EF553B",
           "#00cc96",
           "#ab63fa",
           "#FFA15A",
           "#19d3f3",
           "#FF6692",
           "#B6E880",
           "#FF97FF",
           "#FECB52"
          ],
          "font": {
           "color": "#2a3f5f"
          },
          "geo": {
           "bgcolor": "white",
           "lakecolor": "white",
           "landcolor": "#E5ECF6",
           "showlakes": true,
           "showland": true,
           "subunitcolor": "white"
          },
          "hoverlabel": {
           "align": "left"
          },
          "hovermode": "closest",
          "mapbox": {
           "style": "light"
          },
          "paper_bgcolor": "white",
          "plot_bgcolor": "#E5ECF6",
          "polar": {
           "angularaxis": {
            "gridcolor": "white",
            "linecolor": "white",
            "ticks": ""
           },
           "bgcolor": "#E5ECF6",
           "radialaxis": {
            "gridcolor": "white",
            "linecolor": "white",
            "ticks": ""
           }
          },
          "scene": {
           "xaxis": {
            "backgroundcolor": "#E5ECF6",
            "gridcolor": "white",
            "gridwidth": 2,
            "linecolor": "white",
            "showbackground": true,
            "ticks": "",
            "zerolinecolor": "white"
           },
           "yaxis": {
            "backgroundcolor": "#E5ECF6",
            "gridcolor": "white",
            "gridwidth": 2,
            "linecolor": "white",
            "showbackground": true,
            "ticks": "",
            "zerolinecolor": "white"
           },
           "zaxis": {
            "backgroundcolor": "#E5ECF6",
            "gridcolor": "white",
            "gridwidth": 2,
            "linecolor": "white",
            "showbackground": true,
            "ticks": "",
            "zerolinecolor": "white"
           }
          },
          "shapedefaults": {
           "line": {
            "color": "#2a3f5f"
           }
          },
          "ternary": {
           "aaxis": {
            "gridcolor": "white",
            "linecolor": "white",
            "ticks": ""
           },
           "baxis": {
            "gridcolor": "white",
            "linecolor": "white",
            "ticks": ""
           },
           "bgcolor": "#E5ECF6",
           "caxis": {
            "gridcolor": "white",
            "linecolor": "white",
            "ticks": ""
           }
          },
          "title": {
           "x": 0.05
          },
          "xaxis": {
           "automargin": true,
           "gridcolor": "white",
           "linecolor": "white",
           "ticks": "",
           "title": {
            "standoff": 15
           },
           "zerolinecolor": "white",
           "zerolinewidth": 2
          },
          "yaxis": {
           "automargin": true,
           "gridcolor": "white",
           "linecolor": "white",
           "ticks": "",
           "title": {
            "standoff": 15
           },
           "zerolinecolor": "white",
           "zerolinewidth": 2
          }
         }
        },
        "xaxis": {
         "color": "white",
         "visible": false
        },
        "yaxis": {
         "color": "white",
         "visible": false
        }
       }
      }
     },
     "metadata": {},
     "output_type": "display_data"
    }
   ],
   "source": [
    "graphs.embedding_scatter_plot(df)"
   ]
  }
 ],
 "metadata": {
  "kernelspec": {
   "display_name": "env",
   "language": "python",
   "name": "python3"
  },
  "language_info": {
   "codemirror_mode": {
    "name": "ipython",
    "version": 3
   },
   "file_extension": ".py",
   "mimetype": "text/x-python",
   "name": "python",
   "nbconvert_exporter": "python",
   "pygments_lexer": "ipython3",
   "version": "3.10.6"
  },
  "orig_nbformat": 4,
  "vscode": {
   "interpreter": {
    "hash": "4bf6035422afc9dd7f10610966acea882db16c7bee124aef1416905398185a51"
   }
  }
 },
 "nbformat": 4,
 "nbformat_minor": 2
}
