{
    "cells": [
        {
            "cell_type": "code",
            "execution_count": 1,
            "metadata": {},
            "outputs": [],
            "source": [
                "import time\n",
                "import torch\n",
                "import itertools as it\n",
                "import more_itertools as mit\n",
                "from transformers import pipeline, PegasusForConditionalGeneration, PegasusTokenizer"
            ]
        },
        {
            "cell_type": "code",
            "execution_count": 2,
            "metadata": {},
            "outputs": [],
            "source": [
                "model_name = \"google/pegasus-xsum\"\n",
                "tokenizer = PegasusTokenizer.from_pretrained(model_name)\n",
                "model = PegasusForConditionalGeneration.from_pretrained(model_name)"
            ]
        },
        {
            "cell_type": "code",
            "execution_count": 3,
            "metadata": {},
            "outputs": [],
            "source": [
                "def summarize(text: str | list[str]) -> str | list[str]:\n",
                "    # Avoid CUDA out of memory errors by chunking (should only use ~8GB)\n",
                "    if type(text) is list and len(text) > 5:\n",
                "        return list(it.chain(*map(summarize, mit.chunked(text, 5))))\n",
                "\n",
                "    # Tokenize input\n",
                "    tokens = tokenizer(text, truncation=True, padding=\"longest\", return_tensors=\"pt\")\n",
                "    \n",
                "    # Use CUDA to accelerate computations\n",
                "    tokens = tokens.to(\"cuda\")\n",
                "    txt_summary = model.to(\"cuda\").generate(**tokens)\n",
                "    \n",
                "    # Decode the output\n",
                "    response = tokenizer.batch_decode(txt_summary, skip_special_tokens=True)\n",
                "    return response if type(text) is not str else response[0]"
            ]
        },
        {
            "cell_type": "code",
            "execution_count": 4,
            "metadata": {},
            "outputs": [],
            "source": [
                "filename = \"/../../24212003_requirements_for_artificial_intelligence/attachments/2662901.txt\"\n",
                "\n",
                "with open(filename, \"r\", encoding=\"utf-8\") as f:\n",
                "    text = f.read()"
            ]
        },
        {
            "cell_type": "code",
            "execution_count": 5,
            "metadata": {},
            "outputs": [
                {
                    "name": "stderr",
                    "output_type": "stream",
                    "text": [
                        "/home/felix/.local/lib/python3.10/site-packages/transformers/generation_utils.py:1359: UserWarning: Neither `max_length` nor `max_new_tokens` has been set, `max_length` will default to 64 (`self.config.max_length`). Controlling `max_length` via the config is deprecated and `max_length` will be removed from the config in v5 of Transformers -- we recommend using `max_new_tokens` to control the maximum length of the generation.\n",
                        "  warnings.warn(\n"
                    ]
                },
                {
                    "name": "stdout",
                    "output_type": "stream",
                    "text": [
                        "Total time: 5.972177267074585\n"
                    ]
                },
                {
                    "data": {
                        "text/plain": [
                            "['The European Association of Co-operative Banks (EACB) represents, promotes and defends the common interests of its 27 member institutions and of cooperative banks with regard to banking as well as to co-operative legislation.',\n",
                            " 'The European Association of Co-operative Banks (EACB) has released the following statement on the European Commission’s Artificial Intelligence (AI) legislative proposal.',\n",
                            " 'The European Association of Credit Banks (EACB) has given its reaction to the European Commission’s proposal on artificial intelligence (AI) in the financial sector.',\n",
                            " \"Recital 80 of the European Parliament and the Council's Capital Requirements Directive (CRR) on prudential requirements for credit institutions and investment firms contains the following:\",\n",
                            " 'Co-operative banks have been exploring the possibility offered by AI systems with the GDPR in mind.',\n",
                            " 'We would welcome a more targeted approach, limited to rule-based techniques and approaches built on AI in the sense that such systems without human intervention should fall within the scope of an AI system.',\n",
                            " 'The European Commission has published new proposals on artificial intelligence (AI) for the EU, which include:',\n",
                            " 'Here are some of the key issues raised by the European Banking Authority (EBA) in its consultation on the proposed Regulation on artificial intelligence (AI).',\n",
                            " 'We are of the opinion that the Regulation does not clearly spell out what a regulatory sandbox is and how it will work.',\n",
                            " 'The European Advisory Council on Digital Policy (EACB) invites comments on the following paper:']"
                        ]
                    },
                    "execution_count": 5,
                    "metadata": {},
                    "output_type": "execute_result"
                }
            ],
            "source": [
                "# CUDA accelerated is 10x faster than CPU!\n",
                "start = time.time()\n",
                "response = summarize(text.split(\"\\n\\n\"))\n",
                "print(f\"Total time: {time.time() - start}\")\n",
                "response"
            ]
        },
        {
            "cell_type": "code",
            "execution_count": 6,
            "metadata": {},
            "outputs": [
                {
                    "name": "stdout",
                    "output_type": "stream",
                    "text": [
                        "46.69537925720215\n"
                    ]
                },
                {
                    "data": {
                        "text/plain": [
                            "['The European Association of Co-operative Banks (EACB) represents, promotes and defends the common interests of its 27 member institutions and of cooperative banks with regard to banking as well as to co-operative legislation.',\n",
                            " 'The European Association of Co-operative Banks (EACB) has released the following statement on the European Commission’s Artificial Intelligence (AI) legislative proposal.',\n",
                            " 'The European Association of Credit Banks (EACB) has given its reaction to the European Commission’s proposal on artificial intelligence (AI) in the financial sector.',\n",
                            " \"Recital 80 of the European Parliament and the Council's Capital Requirements Directive (CRR) on prudential requirements for credit institutions and investment firms contains the following:\",\n",
                            " 'Co-operative banks have been exploring the possibility offered by AI systems with the GDPR in mind.',\n",
                            " 'We would welcome a more targeted approach, limited to rule-based techniques and approaches built on AI in the sense that such systems without human intervention should fall within the scope of an AI system.',\n",
                            " 'The European Commission has published new proposals on artificial intelligence (AI) for the EU, which include:',\n",
                            " 'Here are some of the key issues raised by the European Banking Authority (EBA) in its consultation on the proposed Regulation on artificial intelligence (AI).',\n",
                            " 'We are of the opinion that the Regulation does not clearly spell out what a regulatory sandbox is and how it will work.',\n",
                            " 'The European Advisory Council on Digital Policy (EACB) invites comments on the following paper:']"
                        ]
                    },
                    "execution_count": 6,
                    "metadata": {},
                    "output_type": "execute_result"
                }
            ],
            "source": [
                "start = time.time()\n",
                "tokens = tokenizer(\n",
                "    text.split(\"\\n\\n\"), padding=\"longest\", truncation=True, return_tensors=\"pt\"\n",
                ").to(\"cpu\")\n",
                "txt_summary = model.to(\"cpu\").generate(**tokens)\n",
                "response = tokenizer.batch_decode(txt_summary, skip_special_tokens=True)\n",
                "print(time.time() - start)\n",
                "response"
            ]
        }
    ],
    "metadata": {
        "kernelspec": {
            "display_name": "Python 3",
            "language": "python",
            "name": "python3"
        },
        "language_info": {
            "codemirror_mode": {
                "name": "ipython",
                "version": 3
            },
            "file_extension": ".py",
            "mimetype": "text/x-python",
            "name": "python",
            "nbconvert_exporter": "python",
            "pygments_lexer": "ipython3",
            "version": "3.10.6"
        },
        "orig_nbformat": 4,
        "vscode": {
            "interpreter": {
                "hash": "916dbcbb3f70747c44a77c7bcd40155683ae19c65e1c03b4aa3499c5328201f1"
            }
        }
    },
    "nbformat": 4,
    "nbformat_minor": 2
}
